{
 "cells": [
  {
   "cell_type": "code",
   "execution_count": 39,
   "metadata": {},
   "outputs": [],
   "source": [
    "import pandas as pd\n",
    "import csv\n",
    "import json\n",
    "import numpy as np\n",
    "from census import Census\n",
    "import requests\n",
    "from us import states\n",
    "from api_key import weather_key\n",
    "import matplotlib.pyplot as plt\n",
    "import scipy.stats as sts"
   ]
  },
  {
   "cell_type": "code",
   "execution_count": 91,
   "metadata": {},
   "outputs": [],
   "source": [
    "#call in the 2019 US accident csv\n",
    "file_path = 'final_accident.csv'\n",
    "final_accident_df = pd.read_csv(file_path)\n",
    "\n",
    "#pull california accidents out of 2019 US Accident\n",
    "ca_totals = final_accident_df[final_accident_df.State == 'CA']"
   ]
  },
  {
   "cell_type": "code",
   "execution_count": 55,
   "metadata": {},
   "outputs": [
    {
     "data": {
      "text/plain": [
       "216266"
      ]
     },
     "execution_count": 55,
     "metadata": {},
     "output_type": "execute_result"
    }
   ],
   "source": [
    "#call on spring accident file\n",
    "file_path = 'spring_accidents.csv'\n",
    "\n",
    "spring_accidents = pd.read_csv(file_path)\n",
    "\n",
    "#total spring accidents\n",
    "spring_totals = spring_accidents['Date'].count()\n",
    "spring_totals\n",
    "\n",
    "\n",
    "#total summer accidents for US\n",
    "us_spring_total = spring_accidents['Date'].count()\n",
    "us_spring_total"
   ]
  },
  {
   "cell_type": "code",
   "execution_count": 92,
   "metadata": {},
   "outputs": [],
   "source": [
    "# state_spring = spring_accidents.loc[spring_accidents.State == 'CA', : ]\n",
    "# state_spring\n",
    "\n",
    "# create df for spring accidents in CA\n",
    "state_spring = spring_accidents[spring_accidents.State == 'CA']"
   ]
  },
  {
   "cell_type": "code",
   "execution_count": 57,
   "metadata": {},
   "outputs": [
    {
     "data": {
      "text/plain": [
       "35459"
      ]
     },
     "execution_count": 57,
     "metadata": {},
     "output_type": "execute_result"
    }
   ],
   "source": [
    "#total spring accidents for CA\n",
    "ca_spring_totals = state_spring['Date'].count()\n",
    "ca_spring_totals"
   ]
  },
  {
   "cell_type": "code",
   "execution_count": 58,
   "metadata": {},
   "outputs": [
    {
     "data": {
      "text/plain": [
       "16.396012318163745"
      ]
     },
     "execution_count": 58,
     "metadata": {},
     "output_type": "execute_result"
    }
   ],
   "source": [
    "#% of spring totals (turn into pie chart with all seasons)\n",
    "spring_percent = (ca_spring_totals / us_spring_total) * 100\n",
    "spring_percent"
   ]
  },
  {
   "cell_type": "code",
   "execution_count": 59,
   "metadata": {},
   "outputs": [
    {
     "data": {
      "text/html": [
       "<div>\n",
       "<style scoped>\n",
       "    .dataframe tbody tr th:only-of-type {\n",
       "        vertical-align: middle;\n",
       "    }\n",
       "\n",
       "    .dataframe tbody tr th {\n",
       "        vertical-align: top;\n",
       "    }\n",
       "\n",
       "    .dataframe thead th {\n",
       "        text-align: right;\n",
       "    }\n",
       "</style>\n",
       "<table border=\"1\" class=\"dataframe\">\n",
       "  <thead>\n",
       "    <tr style=\"text-align: right;\">\n",
       "      <th></th>\n",
       "      <th>Start_Lat</th>\n",
       "      <th>Start_Lng</th>\n",
       "      <th>Temperature(F)</th>\n",
       "      <th>Wind_Chill(F)</th>\n",
       "      <th>Visibility(mi)</th>\n",
       "      <th>Wind_Speed(mph)</th>\n",
       "      <th>Precipitation(in)</th>\n",
       "    </tr>\n",
       "  </thead>\n",
       "  <tbody>\n",
       "    <tr>\n",
       "      <th>count</th>\n",
       "      <td>35459.000000</td>\n",
       "      <td>35459.000000</td>\n",
       "      <td>34762.000000</td>\n",
       "      <td>23825.000000</td>\n",
       "      <td>34942.000000</td>\n",
       "      <td>31948.000000</td>\n",
       "      <td>23187.000000</td>\n",
       "    </tr>\n",
       "    <tr>\n",
       "      <th>mean</th>\n",
       "      <td>35.651709</td>\n",
       "      <td>-119.657731</td>\n",
       "      <td>61.363221</td>\n",
       "      <td>62.572764</td>\n",
       "      <td>9.304078</td>\n",
       "      <td>7.523507</td>\n",
       "      <td>0.004578</td>\n",
       "    </tr>\n",
       "    <tr>\n",
       "      <th>std</th>\n",
       "      <td>2.004587</td>\n",
       "      <td>1.964952</td>\n",
       "      <td>8.811248</td>\n",
       "      <td>9.268104</td>\n",
       "      <td>2.205845</td>\n",
       "      <td>5.233050</td>\n",
       "      <td>0.026256</td>\n",
       "    </tr>\n",
       "    <tr>\n",
       "      <th>min</th>\n",
       "      <td>32.560162</td>\n",
       "      <td>-124.214531</td>\n",
       "      <td>12.200000</td>\n",
       "      <td>16.300000</td>\n",
       "      <td>0.000000</td>\n",
       "      <td>0.000000</td>\n",
       "      <td>0.000000</td>\n",
       "    </tr>\n",
       "    <tr>\n",
       "      <th>25%</th>\n",
       "      <td>33.987555</td>\n",
       "      <td>-121.898865</td>\n",
       "      <td>55.400000</td>\n",
       "      <td>57.000000</td>\n",
       "      <td>10.000000</td>\n",
       "      <td>3.500000</td>\n",
       "      <td>0.000000</td>\n",
       "    </tr>\n",
       "    <tr>\n",
       "      <th>50%</th>\n",
       "      <td>34.259666</td>\n",
       "      <td>-118.470169</td>\n",
       "      <td>61.000000</td>\n",
       "      <td>62.000000</td>\n",
       "      <td>10.000000</td>\n",
       "      <td>7.000000</td>\n",
       "      <td>0.000000</td>\n",
       "    </tr>\n",
       "    <tr>\n",
       "      <th>75%</th>\n",
       "      <td>37.702272</td>\n",
       "      <td>-118.028805</td>\n",
       "      <td>66.000000</td>\n",
       "      <td>68.000000</td>\n",
       "      <td>10.000000</td>\n",
       "      <td>10.000000</td>\n",
       "      <td>0.000000</td>\n",
       "    </tr>\n",
       "    <tr>\n",
       "      <th>max</th>\n",
       "      <td>41.919647</td>\n",
       "      <td>-114.530205</td>\n",
       "      <td>95.000000</td>\n",
       "      <td>95.000000</td>\n",
       "      <td>90.000000</td>\n",
       "      <td>116.000000</td>\n",
       "      <td>1.050000</td>\n",
       "    </tr>\n",
       "  </tbody>\n",
       "</table>\n",
       "</div>"
      ],
      "text/plain": [
       "          Start_Lat     Start_Lng  Temperature(F)  Wind_Chill(F)  \\\n",
       "count  35459.000000  35459.000000    34762.000000   23825.000000   \n",
       "mean      35.651709   -119.657731       61.363221      62.572764   \n",
       "std        2.004587      1.964952        8.811248       9.268104   \n",
       "min       32.560162   -124.214531       12.200000      16.300000   \n",
       "25%       33.987555   -121.898865       55.400000      57.000000   \n",
       "50%       34.259666   -118.470169       61.000000      62.000000   \n",
       "75%       37.702272   -118.028805       66.000000      68.000000   \n",
       "max       41.919647   -114.530205       95.000000      95.000000   \n",
       "\n",
       "       Visibility(mi)  Wind_Speed(mph)  Precipitation(in)  \n",
       "count    34942.000000     31948.000000       23187.000000  \n",
       "mean         9.304078         7.523507           0.004578  \n",
       "std          2.205845         5.233050           0.026256  \n",
       "min          0.000000         0.000000           0.000000  \n",
       "25%         10.000000         3.500000           0.000000  \n",
       "50%         10.000000         7.000000           0.000000  \n",
       "75%         10.000000        10.000000           0.000000  \n",
       "max         90.000000       116.000000           1.050000  "
      ]
     },
     "execution_count": 59,
     "metadata": {},
     "output_type": "execute_result"
    }
   ],
   "source": [
    "state_spring.describe()"
   ]
  },
  {
   "cell_type": "code",
   "execution_count": 66,
   "metadata": {},
   "outputs": [
    {
     "data": {
      "text/plain": [
       "208981"
      ]
     },
     "execution_count": 66,
     "metadata": {},
     "output_type": "execute_result"
    }
   ],
   "source": [
    "file_path3 = 'summer_accidents.csv'\n",
    "\n",
    "summer_accidents = pd.read_csv(file_path3)\n",
    "\n",
    "#total summer accidents for US\n",
    "us_summer_total = summer_accidents['Date'].count()\n",
    "us_summer_total"
   ]
  },
  {
   "cell_type": "code",
   "execution_count": 93,
   "metadata": {},
   "outputs": [],
   "source": [
    "# create df for summer accidents in CA\n",
    "state_summer = summer_accidents[summer_accidents.State == 'CA']"
   ]
  },
  {
   "cell_type": "code",
   "execution_count": 68,
   "metadata": {},
   "outputs": [
    {
     "data": {
      "text/plain": [
       "33056"
      ]
     },
     "execution_count": 68,
     "metadata": {},
     "output_type": "execute_result"
    }
   ],
   "source": [
    "#total summer accidents\n",
    "ca_summer_totals = state_summer['Date'].count()\n",
    "ca_summer_totals"
   ]
  },
  {
   "cell_type": "code",
   "execution_count": 69,
   "metadata": {},
   "outputs": [
    {
     "data": {
      "text/plain": [
       "15.817705915848808"
      ]
     },
     "execution_count": 69,
     "metadata": {},
     "output_type": "execute_result"
    }
   ],
   "source": [
    "#% of summer totals (turn into pie chart with all seasons)\n",
    "summer_percent = (ca_summer_totals / us_summer_total) * 100\n",
    "summer_percent"
   ]
  },
  {
   "cell_type": "code",
   "execution_count": 70,
   "metadata": {},
   "outputs": [
    {
     "data": {
      "text/html": [
       "<div>\n",
       "<style scoped>\n",
       "    .dataframe tbody tr th:only-of-type {\n",
       "        vertical-align: middle;\n",
       "    }\n",
       "\n",
       "    .dataframe tbody tr th {\n",
       "        vertical-align: top;\n",
       "    }\n",
       "\n",
       "    .dataframe thead th {\n",
       "        text-align: right;\n",
       "    }\n",
       "</style>\n",
       "<table border=\"1\" class=\"dataframe\">\n",
       "  <thead>\n",
       "    <tr style=\"text-align: right;\">\n",
       "      <th></th>\n",
       "      <th>Start_Lat</th>\n",
       "      <th>Start_Lng</th>\n",
       "      <th>Temperature(F)</th>\n",
       "      <th>Wind_Chill(F)</th>\n",
       "      <th>Visibility(mi)</th>\n",
       "      <th>Wind_Speed(mph)</th>\n",
       "      <th>Precipitation(in)</th>\n",
       "    </tr>\n",
       "  </thead>\n",
       "  <tbody>\n",
       "    <tr>\n",
       "      <th>count</th>\n",
       "      <td>33056.000000</td>\n",
       "      <td>33056.000000</td>\n",
       "      <td>32404.000000</td>\n",
       "      <td>32033.000000</td>\n",
       "      <td>32554.000000</td>\n",
       "      <td>32221.000000</td>\n",
       "      <td>29508.000000</td>\n",
       "    </tr>\n",
       "    <tr>\n",
       "      <th>mean</th>\n",
       "      <td>35.717729</td>\n",
       "      <td>-119.677143</td>\n",
       "      <td>73.911986</td>\n",
       "      <td>73.898230</td>\n",
       "      <td>9.342193</td>\n",
       "      <td>6.758543</td>\n",
       "      <td>0.000021</td>\n",
       "    </tr>\n",
       "    <tr>\n",
       "      <th>std</th>\n",
       "      <td>2.047194</td>\n",
       "      <td>1.964553</td>\n",
       "      <td>10.739860</td>\n",
       "      <td>10.743034</td>\n",
       "      <td>2.009406</td>\n",
       "      <td>5.174915</td>\n",
       "      <td>0.001503</td>\n",
       "    </tr>\n",
       "    <tr>\n",
       "      <th>min</th>\n",
       "      <td>32.558357</td>\n",
       "      <td>-124.367607</td>\n",
       "      <td>36.000000</td>\n",
       "      <td>36.000000</td>\n",
       "      <td>0.000000</td>\n",
       "      <td>0.000000</td>\n",
       "      <td>0.000000</td>\n",
       "    </tr>\n",
       "    <tr>\n",
       "      <th>25%</th>\n",
       "      <td>33.992550</td>\n",
       "      <td>-121.872625</td>\n",
       "      <td>66.000000</td>\n",
       "      <td>66.000000</td>\n",
       "      <td>10.000000</td>\n",
       "      <td>3.000000</td>\n",
       "      <td>0.000000</td>\n",
       "    </tr>\n",
       "    <tr>\n",
       "      <th>50%</th>\n",
       "      <td>34.317337</td>\n",
       "      <td>-118.490288</td>\n",
       "      <td>72.000000</td>\n",
       "      <td>72.000000</td>\n",
       "      <td>10.000000</td>\n",
       "      <td>7.000000</td>\n",
       "      <td>0.000000</td>\n",
       "    </tr>\n",
       "    <tr>\n",
       "      <th>75%</th>\n",
       "      <td>37.732009</td>\n",
       "      <td>-118.023750</td>\n",
       "      <td>81.000000</td>\n",
       "      <td>81.000000</td>\n",
       "      <td>10.000000</td>\n",
       "      <td>10.000000</td>\n",
       "      <td>0.000000</td>\n",
       "    </tr>\n",
       "    <tr>\n",
       "      <th>max</th>\n",
       "      <td>41.854874</td>\n",
       "      <td>-114.533081</td>\n",
       "      <td>108.000000</td>\n",
       "      <td>108.000000</td>\n",
       "      <td>101.000000</td>\n",
       "      <td>142.000000</td>\n",
       "      <td>0.230000</td>\n",
       "    </tr>\n",
       "  </tbody>\n",
       "</table>\n",
       "</div>"
      ],
      "text/plain": [
       "          Start_Lat     Start_Lng  Temperature(F)  Wind_Chill(F)  \\\n",
       "count  33056.000000  33056.000000    32404.000000   32033.000000   \n",
       "mean      35.717729   -119.677143       73.911986      73.898230   \n",
       "std        2.047194      1.964553       10.739860      10.743034   \n",
       "min       32.558357   -124.367607       36.000000      36.000000   \n",
       "25%       33.992550   -121.872625       66.000000      66.000000   \n",
       "50%       34.317337   -118.490288       72.000000      72.000000   \n",
       "75%       37.732009   -118.023750       81.000000      81.000000   \n",
       "max       41.854874   -114.533081      108.000000     108.000000   \n",
       "\n",
       "       Visibility(mi)  Wind_Speed(mph)  Precipitation(in)  \n",
       "count    32554.000000     32221.000000       29508.000000  \n",
       "mean         9.342193         6.758543           0.000021  \n",
       "std          2.009406         5.174915           0.001503  \n",
       "min          0.000000         0.000000           0.000000  \n",
       "25%         10.000000         3.000000           0.000000  \n",
       "50%         10.000000         7.000000           0.000000  \n",
       "75%         10.000000        10.000000           0.000000  \n",
       "max        101.000000       142.000000           0.230000  "
      ]
     },
     "execution_count": 70,
     "metadata": {},
     "output_type": "execute_result"
    }
   ],
   "source": [
    "#overall stats for summer\n",
    "state_summer.describe()"
   ]
  },
  {
   "cell_type": "code",
   "execution_count": 72,
   "metadata": {},
   "outputs": [
    {
     "data": {
      "text/plain": [
       "276370"
      ]
     },
     "execution_count": 72,
     "metadata": {},
     "output_type": "execute_result"
    }
   ],
   "source": [
    "file_path4 = 'fall_accidents.csv'\n",
    "\n",
    "fall_accidents = pd.read_csv(file_path4)\n",
    "\n",
    "#total fall accidents for US\n",
    "us_fall_total = fall_accidents['Date'].count()\n",
    "us_fall_total"
   ]
  },
  {
   "cell_type": "code",
   "execution_count": 94,
   "metadata": {},
   "outputs": [],
   "source": [
    "# create df for fall accidents in CA\n",
    "state_fall = fall_accidents[fall_accidents.State == 'CA']"
   ]
  },
  {
   "cell_type": "code",
   "execution_count": 74,
   "metadata": {},
   "outputs": [
    {
     "data": {
      "text/plain": [
       "86691"
      ]
     },
     "execution_count": 74,
     "metadata": {},
     "output_type": "execute_result"
    }
   ],
   "source": [
    "#total fall accidents\n",
    "ca_fall_totals = state_fall['Date'].count()\n",
    "ca_fall_totals"
   ]
  },
  {
   "cell_type": "code",
   "execution_count": 75,
   "metadata": {},
   "outputs": [
    {
     "data": {
      "text/plain": [
       "31.367731664073524"
      ]
     },
     "execution_count": 75,
     "metadata": {},
     "output_type": "execute_result"
    }
   ],
   "source": [
    "#% of fall totals (turn into pie chart with all seasons) \n",
    "fall_percent = (ca_fall_totals / us_fall_total) * 100\n",
    "fall_percent"
   ]
  },
  {
   "cell_type": "code",
   "execution_count": 76,
   "metadata": {},
   "outputs": [
    {
     "data": {
      "text/html": [
       "<div>\n",
       "<style scoped>\n",
       "    .dataframe tbody tr th:only-of-type {\n",
       "        vertical-align: middle;\n",
       "    }\n",
       "\n",
       "    .dataframe tbody tr th {\n",
       "        vertical-align: top;\n",
       "    }\n",
       "\n",
       "    .dataframe thead th {\n",
       "        text-align: right;\n",
       "    }\n",
       "</style>\n",
       "<table border=\"1\" class=\"dataframe\">\n",
       "  <thead>\n",
       "    <tr style=\"text-align: right;\">\n",
       "      <th></th>\n",
       "      <th>Start_Lat</th>\n",
       "      <th>Start_Lng</th>\n",
       "      <th>Temperature(F)</th>\n",
       "      <th>Wind_Chill(F)</th>\n",
       "      <th>Visibility(mi)</th>\n",
       "      <th>Wind_Speed(mph)</th>\n",
       "      <th>Precipitation(in)</th>\n",
       "    </tr>\n",
       "  </thead>\n",
       "  <tbody>\n",
       "    <tr>\n",
       "      <th>count</th>\n",
       "      <td>86691.000000</td>\n",
       "      <td>86691.000000</td>\n",
       "      <td>83675.000000</td>\n",
       "      <td>83016.000000</td>\n",
       "      <td>84121.000000</td>\n",
       "      <td>83467.000000</td>\n",
       "      <td>76905.00000</td>\n",
       "    </tr>\n",
       "    <tr>\n",
       "      <th>mean</th>\n",
       "      <td>35.599666</td>\n",
       "      <td>-119.502504</td>\n",
       "      <td>68.938608</td>\n",
       "      <td>68.844897</td>\n",
       "      <td>9.445811</td>\n",
       "      <td>5.530401</td>\n",
       "      <td>0.00133</td>\n",
       "    </tr>\n",
       "    <tr>\n",
       "      <th>std</th>\n",
       "      <td>2.057906</td>\n",
       "      <td>1.934064</td>\n",
       "      <td>12.387201</td>\n",
       "      <td>12.545923</td>\n",
       "      <td>2.090450</td>\n",
       "      <td>5.080861</td>\n",
       "      <td>0.08883</td>\n",
       "    </tr>\n",
       "    <tr>\n",
       "      <th>min</th>\n",
       "      <td>32.558247</td>\n",
       "      <td>-124.223640</td>\n",
       "      <td>10.000000</td>\n",
       "      <td>1.000000</td>\n",
       "      <td>0.000000</td>\n",
       "      <td>0.000000</td>\n",
       "      <td>0.00000</td>\n",
       "    </tr>\n",
       "    <tr>\n",
       "      <th>25%</th>\n",
       "      <td>33.969101</td>\n",
       "      <td>-121.535350</td>\n",
       "      <td>61.000000</td>\n",
       "      <td>61.000000</td>\n",
       "      <td>10.000000</td>\n",
       "      <td>0.000000</td>\n",
       "      <td>0.00000</td>\n",
       "    </tr>\n",
       "    <tr>\n",
       "      <th>50%</th>\n",
       "      <td>34.204750</td>\n",
       "      <td>-118.423642</td>\n",
       "      <td>69.000000</td>\n",
       "      <td>69.000000</td>\n",
       "      <td>10.000000</td>\n",
       "      <td>5.000000</td>\n",
       "      <td>0.00000</td>\n",
       "    </tr>\n",
       "    <tr>\n",
       "      <th>75%</th>\n",
       "      <td>37.697088</td>\n",
       "      <td>-117.909208</td>\n",
       "      <td>77.000000</td>\n",
       "      <td>77.000000</td>\n",
       "      <td>10.000000</td>\n",
       "      <td>8.000000</td>\n",
       "      <td>0.00000</td>\n",
       "    </tr>\n",
       "    <tr>\n",
       "      <th>max</th>\n",
       "      <td>42.005278</td>\n",
       "      <td>-114.481355</td>\n",
       "      <td>104.000000</td>\n",
       "      <td>104.000000</td>\n",
       "      <td>80.000000</td>\n",
       "      <td>82.000000</td>\n",
       "      <td>24.00000</td>\n",
       "    </tr>\n",
       "  </tbody>\n",
       "</table>\n",
       "</div>"
      ],
      "text/plain": [
       "          Start_Lat     Start_Lng  Temperature(F)  Wind_Chill(F)  \\\n",
       "count  86691.000000  86691.000000    83675.000000   83016.000000   \n",
       "mean      35.599666   -119.502504       68.938608      68.844897   \n",
       "std        2.057906      1.934064       12.387201      12.545923   \n",
       "min       32.558247   -124.223640       10.000000       1.000000   \n",
       "25%       33.969101   -121.535350       61.000000      61.000000   \n",
       "50%       34.204750   -118.423642       69.000000      69.000000   \n",
       "75%       37.697088   -117.909208       77.000000      77.000000   \n",
       "max       42.005278   -114.481355      104.000000     104.000000   \n",
       "\n",
       "       Visibility(mi)  Wind_Speed(mph)  Precipitation(in)  \n",
       "count    84121.000000     83467.000000        76905.00000  \n",
       "mean         9.445811         5.530401            0.00133  \n",
       "std          2.090450         5.080861            0.08883  \n",
       "min          0.000000         0.000000            0.00000  \n",
       "25%         10.000000         0.000000            0.00000  \n",
       "50%         10.000000         5.000000            0.00000  \n",
       "75%         10.000000         8.000000            0.00000  \n",
       "max         80.000000        82.000000           24.00000  "
      ]
     },
     "execution_count": 76,
     "metadata": {},
     "output_type": "execute_result"
    }
   ],
   "source": [
    "#overall stats for fall\n",
    "state_fall.describe()"
   ]
  },
  {
   "cell_type": "code",
   "execution_count": 78,
   "metadata": {},
   "outputs": [
    {
     "data": {
      "text/plain": [
       "252116"
      ]
     },
     "execution_count": 78,
     "metadata": {},
     "output_type": "execute_result"
    }
   ],
   "source": [
    "file_path5 = 'winter_accidents.csv'\n",
    "winter_accidents = pd.read_csv(file_path5)\n",
    "\n",
    "#total winter accidents for US\n",
    "us_winter_total = winter_accidents['Date'].count()\n",
    "us_winter_total"
   ]
  },
  {
   "cell_type": "code",
   "execution_count": 95,
   "metadata": {},
   "outputs": [],
   "source": [
    "# create df for winter accidents in CA\n",
    "state_winter = winter_accidents[winter_accidents.State == 'CA']"
   ]
  },
  {
   "cell_type": "code",
   "execution_count": 80,
   "metadata": {},
   "outputs": [
    {
     "data": {
      "text/plain": [
       "58156"
      ]
     },
     "execution_count": 80,
     "metadata": {},
     "output_type": "execute_result"
    }
   ],
   "source": [
    "#total winter accidents\n",
    "ca_winter_totals = state_winter['Date'].count()\n",
    "ca_winter_totals"
   ]
  },
  {
   "cell_type": "code",
   "execution_count": 81,
   "metadata": {},
   "outputs": [
    {
     "data": {
      "text/plain": [
       "23.067159561471705"
      ]
     },
     "execution_count": 81,
     "metadata": {},
     "output_type": "execute_result"
    }
   ],
   "source": [
    "#% of winter totals (turn into pie chart with all seasons) \n",
    "winter_percent = (ca_winter_totals / us_winter_total) * 100\n",
    "winter_percent"
   ]
  },
  {
   "cell_type": "code",
   "execution_count": 82,
   "metadata": {},
   "outputs": [
    {
     "data": {
      "text/html": [
       "<div>\n",
       "<style scoped>\n",
       "    .dataframe tbody tr th:only-of-type {\n",
       "        vertical-align: middle;\n",
       "    }\n",
       "\n",
       "    .dataframe tbody tr th {\n",
       "        vertical-align: top;\n",
       "    }\n",
       "\n",
       "    .dataframe thead th {\n",
       "        text-align: right;\n",
       "    }\n",
       "</style>\n",
       "<table border=\"1\" class=\"dataframe\">\n",
       "  <thead>\n",
       "    <tr style=\"text-align: right;\">\n",
       "      <th></th>\n",
       "      <th>Start_Lat</th>\n",
       "      <th>Start_Lng</th>\n",
       "      <th>Temperature(F)</th>\n",
       "      <th>Wind_Chill(F)</th>\n",
       "      <th>Visibility(mi)</th>\n",
       "      <th>Wind_Speed(mph)</th>\n",
       "      <th>Precipitation(in)</th>\n",
       "    </tr>\n",
       "  </thead>\n",
       "  <tbody>\n",
       "    <tr>\n",
       "      <th>count</th>\n",
       "      <td>58156.000000</td>\n",
       "      <td>58156.000000</td>\n",
       "      <td>56270.000000</td>\n",
       "      <td>36299.000000</td>\n",
       "      <td>56777.000000</td>\n",
       "      <td>50561.000000</td>\n",
       "      <td>36223.000000</td>\n",
       "    </tr>\n",
       "    <tr>\n",
       "      <th>mean</th>\n",
       "      <td>35.615610</td>\n",
       "      <td>-119.551599</td>\n",
       "      <td>54.033355</td>\n",
       "      <td>53.120560</td>\n",
       "      <td>8.365935</td>\n",
       "      <td>6.050357</td>\n",
       "      <td>0.017690</td>\n",
       "    </tr>\n",
       "    <tr>\n",
       "      <th>std</th>\n",
       "      <td>2.041900</td>\n",
       "      <td>1.951281</td>\n",
       "      <td>8.033359</td>\n",
       "      <td>9.563685</td>\n",
       "      <td>3.089543</td>\n",
       "      <td>5.174068</td>\n",
       "      <td>0.052383</td>\n",
       "    </tr>\n",
       "    <tr>\n",
       "      <th>min</th>\n",
       "      <td>32.558357</td>\n",
       "      <td>-124.221695</td>\n",
       "      <td>-5.800000</td>\n",
       "      <td>3.000000</td>\n",
       "      <td>0.000000</td>\n",
       "      <td>0.000000</td>\n",
       "      <td>0.000000</td>\n",
       "    </tr>\n",
       "    <tr>\n",
       "      <th>25%</th>\n",
       "      <td>33.988501</td>\n",
       "      <td>-121.723994</td>\n",
       "      <td>50.000000</td>\n",
       "      <td>48.000000</td>\n",
       "      <td>7.000000</td>\n",
       "      <td>3.000000</td>\n",
       "      <td>0.000000</td>\n",
       "    </tr>\n",
       "    <tr>\n",
       "      <th>50%</th>\n",
       "      <td>34.247510</td>\n",
       "      <td>-118.443596</td>\n",
       "      <td>54.000000</td>\n",
       "      <td>54.000000</td>\n",
       "      <td>10.000000</td>\n",
       "      <td>5.000000</td>\n",
       "      <td>0.000000</td>\n",
       "    </tr>\n",
       "    <tr>\n",
       "      <th>75%</th>\n",
       "      <td>37.701818</td>\n",
       "      <td>-117.962052</td>\n",
       "      <td>59.000000</td>\n",
       "      <td>60.000000</td>\n",
       "      <td>10.000000</td>\n",
       "      <td>8.100000</td>\n",
       "      <td>0.000000</td>\n",
       "    </tr>\n",
       "    <tr>\n",
       "      <th>max</th>\n",
       "      <td>42.005278</td>\n",
       "      <td>-114.483918</td>\n",
       "      <td>80.100000</td>\n",
       "      <td>79.000000</td>\n",
       "      <td>90.000000</td>\n",
       "      <td>54.000000</td>\n",
       "      <td>0.800000</td>\n",
       "    </tr>\n",
       "  </tbody>\n",
       "</table>\n",
       "</div>"
      ],
      "text/plain": [
       "          Start_Lat     Start_Lng  Temperature(F)  Wind_Chill(F)  \\\n",
       "count  58156.000000  58156.000000    56270.000000   36299.000000   \n",
       "mean      35.615610   -119.551599       54.033355      53.120560   \n",
       "std        2.041900      1.951281        8.033359       9.563685   \n",
       "min       32.558357   -124.221695       -5.800000       3.000000   \n",
       "25%       33.988501   -121.723994       50.000000      48.000000   \n",
       "50%       34.247510   -118.443596       54.000000      54.000000   \n",
       "75%       37.701818   -117.962052       59.000000      60.000000   \n",
       "max       42.005278   -114.483918       80.100000      79.000000   \n",
       "\n",
       "       Visibility(mi)  Wind_Speed(mph)  Precipitation(in)  \n",
       "count    56777.000000     50561.000000       36223.000000  \n",
       "mean         8.365935         6.050357           0.017690  \n",
       "std          3.089543         5.174068           0.052383  \n",
       "min          0.000000         0.000000           0.000000  \n",
       "25%          7.000000         3.000000           0.000000  \n",
       "50%         10.000000         5.000000           0.000000  \n",
       "75%         10.000000         8.100000           0.000000  \n",
       "max         90.000000        54.000000           0.800000  "
      ]
     },
     "execution_count": 82,
     "metadata": {},
     "output_type": "execute_result"
    }
   ],
   "source": [
    "#overall stats for winter\n",
    "state_winter.describe()"
   ]
  },
  {
   "cell_type": "code",
   "execution_count": 84,
   "metadata": {},
   "outputs": [
    {
     "name": "stderr",
     "output_type": "stream",
     "text": [
      "<ipython-input-84-40451832b5e8>:2: SettingWithCopyWarning: \n",
      "A value is trying to be set on a copy of a slice from a DataFrame.\n",
      "Try using .loc[row_indexer,col_indexer] = value instead\n",
      "\n",
      "See the caveats in the documentation: https://pandas.pydata.org/pandas-docs/stable/user_guide/indexing.html#returning-a-view-versus-a-copy\n",
      "  ca_totals['Precipitation(in)'] = ca_totals['Precipitation(in)'].fillna(0)\n"
     ]
    },
    {
     "data": {
      "image/png": "[encoded data removed]",
      "text/plain": [
       "<Figure size 432x288 with 1 Axes>"
      ]
     },
     "metadata": {
      "needs_background": "light"
     },
     "output_type": "display_data"
    }
   ],
   "source": [
    "#2019 CA total accidents wet/dry bar graph\n",
    "ca_totals['Precipitation(in)'] = ca_totals['Precipitation(in)'].fillna(0)\n",
    "precip = ca_totals['Precipitation(in)'] > 0\n",
    "precip_wet = ca_totals[precip]['Date'].count()\n",
    "no_precip = ca_totals['Precipitation(in)'] == 0\n",
    "precip_dry = ca_totals[no_precip]['Date'].count()\n",
    "df = pd.DataFrame({'Weather Condition':['Precipitation', 'Non-Precipitation'],'No. CA Accidents':[precip_wet,precip_dry]})\n",
    "ax = df.plot.bar(x='Weather Condition', y='No. CA Accidents', rot=0, title = 'Accidents vs Weather Condition', color = 'royalblue')\n",
    "ax.set_ylabel('Accidents', size=12)\n",
    "ax.set_xlabel('Weather Condition', size=12)\n",
    "plt.show()"
   ]
  },
  {
   "cell_type": "code",
   "execution_count": 85,
   "metadata": {},
   "outputs": [
    {
     "data": {
      "image/png": "[encoded data removed]",
      "text/plain": [
       "<Figure size 432x288 with 1 Axes>"
      ]
     },
     "metadata": {
      "needs_background": "light"
     },
     "output_type": "display_data"
    },
    {
     "name": "stdout",
     "output_type": "stream",
     "text": [
      "Mean: 0.0781533934154865\n",
      "Median: 0.04\n",
      "Mode: 0    0.01\n",
      "dtype: float64\n"
     ]
    }
   ],
   "source": [
    "#turn precip column into series for hist\n",
    "precipitation = ca_totals[ca_totals[\"Precipitation(in)\"] > 0]\n",
    "len(precipitation)\n",
    "\n",
    "#reset variable for hist. based on new df\n",
    "precip_hist = precipitation['Precipitation(in)']\n",
    "\n",
    "#determine hist of precip\n",
    "plt.hist(precip_hist)\n",
    "plt.xlabel('Precipitation(in)')\n",
    "plt.ylabel('Count')\n",
    "plt.xticks(rotation=90)\n",
    "plt.show()\n",
    "\n",
    "#determine measures of data\n",
    "mean = precipitation['Precipitation(in)'].mean()\n",
    "median = precipitation['Precipitation(in)'].median()\n",
    "mode = precipitation['Precipitation(in)'].mode()\n",
    "print(f'Mean: {mean}')\n",
    "print(f'Median: {median}')\n",
    "print(f'Mode: {mode}')"
   ]
  },
  {
   "cell_type": "code",
   "execution_count": 86,
   "metadata": {},
   "outputs": [
    {
     "data": {
      "image/png": "[encoded data removed]",
      "text/plain": [
       "<Figure size 432x288 with 1 Axes>"
      ]
     },
     "metadata": {
      "needs_background": "light"
     },
     "output_type": "display_data"
    },
    {
     "name": "stdout",
     "output_type": "stream",
     "text": [
      "Mean: 64.39598763941866\n",
      "Median: 63.0\n",
      "Mode: 0    59.0\n",
      "dtype: float64\n"
     ]
    }
   ],
   "source": [
    "#turn precip column into series for hist\n",
    "temp = ca_totals[ca_totals[\"Temperature(F)\"] > 0]\n",
    "\n",
    "#reset variable for hist. based on new df\n",
    "temp_hist = temp['Temperature(F)']\n",
    "\n",
    "#determine hist of precip\n",
    "plt.hist(temp_hist)\n",
    "plt.xlabel('Temperature(F)')\n",
    "plt.ylabel('Count')\n",
    "plt.xticks(rotation=90)\n",
    "plt.show()\n",
    "\n",
    "#determine measures of data\n",
    "mean = temp['Temperature(F)'].mean()\n",
    "median = temp['Temperature(F)'].median()\n",
    "mode = temp['Temperature(F)'].mode()\n",
    "print(f'Mean: {mean}')\n",
    "print(f'Median: {median}')\n",
    "print(f'Mode: {mode}')"
   ]
  },
  {
   "cell_type": "code",
   "execution_count": 87,
   "metadata": {},
   "outputs": [
    {
     "data": {
      "image/png": "[encoded data removed]",
      "text/plain": [
       "<Figure size 432x288 with 1 Axes>"
      ]
     },
     "metadata": {
      "needs_background": "light"
     },
     "output_type": "display_data"
    },
    {
     "name": "stdout",
     "output_type": "stream",
     "text": [
      "Mean: 9.119261310152725\n",
      "Median: 10.0\n",
      "Mode: 0    10.0\n",
      "dtype: float64\n"
     ]
    }
   ],
   "source": [
    "#turn precip column into series for hist\n",
    "vis = ca_totals[ca_totals[\"Visibility(mi)\"] > 0]\n",
    "\n",
    "#reset variable for hist. based on new df\n",
    "temp_hist = vis['Visibility(mi)']\n",
    "\n",
    "#determine hist of precip\n",
    "plt.hist(vis_hist)\n",
    "plt.xlabel('Visibility(mi)')\n",
    "plt.ylabel('Count')\n",
    "plt.xticks(rotation=90)\n",
    "plt.show()\n",
    "\n",
    "#determine measures of data\n",
    "mean = vis['Visibility(mi)'].mean()\n",
    "median = vis['Visibility(mi)'].median()\n",
    "mode = vis['Visibility(mi)'].mode()\n",
    "print(f'Mean: {mean}')\n",
    "print(f'Median: {median}')\n",
    "print(f'Mode: {mode}')"
   ]
  },
  {
   "cell_type": "code",
   "execution_count": 88,
   "metadata": {},
   "outputs": [
    {
     "name": "stderr",
     "output_type": "stream",
     "text": [
      "<ipython-input-88-5ca1113e2e08>:9: MatplotlibDeprecationWarning: Non-1D inputs to pie() are currently squeeze()d, but this behavior is deprecated since 3.1 and will be removed in 3.3; pass a 1D array instead.\n",
      "  plt.pie(totals, labels = labels,\n"
     ]
    },
    {
     "data": {
      "image/png": "[encoded data removed]",
      "text/plain": [
       "<Figure size 432x288 with 1 Axes>"
      ]
     },
     "metadata": {},
     "output_type": "display_data"
    },
    {
     "data": {
      "text/plain": [
       "<Figure size 720x720 with 0 Axes>"
      ]
     },
     "metadata": {},
     "output_type": "display_data"
    }
   ],
   "source": [
    "labels = ['Spring', 'Summer', 'Winter', 'Fall']\n",
    "accident_percents = [spring_percent, summer_percent, winter_percent, fall_percent]\n",
    "\n",
    "label = [labels]\n",
    "totals = [accident_percents]\n",
    "colors = [\"lightgreen\", \"yellow\", \"skyblue\", \"brown\"]\n",
    "\n",
    "# Tell matplotlib to create a pie chart based upon the above data\n",
    "plt.pie(totals, labels = labels, \n",
    "        colors = colors, autopct=\"%1.1f%%\", shadow=True, startangle = 140)\n",
    "# Create axes which are equal so we have a perfect circle\n",
    "plt.axis(\"equal\")\n",
    "#print the final product to the screen\n",
    "fig = plt.figure(figsize=(10,10))\n",
    "plt.show()"
   ]
  },
  {
   "cell_type": "code",
   "execution_count": 89,
   "metadata": {},
   "outputs": [
    {
     "data": {
      "image/png": "[encoded data removed]",
      "text/plain": [
       "<Figure size 432x288 with 1 Axes>"
      ]
     },
     "metadata": {
      "needs_background": "light"
     },
     "output_type": "display_data"
    }
   ],
   "source": [
    "fig = plt.figure()\n",
    "ax = fig.add_axes([0,0,1,1])\n",
    "label = ['Spring', 'Summer', 'Fall', 'Winter']\n",
    "totals = [ca_spring_totals, ca_summer_totals, ca_fall_totals, ca_winter_totals]\n",
    "colors = ['green', 'yellow', 'orange', 'lightskyblue']\n",
    "plt.title('California Accidents Per Season')\n",
    "plt.xlabel('Season')\n",
    "plt.ylabel('Num of Accidents')\n",
    "ax.bar(label,totals, color = colors)\n",
    "plt.show()"
   ]
  }
 ],
 "metadata": {
  "kernelspec": {
   "display_name": "Python [conda env:pythondata] *",
   "language": "python",
   "name": "conda-env-pythondata-py"
  },
  "language_info": {
   "codemirror_mode": {
    "name": "ipython",
    "version": 3
   },
   "file_extension": ".py",
   "mimetype": "text/x-python",
   "name": "python",
   "nbconvert_exporter": "python",
   "pygments_lexer": "ipython3",
   "version": "3.8.5"
  }
 },
 "nbformat": 4,
 "nbformat_minor": 4
}
