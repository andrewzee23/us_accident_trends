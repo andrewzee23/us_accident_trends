{
 "metadata": {
  "language_info": {
   "codemirror_mode": {
    "name": "ipython",
    "version": 3
   },
   "file_extension": ".py",
   "mimetype": "text/x-python",
   "name": "python",
   "nbconvert_exporter": "python",
   "pygments_lexer": "ipython3",
   "version": "3.6.10-final"
  },
  "orig_nbformat": 2,
  "kernelspec": {
   "name": "python_defaultSpec_1597875033071",
   "display_name": "Python 3.6.10 64-bit ('PythonData': conda)"
  }
 },
 "nbformat": 4,
 "nbformat_minor": 2,
 "cells": [
  {
   "cell_type": "code",
   "execution_count": 3,
   "metadata": {},
   "outputs": [],
   "source": [
    "import pandas as pd\n",
    "import csv\n",
    "import json\n",
    "import numpy as np\n",
    "from census import Census\n",
    "import requests\n",
    "from us import states\n",
    "from api_key import weather_key"
   ]
  },
  {
   "cell_type": "code",
   "execution_count": 4,
   "metadata": {},
   "outputs": [],
   "source": [
    "file_path = 'population by state.csv'\n",
    "file_path2 = 'population by city.csv'\n",
    "file_path3 = 'us accidents june20.csv'\n",
    "\n",
    "state_df = pd.read_csv(file_path)\n",
    "city_df = pd.read_csv(file_path2)\n",
    "accident_df = pd.read_csv(file_path3)"
   ]
  },
  {
   "cell_type": "code",
   "execution_count": 5,
   "metadata": {},
   "outputs": [
    {
     "output_type": "execute_result",
     "data": {
      "text/plain": "                  Start_Time  Start_Lat   Start_Lng          City State  \\\n0        2016-02-08 05:46:00  39.865147  -84.058723        Dayton    OH   \n1        2016-02-08 06:07:59  39.928059  -82.831184  Reynoldsburg    OH   \n2        2016-02-08 06:49:27  39.063148  -84.032608  Williamsburg    OH   \n3        2016-02-08 07:23:34  39.747753  -84.205582        Dayton    OH   \n4        2016-02-08 07:39:07  39.627781  -84.188354        Dayton    OH   \n...                      ...        ...         ...           ...   ...   \n3513612  2019-08-23 18:03:25  34.002480 -117.379360     Riverside    CA   \n3513613  2019-08-23 19:11:30  32.766960 -117.148060     San Diego    CA   \n3513614  2019-08-23 19:00:21  33.775450 -117.847790        Orange    CA   \n3513615  2019-08-23 19:00:21  33.992460 -118.403020   Culver City    CA   \n3513616  2019-08-23 18:52:06  34.133930 -117.230920      Highland    CA   \n\n           Weather_Timestamp  Temperature(F)  Wind_Chill(F)  Visibility(mi)  \\\n0        2016-02-08 05:58:00            36.9            NaN            10.0   \n1        2016-02-08 05:51:00            37.9            NaN            10.0   \n2        2016-02-08 06:56:00            36.0           33.3            10.0   \n3        2016-02-08 07:38:00            35.1           31.0             9.0   \n4        2016-02-08 07:53:00            36.0           33.3             6.0   \n...                      ...             ...            ...             ...   \n3513612  2019-08-23 17:53:00            86.0           86.0            10.0   \n3513613  2019-08-23 18:53:00            70.0           70.0            10.0   \n3513614  2019-08-23 18:53:00            73.0           73.0            10.0   \n3513615  2019-08-23 18:51:00            71.0           71.0            10.0   \n3513616  2019-08-23 20:50:00            79.0           79.0             7.0   \n\n        Wind_Direction  Wind_Speed(mph)  Precipitation(in) Weather_Condition  \n0                 Calm              NaN               0.02        Light Rain  \n1                 Calm              NaN               0.00        Light Rain  \n2                   SW              3.5                NaN          Overcast  \n3                   SW              4.6                NaN     Mostly Cloudy  \n4                   SW              3.5                NaN     Mostly Cloudy  \n...                ...              ...                ...               ...  \n3513612              W             13.0               0.00              Fair  \n3513613             SW              6.0               0.00              Fair  \n3513614            SSW             10.0               0.00     Partly Cloudy  \n3513615             SW              8.0               0.00              Fair  \n3513616             SW              7.0               0.00              Fair  \n\n[3513617 rows x 13 columns]",
      "text/html": "<div>\n<style scoped>\n    .dataframe tbody tr th:only-of-type {\n        vertical-align: middle;\n    }\n\n    .dataframe tbody tr th {\n        vertical-align: top;\n    }\n\n    .dataframe thead th {\n        text-align: right;\n    }\n</style>\n<table border=\"1\" class=\"dataframe\">\n  <thead>\n    <tr style=\"text-align: right;\">\n      <th></th>\n      <th>Start_Time</th>\n      <th>Start_Lat</th>\n      <th>Start_Lng</th>\n      <th>City</th>\n      <th>State</th>\n      <th>Weather_Timestamp</th>\n      <th>Temperature(F)</th>\n      <th>Wind_Chill(F)</th>\n      <th>Visibility(mi)</th>\n      <th>Wind_Direction</th>\n      <th>Wind_Speed(mph)</th>\n      <th>Precipitation(in)</th>\n      <th>Weather_Condition</th>\n    </tr>\n  </thead>\n  <tbody>\n    <tr>\n      <th>0</th>\n      <td>2016-02-08 05:46:00</td>\n      <td>39.865147</td>\n      <td>-84.058723</td>\n      <td>Dayton</td>\n      <td>OH</td>\n      <td>2016-02-08 05:58:00</td>\n      <td>36.9</td>\n      <td>NaN</td>\n      <td>10.0</td>\n      <td>Calm</td>\n      <td>NaN</td>\n      <td>0.02</td>\n      <td>Light Rain</td>\n    </tr>\n    <tr>\n      <th>1</th>\n      <td>2016-02-08 06:07:59</td>\n      <td>39.928059</td>\n      <td>-82.831184</td>\n      <td>Reynoldsburg</td>\n      <td>OH</td>\n      <td>2016-02-08 05:51:00</td>\n      <td>37.9</td>\n      <td>NaN</td>\n      <td>10.0</td>\n      <td>Calm</td>\n      <td>NaN</td>\n      <td>0.00</td>\n      <td>Light Rain</td>\n    </tr>\n    <tr>\n      <th>2</th>\n      <td>2016-02-08 06:49:27</td>\n      <td>39.063148</td>\n      <td>-84.032608</td>\n      <td>Williamsburg</td>\n      <td>OH</td>\n      <td>2016-02-08 06:56:00</td>\n      <td>36.0</td>\n      <td>33.3</td>\n      <td>10.0</td>\n      <td>SW</td>\n      <td>3.5</td>\n      <td>NaN</td>\n      <td>Overcast</td>\n    </tr>\n    <tr>\n      <th>3</th>\n      <td>2016-02-08 07:23:34</td>\n      <td>39.747753</td>\n      <td>-84.205582</td>\n      <td>Dayton</td>\n      <td>OH</td>\n      <td>2016-02-08 07:38:00</td>\n      <td>35.1</td>\n      <td>31.0</td>\n      <td>9.0</td>\n      <td>SW</td>\n      <td>4.6</td>\n      <td>NaN</td>\n      <td>Mostly Cloudy</td>\n    </tr>\n    <tr>\n      <th>4</th>\n      <td>2016-02-08 07:39:07</td>\n      <td>39.627781</td>\n      <td>-84.188354</td>\n      <td>Dayton</td>\n      <td>OH</td>\n      <td>2016-02-08 07:53:00</td>\n      <td>36.0</td>\n      <td>33.3</td>\n      <td>6.0</td>\n      <td>SW</td>\n      <td>3.5</td>\n      <td>NaN</td>\n      <td>Mostly Cloudy</td>\n    </tr>\n    <tr>\n      <th>...</th>\n      <td>...</td>\n      <td>...</td>\n      <td>...</td>\n      <td>...</td>\n      <td>...</td>\n      <td>...</td>\n      <td>...</td>\n      <td>...</td>\n      <td>...</td>\n      <td>...</td>\n      <td>...</td>\n      <td>...</td>\n      <td>...</td>\n    </tr>\n    <tr>\n      <th>3513612</th>\n      <td>2019-08-23 18:03:25</td>\n      <td>34.002480</td>\n      <td>-117.379360</td>\n      <td>Riverside</td>\n      <td>CA</td>\n      <td>2019-08-23 17:53:00</td>\n      <td>86.0</td>\n      <td>86.0</td>\n      <td>10.0</td>\n      <td>W</td>\n      <td>13.0</td>\n      <td>0.00</td>\n      <td>Fair</td>\n    </tr>\n    <tr>\n      <th>3513613</th>\n      <td>2019-08-23 19:11:30</td>\n      <td>32.766960</td>\n      <td>-117.148060</td>\n      <td>San Diego</td>\n      <td>CA</td>\n      <td>2019-08-23 18:53:00</td>\n      <td>70.0</td>\n      <td>70.0</td>\n      <td>10.0</td>\n      <td>SW</td>\n      <td>6.0</td>\n      <td>0.00</td>\n      <td>Fair</td>\n    </tr>\n    <tr>\n      <th>3513614</th>\n      <td>2019-08-23 19:00:21</td>\n      <td>33.775450</td>\n      <td>-117.847790</td>\n      <td>Orange</td>\n      <td>CA</td>\n      <td>2019-08-23 18:53:00</td>\n      <td>73.0</td>\n      <td>73.0</td>\n      <td>10.0</td>\n      <td>SSW</td>\n      <td>10.0</td>\n      <td>0.00</td>\n      <td>Partly Cloudy</td>\n    </tr>\n    <tr>\n      <th>3513615</th>\n      <td>2019-08-23 19:00:21</td>\n      <td>33.992460</td>\n      <td>-118.403020</td>\n      <td>Culver City</td>\n      <td>CA</td>\n      <td>2019-08-23 18:51:00</td>\n      <td>71.0</td>\n      <td>71.0</td>\n      <td>10.0</td>\n      <td>SW</td>\n      <td>8.0</td>\n      <td>0.00</td>\n      <td>Fair</td>\n    </tr>\n    <tr>\n      <th>3513616</th>\n      <td>2019-08-23 18:52:06</td>\n      <td>34.133930</td>\n      <td>-117.230920</td>\n      <td>Highland</td>\n      <td>CA</td>\n      <td>2019-08-23 20:50:00</td>\n      <td>79.0</td>\n      <td>79.0</td>\n      <td>7.0</td>\n      <td>SW</td>\n      <td>7.0</td>\n      <td>0.00</td>\n      <td>Fair</td>\n    </tr>\n  </tbody>\n</table>\n<p>3513617 rows × 13 columns</p>\n</div>"
     },
     "metadata": {},
     "execution_count": 5
    }
   ],
   "source": [
    "accident_df = accident_df.loc[:, ['Start_Time','Start_Lat', 'Start_Lng','City','State','Weather_Timestamp','Temperature(F)', 'Wind_Chill(F)','Visibility(mi)', 'Wind_Direction', 'Wind_Speed(mph)','Precipitation(in)', 'Weather_Condition']]\n",
    "accident_df"
   ]
  },
  {
   "cell_type": "code",
   "execution_count": 17,
   "metadata": {},
   "outputs": [
    {
     "output_type": "execute_result",
     "data": {
      "text/plain": "                  Start_Time  Start_Lat   Start_Lng          City State  \\\n0        2016-02-08 05:46:00  39.865147  -84.058723        Dayton    OH   \n1        2016-02-08 06:07:59  39.928059  -82.831184  Reynoldsburg    OH   \n2        2016-02-08 06:49:27  39.063148  -84.032608  Williamsburg    OH   \n3        2016-02-08 07:23:34  39.747753  -84.205582        Dayton    OH   \n4        2016-02-08 07:39:07  39.627781  -84.188354        Dayton    OH   \n...                      ...        ...         ...           ...   ...   \n3513612  2019-08-23 18:03:25  34.002480 -117.379360     Riverside    CA   \n3513613  2019-08-23 19:11:30  32.766960 -117.148060     San Diego    CA   \n3513614  2019-08-23 19:00:21  33.775450 -117.847790        Orange    CA   \n3513615  2019-08-23 19:00:21  33.992460 -118.403020   Culver City    CA   \n3513616  2019-08-23 18:52:06  34.133930 -117.230920      Highland    CA   \n\n           Weather_Timestamp  Temperature(F)  Wind_Chill(F)  Visibility(mi)  \\\n0        2016-02-08 05:58:00            36.9            NaN            10.0   \n1        2016-02-08 05:51:00            37.9            NaN            10.0   \n2        2016-02-08 06:56:00            36.0           33.3            10.0   \n3        2016-02-08 07:38:00            35.1           31.0             9.0   \n4        2016-02-08 07:53:00            36.0           33.3             6.0   \n...                      ...             ...            ...             ...   \n3513612  2019-08-23 17:53:00            86.0           86.0            10.0   \n3513613  2019-08-23 18:53:00            70.0           70.0            10.0   \n3513614  2019-08-23 18:53:00            73.0           73.0            10.0   \n3513615  2019-08-23 18:51:00            71.0           71.0            10.0   \n3513616  2019-08-23 20:50:00            79.0           79.0             7.0   \n\n        Wind_Direction  Wind_Speed(mph)  Precipitation(in) Weather_Condition  \\\n0                 Calm              NaN               0.02        Light Rain   \n1                 Calm              NaN               0.00        Light Rain   \n2                   SW              3.5                NaN          Overcast   \n3                   SW              4.6                NaN     Mostly Cloudy   \n4                   SW              3.5                NaN     Mostly Cloudy   \n...                ...              ...                ...               ...   \n3513612              W             13.0               0.00              Fair   \n3513613             SW              6.0               0.00              Fair   \n3513614            SSW             10.0               0.00     Partly Cloudy   \n3513615             SW              8.0               0.00              Fair   \n3513616             SW              7.0               0.00              Fair   \n\n               Date      Time  \n0        2016-02-08  05:46:00  \n1        2016-02-08  06:07:59  \n2        2016-02-08  06:49:27  \n3        2016-02-08  07:23:34  \n4        2016-02-08  07:39:07  \n...             ...       ...  \n3513612  2019-08-23  18:03:25  \n3513613  2019-08-23  19:11:30  \n3513614  2019-08-23  19:00:21  \n3513615  2019-08-23  19:00:21  \n3513616  2019-08-23  18:52:06  \n\n[3513617 rows x 15 columns]",
      "text/html": "<div>\n<style scoped>\n    .dataframe tbody tr th:only-of-type {\n        vertical-align: middle;\n    }\n\n    .dataframe tbody tr th {\n        vertical-align: top;\n    }\n\n    .dataframe thead th {\n        text-align: right;\n    }\n</style>\n<table border=\"1\" class=\"dataframe\">\n  <thead>\n    <tr style=\"text-align: right;\">\n      <th></th>\n      <th>Start_Time</th>\n      <th>Start_Lat</th>\n      <th>Start_Lng</th>\n      <th>City</th>\n      <th>State</th>\n      <th>Weather_Timestamp</th>\n      <th>Temperature(F)</th>\n      <th>Wind_Chill(F)</th>\n      <th>Visibility(mi)</th>\n      <th>Wind_Direction</th>\n      <th>Wind_Speed(mph)</th>\n      <th>Precipitation(in)</th>\n      <th>Weather_Condition</th>\n      <th>Date</th>\n      <th>Time</th>\n    </tr>\n  </thead>\n  <tbody>\n    <tr>\n      <th>0</th>\n      <td>2016-02-08 05:46:00</td>\n      <td>39.865147</td>\n      <td>-84.058723</td>\n      <td>Dayton</td>\n      <td>OH</td>\n      <td>2016-02-08 05:58:00</td>\n      <td>36.9</td>\n      <td>NaN</td>\n      <td>10.0</td>\n      <td>Calm</td>\n      <td>NaN</td>\n      <td>0.02</td>\n      <td>Light Rain</td>\n      <td>2016-02-08</td>\n      <td>05:46:00</td>\n    </tr>\n    <tr>\n      <th>1</th>\n      <td>2016-02-08 06:07:59</td>\n      <td>39.928059</td>\n      <td>-82.831184</td>\n      <td>Reynoldsburg</td>\n      <td>OH</td>\n      <td>2016-02-08 05:51:00</td>\n      <td>37.9</td>\n      <td>NaN</td>\n      <td>10.0</td>\n      <td>Calm</td>\n      <td>NaN</td>\n      <td>0.00</td>\n      <td>Light Rain</td>\n      <td>2016-02-08</td>\n      <td>06:07:59</td>\n    </tr>\n    <tr>\n      <th>2</th>\n      <td>2016-02-08 06:49:27</td>\n      <td>39.063148</td>\n      <td>-84.032608</td>\n      <td>Williamsburg</td>\n      <td>OH</td>\n      <td>2016-02-08 06:56:00</td>\n      <td>36.0</td>\n      <td>33.3</td>\n      <td>10.0</td>\n      <td>SW</td>\n      <td>3.5</td>\n      <td>NaN</td>\n      <td>Overcast</td>\n      <td>2016-02-08</td>\n      <td>06:49:27</td>\n    </tr>\n    <tr>\n      <th>3</th>\n      <td>2016-02-08 07:23:34</td>\n      <td>39.747753</td>\n      <td>-84.205582</td>\n      <td>Dayton</td>\n      <td>OH</td>\n      <td>2016-02-08 07:38:00</td>\n      <td>35.1</td>\n      <td>31.0</td>\n      <td>9.0</td>\n      <td>SW</td>\n      <td>4.6</td>\n      <td>NaN</td>\n      <td>Mostly Cloudy</td>\n      <td>2016-02-08</td>\n      <td>07:23:34</td>\n    </tr>\n    <tr>\n      <th>4</th>\n      <td>2016-02-08 07:39:07</td>\n      <td>39.627781</td>\n      <td>-84.188354</td>\n      <td>Dayton</td>\n      <td>OH</td>\n      <td>2016-02-08 07:53:00</td>\n      <td>36.0</td>\n      <td>33.3</td>\n      <td>6.0</td>\n      <td>SW</td>\n      <td>3.5</td>\n      <td>NaN</td>\n      <td>Mostly Cloudy</td>\n      <td>2016-02-08</td>\n      <td>07:39:07</td>\n    </tr>\n    <tr>\n      <th>...</th>\n      <td>...</td>\n      <td>...</td>\n      <td>...</td>\n      <td>...</td>\n      <td>...</td>\n      <td>...</td>\n      <td>...</td>\n      <td>...</td>\n      <td>...</td>\n      <td>...</td>\n      <td>...</td>\n      <td>...</td>\n      <td>...</td>\n      <td>...</td>\n      <td>...</td>\n    </tr>\n    <tr>\n      <th>3513612</th>\n      <td>2019-08-23 18:03:25</td>\n      <td>34.002480</td>\n      <td>-117.379360</td>\n      <td>Riverside</td>\n      <td>CA</td>\n      <td>2019-08-23 17:53:00</td>\n      <td>86.0</td>\n      <td>86.0</td>\n      <td>10.0</td>\n      <td>W</td>\n      <td>13.0</td>\n      <td>0.00</td>\n      <td>Fair</td>\n      <td>2019-08-23</td>\n      <td>18:03:25</td>\n    </tr>\n    <tr>\n      <th>3513613</th>\n      <td>2019-08-23 19:11:30</td>\n      <td>32.766960</td>\n      <td>-117.148060</td>\n      <td>San Diego</td>\n      <td>CA</td>\n      <td>2019-08-23 18:53:00</td>\n      <td>70.0</td>\n      <td>70.0</td>\n      <td>10.0</td>\n      <td>SW</td>\n      <td>6.0</td>\n      <td>0.00</td>\n      <td>Fair</td>\n      <td>2019-08-23</td>\n      <td>19:11:30</td>\n    </tr>\n    <tr>\n      <th>3513614</th>\n      <td>2019-08-23 19:00:21</td>\n      <td>33.775450</td>\n      <td>-117.847790</td>\n      <td>Orange</td>\n      <td>CA</td>\n      <td>2019-08-23 18:53:00</td>\n      <td>73.0</td>\n      <td>73.0</td>\n      <td>10.0</td>\n      <td>SSW</td>\n      <td>10.0</td>\n      <td>0.00</td>\n      <td>Partly Cloudy</td>\n      <td>2019-08-23</td>\n      <td>19:00:21</td>\n    </tr>\n    <tr>\n      <th>3513615</th>\n      <td>2019-08-23 19:00:21</td>\n      <td>33.992460</td>\n      <td>-118.403020</td>\n      <td>Culver City</td>\n      <td>CA</td>\n      <td>2019-08-23 18:51:00</td>\n      <td>71.0</td>\n      <td>71.0</td>\n      <td>10.0</td>\n      <td>SW</td>\n      <td>8.0</td>\n      <td>0.00</td>\n      <td>Fair</td>\n      <td>2019-08-23</td>\n      <td>19:00:21</td>\n    </tr>\n    <tr>\n      <th>3513616</th>\n      <td>2019-08-23 18:52:06</td>\n      <td>34.133930</td>\n      <td>-117.230920</td>\n      <td>Highland</td>\n      <td>CA</td>\n      <td>2019-08-23 20:50:00</td>\n      <td>79.0</td>\n      <td>79.0</td>\n      <td>7.0</td>\n      <td>SW</td>\n      <td>7.0</td>\n      <td>0.00</td>\n      <td>Fair</td>\n      <td>2019-08-23</td>\n      <td>18:52:06</td>\n    </tr>\n  </tbody>\n</table>\n<p>3513617 rows × 15 columns</p>\n</div>"
     },
     "metadata": {},
     "execution_count": 17
    }
   ],
   "source": [
    "df = accident_df['Start_Time'].str.split(' ', 1)\n",
    "date_series = df['date'] = df.str.get(0)\n",
    "time_series = df['time'] = df.str.get(1)\n",
    "\n",
    "time_series = list(time_series)\n",
    "date_series = list(date_series)\n",
    "del time_series[-1]\n",
    "\n",
    "accident_df['Date'] = date_series\n",
    "accident_df['Time'] = time_series\n",
    "accident_df"
   ]
  },
  {
   "cell_type": "code",
   "execution_count": 34,
   "metadata": {},
   "outputs": [
    {
     "output_type": "execute_result",
     "data": {
      "text/plain": "0    False\n1    False\n2    False\n3    False\n4    False\nName: Date, dtype: bool"
     },
     "metadata": {},
     "execution_count": 34
    }
   ],
   "source": [
    "year_2019_2020 = accident_df['Date'] > '2018-12-31'\n",
    "year_2019_2020.head()"
   ]
  },
  {
   "cell_type": "code",
   "execution_count": 35,
   "metadata": {},
   "outputs": [
    {
     "output_type": "execute_result",
     "data": {
      "text/plain": "                  Start_Time  Start_Lat   Start_Lng          City State  \\\n512224   2020-05-24 01:37:16  42.932457  -78.766060       Buffalo    NY   \n512225   2020-05-24 04:19:35  43.005428  -78.948601  Grand Island    NY   \n512226   2020-05-24 16:00:22  42.744190  -78.842873       Hamburg    NY   \n512227   2020-05-24 09:21:07  42.013992  -70.726639       Duxbury    MA   \n512228   2020-05-24 15:13:34  42.380833  -71.076225   Charlestown    MA   \n...                      ...        ...         ...           ...   ...   \n3513612  2019-08-23 18:03:25  34.002480 -117.379360     Riverside    CA   \n3513613  2019-08-23 19:11:30  32.766960 -117.148060     San Diego    CA   \n3513614  2019-08-23 19:00:21  33.775450 -117.847790        Orange    CA   \n3513615  2019-08-23 19:00:21  33.992460 -118.403020   Culver City    CA   \n3513616  2019-08-23 18:52:06  34.133930 -117.230920      Highland    CA   \n\n           Weather_Timestamp  Temperature(F)  Wind_Chill(F)  Visibility(mi)  \\\n512224   2020-05-24 01:54:00            64.0           64.0            10.0   \n512225   2020-05-24 03:53:00            62.0           62.0             5.0   \n512226   2020-05-24 15:54:00            83.0           83.0            10.0   \n512227   2020-05-24 09:15:00            54.0           54.0            10.0   \n512228   2020-05-24 14:54:00            52.0           52.0            10.0   \n...                      ...             ...            ...             ...   \n3513612  2019-08-23 17:53:00            86.0           86.0            10.0   \n3513613  2019-08-23 18:53:00            70.0           70.0            10.0   \n3513614  2019-08-23 18:53:00            73.0           73.0            10.0   \n3513615  2019-08-23 18:51:00            71.0           71.0            10.0   \n3513616  2019-08-23 20:50:00            79.0           79.0             7.0   \n\n        Wind_Direction  Wind_Speed(mph)  Precipitation(in) Weather_Condition  \\\n512224            CALM              0.0               0.00            Cloudy   \n512225             ESE              5.0               0.01        Light Rain   \n512226              SW              9.0               0.00     Partly Cloudy   \n512227             ENE             13.0               0.00     Mostly Cloudy   \n512228               E             15.0               0.00            Cloudy   \n...                ...              ...                ...               ...   \n3513612              W             13.0               0.00              Fair   \n3513613             SW              6.0               0.00              Fair   \n3513614            SSW             10.0               0.00     Partly Cloudy   \n3513615             SW              8.0               0.00              Fair   \n3513616             SW              7.0               0.00              Fair   \n\n               Date      Time  \n512224   2020-05-24  01:37:16  \n512225   2020-05-24  04:19:35  \n512226   2020-05-24  16:00:22  \n512227   2020-05-24  09:21:07  \n512228   2020-05-24  15:13:34  \n...             ...       ...  \n3513612  2019-08-23  18:03:25  \n3513613  2019-08-23  19:11:30  \n3513614  2019-08-23  19:00:21  \n3513615  2019-08-23  19:00:21  \n3513616  2019-08-23  18:52:06  \n\n[1492920 rows x 15 columns]",
      "text/html": "<div>\n<style scoped>\n    .dataframe tbody tr th:only-of-type {\n        vertical-align: middle;\n    }\n\n    .dataframe tbody tr th {\n        vertical-align: top;\n    }\n\n    .dataframe thead th {\n        text-align: right;\n    }\n</style>\n<table border=\"1\" class=\"dataframe\">\n  <thead>\n    <tr style=\"text-align: right;\">\n      <th></th>\n      <th>Start_Time</th>\n      <th>Start_Lat</th>\n      <th>Start_Lng</th>\n      <th>City</th>\n      <th>State</th>\n      <th>Weather_Timestamp</th>\n      <th>Temperature(F)</th>\n      <th>Wind_Chill(F)</th>\n      <th>Visibility(mi)</th>\n      <th>Wind_Direction</th>\n      <th>Wind_Speed(mph)</th>\n      <th>Precipitation(in)</th>\n      <th>Weather_Condition</th>\n      <th>Date</th>\n      <th>Time</th>\n    </tr>\n  </thead>\n  <tbody>\n    <tr>\n      <th>512224</th>\n      <td>2020-05-24 01:37:16</td>\n      <td>42.932457</td>\n      <td>-78.766060</td>\n      <td>Buffalo</td>\n      <td>NY</td>\n      <td>2020-05-24 01:54:00</td>\n      <td>64.0</td>\n      <td>64.0</td>\n      <td>10.0</td>\n      <td>CALM</td>\n      <td>0.0</td>\n      <td>0.00</td>\n      <td>Cloudy</td>\n      <td>2020-05-24</td>\n      <td>01:37:16</td>\n    </tr>\n    <tr>\n      <th>512225</th>\n      <td>2020-05-24 04:19:35</td>\n      <td>43.005428</td>\n      <td>-78.948601</td>\n      <td>Grand Island</td>\n      <td>NY</td>\n      <td>2020-05-24 03:53:00</td>\n      <td>62.0</td>\n      <td>62.0</td>\n      <td>5.0</td>\n      <td>ESE</td>\n      <td>5.0</td>\n      <td>0.01</td>\n      <td>Light Rain</td>\n      <td>2020-05-24</td>\n      <td>04:19:35</td>\n    </tr>\n    <tr>\n      <th>512226</th>\n      <td>2020-05-24 16:00:22</td>\n      <td>42.744190</td>\n      <td>-78.842873</td>\n      <td>Hamburg</td>\n      <td>NY</td>\n      <td>2020-05-24 15:54:00</td>\n      <td>83.0</td>\n      <td>83.0</td>\n      <td>10.0</td>\n      <td>SW</td>\n      <td>9.0</td>\n      <td>0.00</td>\n      <td>Partly Cloudy</td>\n      <td>2020-05-24</td>\n      <td>16:00:22</td>\n    </tr>\n    <tr>\n      <th>512227</th>\n      <td>2020-05-24 09:21:07</td>\n      <td>42.013992</td>\n      <td>-70.726639</td>\n      <td>Duxbury</td>\n      <td>MA</td>\n      <td>2020-05-24 09:15:00</td>\n      <td>54.0</td>\n      <td>54.0</td>\n      <td>10.0</td>\n      <td>ENE</td>\n      <td>13.0</td>\n      <td>0.00</td>\n      <td>Mostly Cloudy</td>\n      <td>2020-05-24</td>\n      <td>09:21:07</td>\n    </tr>\n    <tr>\n      <th>512228</th>\n      <td>2020-05-24 15:13:34</td>\n      <td>42.380833</td>\n      <td>-71.076225</td>\n      <td>Charlestown</td>\n      <td>MA</td>\n      <td>2020-05-24 14:54:00</td>\n      <td>52.0</td>\n      <td>52.0</td>\n      <td>10.0</td>\n      <td>E</td>\n      <td>15.0</td>\n      <td>0.00</td>\n      <td>Cloudy</td>\n      <td>2020-05-24</td>\n      <td>15:13:34</td>\n    </tr>\n    <tr>\n      <th>...</th>\n      <td>...</td>\n      <td>...</td>\n      <td>...</td>\n      <td>...</td>\n      <td>...</td>\n      <td>...</td>\n      <td>...</td>\n      <td>...</td>\n      <td>...</td>\n      <td>...</td>\n      <td>...</td>\n      <td>...</td>\n      <td>...</td>\n      <td>...</td>\n      <td>...</td>\n    </tr>\n    <tr>\n      <th>3513612</th>\n      <td>2019-08-23 18:03:25</td>\n      <td>34.002480</td>\n      <td>-117.379360</td>\n      <td>Riverside</td>\n      <td>CA</td>\n      <td>2019-08-23 17:53:00</td>\n      <td>86.0</td>\n      <td>86.0</td>\n      <td>10.0</td>\n      <td>W</td>\n      <td>13.0</td>\n      <td>0.00</td>\n      <td>Fair</td>\n      <td>2019-08-23</td>\n      <td>18:03:25</td>\n    </tr>\n    <tr>\n      <th>3513613</th>\n      <td>2019-08-23 19:11:30</td>\n      <td>32.766960</td>\n      <td>-117.148060</td>\n      <td>San Diego</td>\n      <td>CA</td>\n      <td>2019-08-23 18:53:00</td>\n      <td>70.0</td>\n      <td>70.0</td>\n      <td>10.0</td>\n      <td>SW</td>\n      <td>6.0</td>\n      <td>0.00</td>\n      <td>Fair</td>\n      <td>2019-08-23</td>\n      <td>19:11:30</td>\n    </tr>\n    <tr>\n      <th>3513614</th>\n      <td>2019-08-23 19:00:21</td>\n      <td>33.775450</td>\n      <td>-117.847790</td>\n      <td>Orange</td>\n      <td>CA</td>\n      <td>2019-08-23 18:53:00</td>\n      <td>73.0</td>\n      <td>73.0</td>\n      <td>10.0</td>\n      <td>SSW</td>\n      <td>10.0</td>\n      <td>0.00</td>\n      <td>Partly Cloudy</td>\n      <td>2019-08-23</td>\n      <td>19:00:21</td>\n    </tr>\n    <tr>\n      <th>3513615</th>\n      <td>2019-08-23 19:00:21</td>\n      <td>33.992460</td>\n      <td>-118.403020</td>\n      <td>Culver City</td>\n      <td>CA</td>\n      <td>2019-08-23 18:51:00</td>\n      <td>71.0</td>\n      <td>71.0</td>\n      <td>10.0</td>\n      <td>SW</td>\n      <td>8.0</td>\n      <td>0.00</td>\n      <td>Fair</td>\n      <td>2019-08-23</td>\n      <td>19:00:21</td>\n    </tr>\n    <tr>\n      <th>3513616</th>\n      <td>2019-08-23 18:52:06</td>\n      <td>34.133930</td>\n      <td>-117.230920</td>\n      <td>Highland</td>\n      <td>CA</td>\n      <td>2019-08-23 20:50:00</td>\n      <td>79.0</td>\n      <td>79.0</td>\n      <td>7.0</td>\n      <td>SW</td>\n      <td>7.0</td>\n      <td>0.00</td>\n      <td>Fair</td>\n      <td>2019-08-23</td>\n      <td>18:52:06</td>\n    </tr>\n  </tbody>\n</table>\n<p>1492920 rows × 15 columns</p>\n</div>"
     },
     "metadata": {},
     "execution_count": 35
    }
   ],
   "source": [
    "accident_df_19_20 = accident_df[year_2019]\n",
    "accident_df_19_20"
   ]
  },
  {
   "cell_type": "code",
   "execution_count": 36,
   "metadata": {},
   "outputs": [
    {
     "output_type": "execute_result",
     "data": {
      "text/plain": "512224     False\n512225     False\n512226     False\n512227     False\n512228     False\n           ...  \n3513612     True\n3513613     True\n3513614     True\n3513615     True\n3513616     True\nName: Date, Length: 1492920, dtype: bool"
     },
     "metadata": {},
     "execution_count": 36
    }
   ],
   "source": [
    "year_2019 = accident_df_19_20['Date'] < '2020-01-01'\n",
    "year_2019"
   ]
  },
  {
   "cell_type": "code",
   "execution_count": 48,
   "metadata": {},
   "outputs": [
    {
     "output_type": "execute_result",
     "data": {
      "text/plain": "                  Start_Time  Start_Lat   Start_Lng         City State  \\\n641495   2019-12-26 17:09:52  40.884850  -95.800362      Thurman    IA   \n641496   2019-12-26 17:10:32  40.889641  -95.798630      Thurman    IA   \n740268   2019-12-31 23:49:36  42.313499  -83.091225      Detroit    MI   \n740270   2019-12-31 23:50:02  42.398125  -83.109009      Detroit    MI   \n740335   2019-12-31 23:29:03  39.754967  -75.276283   Swedesboro    NJ   \n...                      ...        ...         ...          ...   ...   \n3513612  2019-08-23 18:03:25  34.002480 -117.379360    Riverside    CA   \n3513613  2019-08-23 19:11:30  32.766960 -117.148060    San Diego    CA   \n3513614  2019-08-23 19:00:21  33.775450 -117.847790       Orange    CA   \n3513615  2019-08-23 19:00:21  33.992460 -118.403020  Culver City    CA   \n3513616  2019-08-23 18:52:06  34.133930 -117.230920     Highland    CA   \n\n           Weather_Timestamp  Temperature(F)  Wind_Chill(F)  Visibility(mi)  \\\n641495   2019-12-26 17:15:00            31.0           31.0            10.0   \n641496   2019-12-26 17:15:00            31.0           31.0            10.0   \n740268   2019-12-31 23:53:00            28.0           17.0             7.0   \n740270   2019-12-31 23:53:00            28.0           17.0             7.0   \n740335   2019-12-31 23:54:00            43.0           36.0            10.0   \n...                      ...             ...            ...             ...   \n3513612  2019-08-23 17:53:00            86.0           86.0            10.0   \n3513613  2019-08-23 18:53:00            70.0           70.0            10.0   \n3513614  2019-08-23 18:53:00            73.0           73.0            10.0   \n3513615  2019-08-23 18:51:00            71.0           71.0            10.0   \n3513616  2019-08-23 20:50:00            79.0           79.0             7.0   \n\n        Wind_Direction  Wind_Speed(mph)  Precipitation(in) Weather_Condition  \\\n641495            CALM              0.0                0.0              Fair   \n641496            CALM              0.0                0.0              Fair   \n740268             WSW             13.0                0.0            Cloudy   \n740270             WSW             13.0                0.0            Cloudy   \n740335             WNW             14.0                0.0     Mostly Cloudy   \n...                ...              ...                ...               ...   \n3513612              W             13.0                0.0              Fair   \n3513613             SW              6.0                0.0              Fair   \n3513614            SSW             10.0                0.0     Partly Cloudy   \n3513615             SW              8.0                0.0              Fair   \n3513616             SW              7.0                0.0              Fair   \n\n               Date      Time  \n641495   2019-12-26  17:09:52  \n641496   2019-12-26  17:10:32  \n740268   2019-12-31  23:49:36  \n740270   2019-12-31  23:50:02  \n740335   2019-12-31  23:29:03  \n...             ...       ...  \n3513612  2019-08-23  18:03:25  \n3513613  2019-08-23  19:11:30  \n3513614  2019-08-23  19:00:21  \n3513615  2019-08-23  19:00:21  \n3513616  2019-08-23  18:52:06  \n\n[953733 rows x 15 columns]",
      "text/html": "<div>\n<style scoped>\n    .dataframe tbody tr th:only-of-type {\n        vertical-align: middle;\n    }\n\n    .dataframe tbody tr th {\n        vertical-align: top;\n    }\n\n    .dataframe thead th {\n        text-align: right;\n    }\n</style>\n<table border=\"1\" class=\"dataframe\">\n  <thead>\n    <tr style=\"text-align: right;\">\n      <th></th>\n      <th>Start_Time</th>\n      <th>Start_Lat</th>\n      <th>Start_Lng</th>\n      <th>City</th>\n      <th>State</th>\n      <th>Weather_Timestamp</th>\n      <th>Temperature(F)</th>\n      <th>Wind_Chill(F)</th>\n      <th>Visibility(mi)</th>\n      <th>Wind_Direction</th>\n      <th>Wind_Speed(mph)</th>\n      <th>Precipitation(in)</th>\n      <th>Weather_Condition</th>\n      <th>Date</th>\n      <th>Time</th>\n    </tr>\n  </thead>\n  <tbody>\n    <tr>\n      <th>641495</th>\n      <td>2019-12-26 17:09:52</td>\n      <td>40.884850</td>\n      <td>-95.800362</td>\n      <td>Thurman</td>\n      <td>IA</td>\n      <td>2019-12-26 17:15:00</td>\n      <td>31.0</td>\n      <td>31.0</td>\n      <td>10.0</td>\n      <td>CALM</td>\n      <td>0.0</td>\n      <td>0.0</td>\n      <td>Fair</td>\n      <td>2019-12-26</td>\n      <td>17:09:52</td>\n    </tr>\n    <tr>\n      <th>641496</th>\n      <td>2019-12-26 17:10:32</td>\n      <td>40.889641</td>\n      <td>-95.798630</td>\n      <td>Thurman</td>\n      <td>IA</td>\n      <td>2019-12-26 17:15:00</td>\n      <td>31.0</td>\n      <td>31.0</td>\n      <td>10.0</td>\n      <td>CALM</td>\n      <td>0.0</td>\n      <td>0.0</td>\n      <td>Fair</td>\n      <td>2019-12-26</td>\n      <td>17:10:32</td>\n    </tr>\n    <tr>\n      <th>740268</th>\n      <td>2019-12-31 23:49:36</td>\n      <td>42.313499</td>\n      <td>-83.091225</td>\n      <td>Detroit</td>\n      <td>MI</td>\n      <td>2019-12-31 23:53:00</td>\n      <td>28.0</td>\n      <td>17.0</td>\n      <td>7.0</td>\n      <td>WSW</td>\n      <td>13.0</td>\n      <td>0.0</td>\n      <td>Cloudy</td>\n      <td>2019-12-31</td>\n      <td>23:49:36</td>\n    </tr>\n    <tr>\n      <th>740270</th>\n      <td>2019-12-31 23:50:02</td>\n      <td>42.398125</td>\n      <td>-83.109009</td>\n      <td>Detroit</td>\n      <td>MI</td>\n      <td>2019-12-31 23:53:00</td>\n      <td>28.0</td>\n      <td>17.0</td>\n      <td>7.0</td>\n      <td>WSW</td>\n      <td>13.0</td>\n      <td>0.0</td>\n      <td>Cloudy</td>\n      <td>2019-12-31</td>\n      <td>23:50:02</td>\n    </tr>\n    <tr>\n      <th>740335</th>\n      <td>2019-12-31 23:29:03</td>\n      <td>39.754967</td>\n      <td>-75.276283</td>\n      <td>Swedesboro</td>\n      <td>NJ</td>\n      <td>2019-12-31 23:54:00</td>\n      <td>43.0</td>\n      <td>36.0</td>\n      <td>10.0</td>\n      <td>WNW</td>\n      <td>14.0</td>\n      <td>0.0</td>\n      <td>Mostly Cloudy</td>\n      <td>2019-12-31</td>\n      <td>23:29:03</td>\n    </tr>\n    <tr>\n      <th>...</th>\n      <td>...</td>\n      <td>...</td>\n      <td>...</td>\n      <td>...</td>\n      <td>...</td>\n      <td>...</td>\n      <td>...</td>\n      <td>...</td>\n      <td>...</td>\n      <td>...</td>\n      <td>...</td>\n      <td>...</td>\n      <td>...</td>\n      <td>...</td>\n      <td>...</td>\n    </tr>\n    <tr>\n      <th>3513612</th>\n      <td>2019-08-23 18:03:25</td>\n      <td>34.002480</td>\n      <td>-117.379360</td>\n      <td>Riverside</td>\n      <td>CA</td>\n      <td>2019-08-23 17:53:00</td>\n      <td>86.0</td>\n      <td>86.0</td>\n      <td>10.0</td>\n      <td>W</td>\n      <td>13.0</td>\n      <td>0.0</td>\n      <td>Fair</td>\n      <td>2019-08-23</td>\n      <td>18:03:25</td>\n    </tr>\n    <tr>\n      <th>3513613</th>\n      <td>2019-08-23 19:11:30</td>\n      <td>32.766960</td>\n      <td>-117.148060</td>\n      <td>San Diego</td>\n      <td>CA</td>\n      <td>2019-08-23 18:53:00</td>\n      <td>70.0</td>\n      <td>70.0</td>\n      <td>10.0</td>\n      <td>SW</td>\n      <td>6.0</td>\n      <td>0.0</td>\n      <td>Fair</td>\n      <td>2019-08-23</td>\n      <td>19:11:30</td>\n    </tr>\n    <tr>\n      <th>3513614</th>\n      <td>2019-08-23 19:00:21</td>\n      <td>33.775450</td>\n      <td>-117.847790</td>\n      <td>Orange</td>\n      <td>CA</td>\n      <td>2019-08-23 18:53:00</td>\n      <td>73.0</td>\n      <td>73.0</td>\n      <td>10.0</td>\n      <td>SSW</td>\n      <td>10.0</td>\n      <td>0.0</td>\n      <td>Partly Cloudy</td>\n      <td>2019-08-23</td>\n      <td>19:00:21</td>\n    </tr>\n    <tr>\n      <th>3513615</th>\n      <td>2019-08-23 19:00:21</td>\n      <td>33.992460</td>\n      <td>-118.403020</td>\n      <td>Culver City</td>\n      <td>CA</td>\n      <td>2019-08-23 18:51:00</td>\n      <td>71.0</td>\n      <td>71.0</td>\n      <td>10.0</td>\n      <td>SW</td>\n      <td>8.0</td>\n      <td>0.0</td>\n      <td>Fair</td>\n      <td>2019-08-23</td>\n      <td>19:00:21</td>\n    </tr>\n    <tr>\n      <th>3513616</th>\n      <td>2019-08-23 18:52:06</td>\n      <td>34.133930</td>\n      <td>-117.230920</td>\n      <td>Highland</td>\n      <td>CA</td>\n      <td>2019-08-23 20:50:00</td>\n      <td>79.0</td>\n      <td>79.0</td>\n      <td>7.0</td>\n      <td>SW</td>\n      <td>7.0</td>\n      <td>0.0</td>\n      <td>Fair</td>\n      <td>2019-08-23</td>\n      <td>18:52:06</td>\n    </tr>\n  </tbody>\n</table>\n<p>953733 rows × 15 columns</p>\n</div>"
     },
     "metadata": {},
     "execution_count": 48
    }
   ],
   "source": [
    "final_accident_df_2019 = accident_df_19_20[year_2019]\n",
    "final_accident_df_2019"
   ]
  },
  {
   "cell_type": "code",
   "execution_count": 49,
   "metadata": {},
   "outputs": [
    {
     "output_type": "execute_result",
     "data": {
      "text/plain": "3192937    2019-01-01\n3193479    2019-01-01\n3193573    2019-01-01\n3193572    2019-01-01\n3193571    2019-01-01\n              ...    \n751933     2019-12-31\n751934     2019-12-31\n751935     2019-12-31\n751937     2019-12-31\n751821     2019-12-31\nName: Date, Length: 953733, dtype: object"
     },
     "metadata": {},
     "execution_count": 49
    }
   ],
   "source": [
    "final_accident_df_2019['Date'].sort_values()"
   ]
  },
  {
   "cell_type": "code",
   "execution_count": 50,
   "metadata": {},
   "outputs": [
    {
     "output_type": "execute_result",
     "data": {
      "text/plain": "Index(['Start_Time', 'Start_Lat', 'Start_Lng', 'City', 'State',\n       'Weather_Timestamp', 'Temperature(F)', 'Wind_Chill(F)',\n       'Visibility(mi)', 'Wind_Direction', 'Wind_Speed(mph)',\n       'Precipitation(in)', 'Weather_Condition', 'Date', 'Time'],\n      dtype='object')"
     },
     "metadata": {},
     "execution_count": 50
    }
   ],
   "source": [
    "final_accident_df_2019.columns"
   ]
  },
  {
   "cell_type": "code",
   "execution_count": 51,
   "metadata": {},
   "outputs": [],
   "source": [
    "new_order = ['Date','Time','Start_Time', 'Start_Lat', 'Start_Lng', 'City', 'State',\n",
    "       'Weather_Timestamp', 'Temperature(F)', 'Wind_Chill(F)',\n",
    "       'Visibility(mi)', 'Wind_Direction', 'Wind_Speed(mph)',\n",
    "       'Precipitation(in)', 'Weather_Condition']\n",
    "final_accident_df_2019 = final_accident_df_2019.reindex(columns = new_order)"
   ]
  },
  {
   "cell_type": "code",
   "execution_count": 52,
   "metadata": {},
   "outputs": [
    {
     "output_type": "execute_result",
     "data": {
      "text/plain": "               Date      Time           Start_Time  Start_Lat   Start_Lng  \\\n641495   2019-12-26  17:09:52  2019-12-26 17:09:52  40.884850  -95.800362   \n641496   2019-12-26  17:10:32  2019-12-26 17:10:32  40.889641  -95.798630   \n740268   2019-12-31  23:49:36  2019-12-31 23:49:36  42.313499  -83.091225   \n740270   2019-12-31  23:50:02  2019-12-31 23:50:02  42.398125  -83.109009   \n740335   2019-12-31  23:29:03  2019-12-31 23:29:03  39.754967  -75.276283   \n...             ...       ...                  ...        ...         ...   \n3513612  2019-08-23  18:03:25  2019-08-23 18:03:25  34.002480 -117.379360   \n3513613  2019-08-23  19:11:30  2019-08-23 19:11:30  32.766960 -117.148060   \n3513614  2019-08-23  19:00:21  2019-08-23 19:00:21  33.775450 -117.847790   \n3513615  2019-08-23  19:00:21  2019-08-23 19:00:21  33.992460 -118.403020   \n3513616  2019-08-23  18:52:06  2019-08-23 18:52:06  34.133930 -117.230920   \n\n                City State    Weather_Timestamp  Temperature(F)  \\\n641495       Thurman    IA  2019-12-26 17:15:00            31.0   \n641496       Thurman    IA  2019-12-26 17:15:00            31.0   \n740268       Detroit    MI  2019-12-31 23:53:00            28.0   \n740270       Detroit    MI  2019-12-31 23:53:00            28.0   \n740335    Swedesboro    NJ  2019-12-31 23:54:00            43.0   \n...              ...   ...                  ...             ...   \n3513612    Riverside    CA  2019-08-23 17:53:00            86.0   \n3513613    San Diego    CA  2019-08-23 18:53:00            70.0   \n3513614       Orange    CA  2019-08-23 18:53:00            73.0   \n3513615  Culver City    CA  2019-08-23 18:51:00            71.0   \n3513616     Highland    CA  2019-08-23 20:50:00            79.0   \n\n         Wind_Chill(F)  Visibility(mi) Wind_Direction  Wind_Speed(mph)  \\\n641495            31.0            10.0           CALM              0.0   \n641496            31.0            10.0           CALM              0.0   \n740268            17.0             7.0            WSW             13.0   \n740270            17.0             7.0            WSW             13.0   \n740335            36.0            10.0            WNW             14.0   \n...                ...             ...            ...              ...   \n3513612           86.0            10.0              W             13.0   \n3513613           70.0            10.0             SW              6.0   \n3513614           73.0            10.0            SSW             10.0   \n3513615           71.0            10.0             SW              8.0   \n3513616           79.0             7.0             SW              7.0   \n\n         Precipitation(in) Weather_Condition  \n641495                 0.0              Fair  \n641496                 0.0              Fair  \n740268                 0.0            Cloudy  \n740270                 0.0            Cloudy  \n740335                 0.0     Mostly Cloudy  \n...                    ...               ...  \n3513612                0.0              Fair  \n3513613                0.0              Fair  \n3513614                0.0     Partly Cloudy  \n3513615                0.0              Fair  \n3513616                0.0              Fair  \n\n[953733 rows x 15 columns]",
      "text/html": "<div>\n<style scoped>\n    .dataframe tbody tr th:only-of-type {\n        vertical-align: middle;\n    }\n\n    .dataframe tbody tr th {\n        vertical-align: top;\n    }\n\n    .dataframe thead th {\n        text-align: right;\n    }\n</style>\n<table border=\"1\" class=\"dataframe\">\n  <thead>\n    <tr style=\"text-align: right;\">\n      <th></th>\n      <th>Date</th>\n      <th>Time</th>\n      <th>Start_Time</th>\n      <th>Start_Lat</th>\n      <th>Start_Lng</th>\n      <th>City</th>\n      <th>State</th>\n      <th>Weather_Timestamp</th>\n      <th>Temperature(F)</th>\n      <th>Wind_Chill(F)</th>\n      <th>Visibility(mi)</th>\n      <th>Wind_Direction</th>\n      <th>Wind_Speed(mph)</th>\n      <th>Precipitation(in)</th>\n      <th>Weather_Condition</th>\n    </tr>\n  </thead>\n  <tbody>\n    <tr>\n      <th>641495</th>\n      <td>2019-12-26</td>\n      <td>17:09:52</td>\n      <td>2019-12-26 17:09:52</td>\n      <td>40.884850</td>\n      <td>-95.800362</td>\n      <td>Thurman</td>\n      <td>IA</td>\n      <td>2019-12-26 17:15:00</td>\n      <td>31.0</td>\n      <td>31.0</td>\n      <td>10.0</td>\n      <td>CALM</td>\n      <td>0.0</td>\n      <td>0.0</td>\n      <td>Fair</td>\n    </tr>\n    <tr>\n      <th>641496</th>\n      <td>2019-12-26</td>\n      <td>17:10:32</td>\n      <td>2019-12-26 17:10:32</td>\n      <td>40.889641</td>\n      <td>-95.798630</td>\n      <td>Thurman</td>\n      <td>IA</td>\n      <td>2019-12-26 17:15:00</td>\n      <td>31.0</td>\n      <td>31.0</td>\n      <td>10.0</td>\n      <td>CALM</td>\n      <td>0.0</td>\n      <td>0.0</td>\n      <td>Fair</td>\n    </tr>\n    <tr>\n      <th>740268</th>\n      <td>2019-12-31</td>\n      <td>23:49:36</td>\n      <td>2019-12-31 23:49:36</td>\n      <td>42.313499</td>\n      <td>-83.091225</td>\n      <td>Detroit</td>\n      <td>MI</td>\n      <td>2019-12-31 23:53:00</td>\n      <td>28.0</td>\n      <td>17.0</td>\n      <td>7.0</td>\n      <td>WSW</td>\n      <td>13.0</td>\n      <td>0.0</td>\n      <td>Cloudy</td>\n    </tr>\n    <tr>\n      <th>740270</th>\n      <td>2019-12-31</td>\n      <td>23:50:02</td>\n      <td>2019-12-31 23:50:02</td>\n      <td>42.398125</td>\n      <td>-83.109009</td>\n      <td>Detroit</td>\n      <td>MI</td>\n      <td>2019-12-31 23:53:00</td>\n      <td>28.0</td>\n      <td>17.0</td>\n      <td>7.0</td>\n      <td>WSW</td>\n      <td>13.0</td>\n      <td>0.0</td>\n      <td>Cloudy</td>\n    </tr>\n    <tr>\n      <th>740335</th>\n      <td>2019-12-31</td>\n      <td>23:29:03</td>\n      <td>2019-12-31 23:29:03</td>\n      <td>39.754967</td>\n      <td>-75.276283</td>\n      <td>Swedesboro</td>\n      <td>NJ</td>\n      <td>2019-12-31 23:54:00</td>\n      <td>43.0</td>\n      <td>36.0</td>\n      <td>10.0</td>\n      <td>WNW</td>\n      <td>14.0</td>\n      <td>0.0</td>\n      <td>Mostly Cloudy</td>\n    </tr>\n    <tr>\n      <th>...</th>\n      <td>...</td>\n      <td>...</td>\n      <td>...</td>\n      <td>...</td>\n      <td>...</td>\n      <td>...</td>\n      <td>...</td>\n      <td>...</td>\n      <td>...</td>\n      <td>...</td>\n      <td>...</td>\n      <td>...</td>\n      <td>...</td>\n      <td>...</td>\n      <td>...</td>\n    </tr>\n    <tr>\n      <th>3513612</th>\n      <td>2019-08-23</td>\n      <td>18:03:25</td>\n      <td>2019-08-23 18:03:25</td>\n      <td>34.002480</td>\n      <td>-117.379360</td>\n      <td>Riverside</td>\n      <td>CA</td>\n      <td>2019-08-23 17:53:00</td>\n      <td>86.0</td>\n      <td>86.0</td>\n      <td>10.0</td>\n      <td>W</td>\n      <td>13.0</td>\n      <td>0.0</td>\n      <td>Fair</td>\n    </tr>\n    <tr>\n      <th>3513613</th>\n      <td>2019-08-23</td>\n      <td>19:11:30</td>\n      <td>2019-08-23 19:11:30</td>\n      <td>32.766960</td>\n      <td>-117.148060</td>\n      <td>San Diego</td>\n      <td>CA</td>\n      <td>2019-08-23 18:53:00</td>\n      <td>70.0</td>\n      <td>70.0</td>\n      <td>10.0</td>\n      <td>SW</td>\n      <td>6.0</td>\n      <td>0.0</td>\n      <td>Fair</td>\n    </tr>\n    <tr>\n      <th>3513614</th>\n      <td>2019-08-23</td>\n      <td>19:00:21</td>\n      <td>2019-08-23 19:00:21</td>\n      <td>33.775450</td>\n      <td>-117.847790</td>\n      <td>Orange</td>\n      <td>CA</td>\n      <td>2019-08-23 18:53:00</td>\n      <td>73.0</td>\n      <td>73.0</td>\n      <td>10.0</td>\n      <td>SSW</td>\n      <td>10.0</td>\n      <td>0.0</td>\n      <td>Partly Cloudy</td>\n    </tr>\n    <tr>\n      <th>3513615</th>\n      <td>2019-08-23</td>\n      <td>19:00:21</td>\n      <td>2019-08-23 19:00:21</td>\n      <td>33.992460</td>\n      <td>-118.403020</td>\n      <td>Culver City</td>\n      <td>CA</td>\n      <td>2019-08-23 18:51:00</td>\n      <td>71.0</td>\n      <td>71.0</td>\n      <td>10.0</td>\n      <td>SW</td>\n      <td>8.0</td>\n      <td>0.0</td>\n      <td>Fair</td>\n    </tr>\n    <tr>\n      <th>3513616</th>\n      <td>2019-08-23</td>\n      <td>18:52:06</td>\n      <td>2019-08-23 18:52:06</td>\n      <td>34.133930</td>\n      <td>-117.230920</td>\n      <td>Highland</td>\n      <td>CA</td>\n      <td>2019-08-23 20:50:00</td>\n      <td>79.0</td>\n      <td>79.0</td>\n      <td>7.0</td>\n      <td>SW</td>\n      <td>7.0</td>\n      <td>0.0</td>\n      <td>Fair</td>\n    </tr>\n  </tbody>\n</table>\n<p>953733 rows × 15 columns</p>\n</div>"
     },
     "metadata": {},
     "execution_count": 52
    }
   ],
   "source": [
    "final_accident_df_2019"
   ]
  },
  {
   "cell_type": "code",
   "execution_count": null,
   "metadata": {},
   "outputs": [],
   "source": []
  }
 ]
}