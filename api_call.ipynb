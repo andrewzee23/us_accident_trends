{
 "metadata": {
  "language_info": {
   "codemirror_mode": {
    "name": "ipython",
    "version": 3
   },
   "file_extension": ".py",
   "mimetype": "text/x-python",
   "name": "python",
   "nbconvert_exporter": "python",
   "pygments_lexer": "ipython3",
   "version": "3.6.10-final"
  },
  "orig_nbformat": 2,
  "kernelspec": {
   "name": "python_defaultSpec_1597672711548",
   "display_name": "Python 3.6.10 64-bit ('PythonData': conda)"
  }
 },
 "nbformat": 4,
 "nbformat_minor": 2,
 "cells": [
  {
   "cell_type": "code",
   "execution_count": 1,
   "metadata": {},
   "outputs": [
    {
     "output_type": "execute_result",
     "data": {
      "text/plain": "'58ef8a17cf71342de6cc612f4a0941da'"
     },
     "metadata": {},
     "execution_count": 1
    }
   ],
   "source": [
    "import requests\n",
    "import json\n",
    "from api_key import weather_key\n",
    "weather_key"
   ]
  },
  {
   "cell_type": "code",
   "execution_count": 2,
   "metadata": {},
   "outputs": [
    {
     "output_type": "execute_result",
     "data": {
      "text/plain": "'http://api.openweathermap.org/data/2.5/weather?appid=58ef8a17cf71342de6cc612f4a0941da&q=San Antonio'"
     },
     "metadata": {},
     "execution_count": 2
    }
   ],
   "source": [
    "url = \"http://api.openweathermap.org/data/2.5/weather?\"\n",
    "city = \"\"\n",
    "\n",
    "# Build query URL\n",
    "query_url = url + 'appid=' + weather_key + \"&q=\" + city\n",
    "query_url"
   ]
  },
  {
   "cell_type": "code",
   "execution_count": 13,
   "metadata": {},
   "outputs": [
    {
     "output_type": "execute_result",
     "data": {
      "text/plain": "{'coord': {'lon': -80.19, 'lat': 25.77},\n 'weather': [{'id': 802,\n   'main': 'Clouds',\n   'description': 'scattered clouds',\n   'icon': '03d'}],\n 'base': 'stations',\n 'main': {'temp': 303.56,\n  'feels_like': 307.74,\n  'temp_min': 302.15,\n  'temp_max': 304.82,\n  'pressure': 1016,\n  'humidity': 70},\n 'visibility': 10000,\n 'wind': {'speed': 2.6, 'deg': 240},\n 'clouds': {'all': 40},\n 'dt': 1597672534,\n 'sys': {'type': 1,\n  'id': 4896,\n  'country': 'US',\n  'sunrise': 1597661702,\n  'sunset': 1597708481},\n 'timezone': -14400,\n 'id': 4164138,\n 'name': 'Miami',\n 'cod': 200}"
     },
     "metadata": {},
     "execution_count": 13
    }
   ],
   "source": [
    "weather_json = requests.get(query_url).json()\n",
    "weather_json"
   ]
  },
  {
   "cell_type": "code",
   "execution_count": 14,
   "metadata": {},
   "outputs": [
    {
     "output_type": "execute_result",
     "data": {
      "text/plain": "303.56"
     },
     "metadata": {},
     "execution_count": 14
    }
   ],
   "source": [
    "weather_k = weather_json['main']['temp']\n",
    "weather_k"
   ]
  },
  {
   "cell_type": "code",
   "execution_count": 15,
   "metadata": {},
   "outputs": [
    {
     "output_type": "execute_result",
     "data": {
      "text/plain": "30.410000000000025"
     },
     "metadata": {},
     "execution_count": 15
    }
   ],
   "source": [
    "#k to c\n",
    "weather_c = weather_k - 273.15\n",
    "weather_c"
   ]
  },
  {
   "cell_type": "code",
   "execution_count": 16,
   "metadata": {},
   "outputs": [
    {
     "output_type": "execute_result",
     "data": {
      "text/plain": "86.73800000000004"
     },
     "metadata": {},
     "execution_count": 16
    }
   ],
   "source": [
    "weather_f = (weather_c * 9/5) + 32\n",
    "weather_f"
   ]
  }
 ]
}