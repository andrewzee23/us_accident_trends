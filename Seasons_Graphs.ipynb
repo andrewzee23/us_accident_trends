{
 "cells": [
  {
   "cell_type": "code",
   "execution_count": 18,
   "metadata": {},
   "outputs": [],
   "source": [
    "import pandas as pd\n",
    "import csv\n",
    "import json\n",
    "import numpy as np\n",
    "from census import Census\n",
    "import requests\n",
    "from us import states\n",
    "from api_key import weather_key\n",
    "import matplotlib.pyplot as plt\n",
    "import scipy.stats as sts"
   ]
  },
  {
   "cell_type": "code",
   "execution_count": 25,
   "metadata": {},
   "outputs": [
    {
     "data": {
      "text/html": [
       "<div>\n",
       "<style scoped>\n",
       "    .dataframe tbody tr th:only-of-type {\n",
       "        vertical-align: middle;\n",
       "    }\n",
       "\n",
       "    .dataframe tbody tr th {\n",
       "        vertical-align: top;\n",
       "    }\n",
       "\n",
       "    .dataframe thead th {\n",
       "        text-align: right;\n",
       "    }\n",
       "</style>\n",
       "<table border=\"1\" class=\"dataframe\">\n",
       "  <thead>\n",
       "    <tr style=\"text-align: right;\">\n",
       "      <th></th>\n",
       "      <th>Date</th>\n",
       "      <th>Time</th>\n",
       "      <th>Start_Time</th>\n",
       "      <th>Start_Lat</th>\n",
       "      <th>Start_Lng</th>\n",
       "      <th>City</th>\n",
       "      <th>State</th>\n",
       "      <th>Weather_Timestamp</th>\n",
       "      <th>Temperature(F)</th>\n",
       "      <th>Wind_Chill(F)</th>\n",
       "      <th>Visibility(mi)</th>\n",
       "      <th>Wind_Direction</th>\n",
       "      <th>Wind_Speed(mph)</th>\n",
       "      <th>Precipitation(in)</th>\n",
       "      <th>Weather_Condition</th>\n",
       "    </tr>\n",
       "  </thead>\n",
       "  <tbody>\n",
       "    <tr>\n",
       "      <th>0</th>\n",
       "      <td>2019-05-29</td>\n",
       "      <td>12:19:25</td>\n",
       "      <td>2019-05-29 12:19:25</td>\n",
       "      <td>34.696480</td>\n",
       "      <td>-85.569298</td>\n",
       "      <td>Valley Head</td>\n",
       "      <td>AL</td>\n",
       "      <td>2019-05-29 12:15:00</td>\n",
       "      <td>89.0</td>\n",
       "      <td>89.0</td>\n",
       "      <td>10.0</td>\n",
       "      <td>WSW</td>\n",
       "      <td>15.0</td>\n",
       "      <td>0.0</td>\n",
       "      <td>Fair</td>\n",
       "    </tr>\n",
       "    <tr>\n",
       "      <th>1</th>\n",
       "      <td>2019-05-26</td>\n",
       "      <td>12:12:05</td>\n",
       "      <td>2019-05-26 12:12:05</td>\n",
       "      <td>40.690338</td>\n",
       "      <td>-95.782410</td>\n",
       "      <td>Percival</td>\n",
       "      <td>IA</td>\n",
       "      <td>2019-05-26 12:15:00</td>\n",
       "      <td>73.0</td>\n",
       "      <td>73.0</td>\n",
       "      <td>10.0</td>\n",
       "      <td>SSE</td>\n",
       "      <td>3.0</td>\n",
       "      <td>0.0</td>\n",
       "      <td>Mostly Cloudy</td>\n",
       "    </tr>\n",
       "    <tr>\n",
       "      <th>2</th>\n",
       "      <td>2019-05-09</td>\n",
       "      <td>02:52:36</td>\n",
       "      <td>2019-05-09 02:52:36</td>\n",
       "      <td>40.757980</td>\n",
       "      <td>-95.819359</td>\n",
       "      <td>Percival</td>\n",
       "      <td>IA</td>\n",
       "      <td>2019-05-09 02:55:00</td>\n",
       "      <td>40.0</td>\n",
       "      <td>31.0</td>\n",
       "      <td>10.0</td>\n",
       "      <td>NNW</td>\n",
       "      <td>17.0</td>\n",
       "      <td>0.0</td>\n",
       "      <td>Cloudy</td>\n",
       "    </tr>\n",
       "    <tr>\n",
       "      <th>3</th>\n",
       "      <td>2019-05-09</td>\n",
       "      <td>02:44:47</td>\n",
       "      <td>2019-05-09 02:44:47</td>\n",
       "      <td>40.822060</td>\n",
       "      <td>-95.807648</td>\n",
       "      <td>Thurman</td>\n",
       "      <td>IA</td>\n",
       "      <td>2019-05-09 02:35:00</td>\n",
       "      <td>40.0</td>\n",
       "      <td>31.0</td>\n",
       "      <td>10.0</td>\n",
       "      <td>NW</td>\n",
       "      <td>17.0</td>\n",
       "      <td>0.0</td>\n",
       "      <td>Cloudy</td>\n",
       "    </tr>\n",
       "    <tr>\n",
       "      <th>4</th>\n",
       "      <td>2019-05-09</td>\n",
       "      <td>02:41:42</td>\n",
       "      <td>2019-05-09 02:41:42</td>\n",
       "      <td>40.825241</td>\n",
       "      <td>-95.806221</td>\n",
       "      <td>Thurman</td>\n",
       "      <td>IA</td>\n",
       "      <td>2019-05-09 02:35:00</td>\n",
       "      <td>40.0</td>\n",
       "      <td>31.0</td>\n",
       "      <td>10.0</td>\n",
       "      <td>NW</td>\n",
       "      <td>17.0</td>\n",
       "      <td>0.0</td>\n",
       "      <td>Cloudy</td>\n",
       "    </tr>\n",
       "  </tbody>\n",
       "</table>\n",
       "</div>"
      ],
      "text/plain": [
       "         Date      Time           Start_Time  Start_Lat  Start_Lng  \\\n",
       "0  2019-05-29  12:19:25  2019-05-29 12:19:25  34.696480 -85.569298   \n",
       "1  2019-05-26  12:12:05  2019-05-26 12:12:05  40.690338 -95.782410   \n",
       "2  2019-05-09  02:52:36  2019-05-09 02:52:36  40.757980 -95.819359   \n",
       "3  2019-05-09  02:44:47  2019-05-09 02:44:47  40.822060 -95.807648   \n",
       "4  2019-05-09  02:41:42  2019-05-09 02:41:42  40.825241 -95.806221   \n",
       "\n",
       "          City State    Weather_Timestamp  Temperature(F)  Wind_Chill(F)  \\\n",
       "0  Valley Head    AL  2019-05-29 12:15:00            89.0           89.0   \n",
       "1     Percival    IA  2019-05-26 12:15:00            73.0           73.0   \n",
       "2     Percival    IA  2019-05-09 02:55:00            40.0           31.0   \n",
       "3      Thurman    IA  2019-05-09 02:35:00            40.0           31.0   \n",
       "4      Thurman    IA  2019-05-09 02:35:00            40.0           31.0   \n",
       "\n",
       "   Visibility(mi) Wind_Direction  Wind_Speed(mph)  Precipitation(in)  \\\n",
       "0            10.0            WSW             15.0                0.0   \n",
       "1            10.0            SSE              3.0                0.0   \n",
       "2            10.0            NNW             17.0                0.0   \n",
       "3            10.0             NW             17.0                0.0   \n",
       "4            10.0             NW             17.0                0.0   \n",
       "\n",
       "  Weather_Condition  \n",
       "0              Fair  \n",
       "1     Mostly Cloudy  \n",
       "2            Cloudy  \n",
       "3            Cloudy  \n",
       "4            Cloudy  "
      ]
     },
     "execution_count": 25,
     "metadata": {},
     "output_type": "execute_result"
    }
   ],
   "source": [
    "file_path = 'spring_accidents.csv'\n",
    "\n",
    "spring_accidents = pd.read_csv(file_path)\n",
    "spring_accidents.head()"
   ]
  },
  {
   "cell_type": "code",
   "execution_count": 30,
   "metadata": {
    "scrolled": true
   },
   "outputs": [
    {
     "data": {
      "text/plain": [
       "0    AL\n",
       "1    IA\n",
       "2    IA\n",
       "3    IA\n",
       "4    IA\n",
       "Name: State, dtype: object"
      ]
     },
     "execution_count": 30,
     "metadata": {},
     "output_type": "execute_result"
    }
   ],
   "source": [
    "state = spring_accidents['State']\n",
    "state.head()"
   ]
  },
  {
   "cell_type": "code",
   "execution_count": 31,
   "metadata": {},
   "outputs": [
    {
     "name": "stdout",
     "output_type": "stream",
     "text": [
      "The mode spring precipitation for 2019 is: ModeResult(mode=array(['CA'], dtype=object), count=array([35459]))\n"
     ]
    },
    {
     "data": {
      "text/plain": [
       "ModeResult(mode=array(['CA'], dtype=object), count=array([35459]))"
      ]
     },
     "execution_count": 31,
     "metadata": {},
     "output_type": "execute_result"
    }
   ],
   "source": [
    "mode_spring = sts.mode(state)\n",
    "print(f\"The mode spring precipitation for 2019 is: {mode_spring}\")\n",
    "mode_spring"
   ]
  },
  {
   "cell_type": "code",
   "execution_count": 36,
   "metadata": {},
   "outputs": [
    {
     "data": {
      "image/png": "[encoded data removed]",
      "text/plain": [
       "<Figure size 432x288 with 1 Axes>"
      ]
     },
     "metadata": {
      "needs_background": "light"
     },
     "output_type": "display_data"
    }
   ],
   "source": [
    "plt.hist(state)\n",
    "plt.xlabel('State')\n",
    "plt.ylabel('Count')\n",
    "plt.xticks(rotation=90)\n",
    "plt.show()"
   ]
  },
  {
   "cell_type": "code",
   "execution_count": null,
   "metadata": {},
   "outputs": [],
   "source": [
    "summer = final_accident_df[(final_accident_df['Date'] >= '2019-06-01') & (final_accident_df['Date'] <= '2019-08-31')]\n",
    "summer.head()"
   ]
  },
  {
   "cell_type": "code",
   "execution_count": null,
   "metadata": {},
   "outputs": [],
   "source": [
    "fall = final_accident_df[(final_accident_df['Date'] >= '2019-09-01') & (final_accident_df['Date'] <= '2019-11-30')]\n",
    "fall.head()"
   ]
  },
  {
   "cell_type": "code",
   "execution_count": null,
   "metadata": {},
   "outputs": [],
   "source": [
    "winter_1 = final_accident_df[(final_accident_df['Date'] >= '2019-12-01') & (final_accident_df['Date'] <= '2019-12-31')]\n",
    "winter_1\n",
    "\n",
    "winter_2 = final_accident_df[(final_accident_df['Date'] >= '2019-01-01') & (final_accident_df['Date'] <= '2019-02-28')]\n",
    "winter_2\n",
    "\n",
    "winter = winter_1.append(winter_2)\n",
    "winter"
   ]
  },
  {
   "cell_type": "code",
   "execution_count": null,
   "metadata": {},
   "outputs": [],
   "source": []
  }
 ],
 "metadata": {
  "kernelspec": {
   "display_name": "Python [conda env:pythondata] *",
   "language": "python",
   "name": "conda-env-pythondata-py"
  },
  "language_info": {
   "codemirror_mode": {
    "name": "ipython",
    "version": 3
   },
   "file_extension": ".py",
   "mimetype": "text/x-python",
   "name": "python",
   "nbconvert_exporter": "python",
   "pygments_lexer": "ipython3",
   "version": "3.8.5"
  }
 },
 "nbformat": 4,
 "nbformat_minor": 4
}
