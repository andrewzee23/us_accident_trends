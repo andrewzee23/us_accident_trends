{
 "cells": [
  {
   "cell_type": "code",
   "execution_count": 2,
   "metadata": {},
   "outputs": [],
   "source": [
    "import pandas as pd\n",
    "import csv\n",
    "import json\n",
    "import numpy as np\n",
    "from census import Census\n",
    "import requests\n",
    "from us import states\n",
    "from api_key import weather_key\n",
    "import matplotlib.pyplot as plt\n",
    "import scipy.stats as sts"
   ]
  },
  {
   "cell_type": "code",
   "execution_count": 3,
   "metadata": {},
   "outputs": [
    {
     "data": {
      "text/plain": [
       "Los Angeles      19668\n",
       "Sacramento        8541\n",
       "San Diego         6217\n",
       "San Jose          5355\n",
       "Oakland           3764\n",
       "                 ...  \n",
       "North Coastal        1\n",
       "Redway               1\n",
       "Mcarthur             1\n",
       "Valley Ford          1\n",
       "Diablo               1\n",
       "Name: City, Length: 1027, dtype: int64"
      ]
     },
     "execution_count": 3,
     "metadata": {},
     "output_type": "execute_result"
    }
   ],
   "source": [
    "#call in the 2019 US accident csv\n",
    "file_path = 'final_accident.csv'\n",
    "final_accident_df = pd.read_csv(file_path)\n",
    "\n",
    "#pull california accidents out of 2019 US Accident\n",
    "ca_totals = final_accident_df[final_accident_df.State == 'CA']\n",
    "\n",
    "#find california city with the most accidents\n",
    "ca_city = ca_totals['City'].value_counts()\n",
    "ca_city"
   ]
  },
  {
   "cell_type": "code",
   "execution_count": 5,
   "metadata": {},
   "outputs": [
    {
     "data": {
      "text/plain": [
       "19668"
      ]
     },
     "execution_count": 5,
     "metadata": {},
     "output_type": "execute_result"
    }
   ],
   "source": [
    "ca_la = ca_totals[ca_totals.City == 'Los Angeles']\n",
    "ca_la_accidents = ca_la['Date'].count()\n",
    "ca_la_accidents"
   ]
  },
  {
   "cell_type": "code",
   "execution_count": 42,
   "metadata": {},
   "outputs": [
    {
     "name": "stderr",
     "output_type": "stream",
     "text": [
      "<ipython-input-42-bedd9af6d253>:2: SettingWithCopyWarning: \n",
      "A value is trying to be set on a copy of a slice from a DataFrame.\n",
      "Try using .loc[row_indexer,col_indexer] = value instead\n",
      "\n",
      "See the caveats in the documentation: https://pandas.pydata.org/pandas-docs/stable/user_guide/indexing.html#returning-a-view-versus-a-copy\n",
      "  ca_la['Precipitation(in)'] = ca_la['Precipitation(in)'].fillna(0)\n"
     ]
    },
    {
     "data": {
      "image/png": "[encoded data removed]",
      "text/plain": [
       "<Figure size 432x288 with 1 Axes>"
      ]
     },
     "metadata": {
      "needs_background": "light"
     },
     "output_type": "display_data"
    }
   ],
   "source": [
    "#2019 los Angeles, CA total accidents wet/dry bar graph\n",
    "ca_la['Precipitation(in)'] = ca_la['Precipitation(in)'].fillna(0)\n",
    "precip = ca_la['Precipitation(in)'] > 0\n",
    "precip_wet = ca_la[precip]['Date'].count()\n",
    "no_precip = ca_la['Precipitation(in)'] == 0\n",
    "precip_dry = ca_la[no_precip]['Date'].count()\n",
    "df = pd.DataFrame({'Weather Condition':['Precipitation', 'Non-Precipitation'],'No. La Accidents':[precip_wet,precip_dry]})\n",
    "ax = df.plot.bar(x='Weather Condition', y='No. La Accidents', rot=0, title = 'Accidents vs Weather Condition in Los Angeles', color = 'royalblue')\n",
    "ax.set_ylabel('Accidents', size=12)\n",
    "ax.set_xlabel('Weather Condition', size=12)\n",
    "plt.show()"
   ]
  },
  {
   "cell_type": "code",
   "execution_count": 43,
   "metadata": {},
   "outputs": [],
   "source": [
    "total_precip_days = 34\n",
    "total_dry_days = 331\n",
    "\n",
    "precip_expected = (total_precip_days / 365) * ca_la_accidents\n",
    "no_precip_expected = (total_dry_days / 365) * ca_la_accidents"
   ]
  },
  {
   "cell_type": "code",
   "execution_count": 44,
   "metadata": {},
   "outputs": [
    {
     "data": {
      "text/plain": [
       "Power_divergenceResult(statistic=545.599709660983, pvalue=1.1408774584757602e-120)"
      ]
     },
     "execution_count": 44,
     "metadata": {},
     "output_type": "execute_result"
    }
   ],
   "source": [
    "#Chi_square test on 2019 US Accidents\n",
    "observed = pd.Series([precip_wet, precip_dry], index=['Precipitation','Non-Precipitation'])\n",
    "df = pd.DataFrame([observed]).T\n",
    "df[1] = 0\n",
    "df.columns = ['observed','expected']\n",
    "df.loc['Precipitation','expected'] = round(precip_expected,2)\n",
    "df.loc['Non-Precipitation','expected'] = round(no_precip_expected,2)\n",
    "df.head()\n",
    "critical_value = sts.chi2.ppf(q=0.95, df = 1)\n",
    "critical_value\n",
    "sts.chisquare(df['observed'], df['expected'])"
   ]
  },
  {
   "cell_type": "code",
   "execution_count": 45,
   "metadata": {},
   "outputs": [
    {
     "data": {
      "text/html": [
       "<div>\n",
       "<style scoped>\n",
       "    .dataframe tbody tr th:only-of-type {\n",
       "        vertical-align: middle;\n",
       "    }\n",
       "\n",
       "    .dataframe tbody tr th {\n",
       "        vertical-align: top;\n",
       "    }\n",
       "\n",
       "    .dataframe thead th {\n",
       "        text-align: right;\n",
       "    }\n",
       "</style>\n",
       "<table border=\"1\" class=\"dataframe\">\n",
       "  <thead>\n",
       "    <tr style=\"text-align: right;\">\n",
       "      <th></th>\n",
       "      <th>observed</th>\n",
       "      <th>expected</th>\n",
       "    </tr>\n",
       "  </thead>\n",
       "  <tbody>\n",
       "    <tr>\n",
       "      <th>Precipitation</th>\n",
       "      <td>880</td>\n",
       "      <td>1832.09</td>\n",
       "    </tr>\n",
       "    <tr>\n",
       "      <th>Non-Precipitation</th>\n",
       "      <td>18788</td>\n",
       "      <td>17835.91</td>\n",
       "    </tr>\n",
       "  </tbody>\n",
       "</table>\n",
       "</div>"
      ],
      "text/plain": [
       "                   observed  expected\n",
       "Precipitation           880   1832.09\n",
       "Non-Precipitation     18788  17835.91"
      ]
     },
     "execution_count": 45,
     "metadata": {},
     "output_type": "execute_result"
    }
   ],
   "source": [
    "df"
   ]
  },
  {
   "cell_type": "code",
   "execution_count": 46,
   "metadata": {},
   "outputs": [
    {
     "data": {
      "text/plain": [
       "3.841458820694124"
      ]
     },
     "execution_count": 46,
     "metadata": {},
     "output_type": "execute_result"
    }
   ],
   "source": [
    "critical_value"
   ]
  },
  {
   "cell_type": "code",
   "execution_count": 47,
   "metadata": {},
   "outputs": [
    {
     "data": {
      "image/png": "[encoded data removed]",
      "text/plain": [
       "<Figure size 432x288 with 1 Axes>"
      ]
     },
     "metadata": {
      "needs_background": "light"
     },
     "output_type": "display_data"
    },
    {
     "name": "stdout",
     "output_type": "stream",
     "text": [
      "Mean: 0.09240909090909091\n",
      "Median: 0.06\n",
      "Mode: 0    0.01\n",
      "dtype: float64\n"
     ]
    }
   ],
   "source": [
    "#turn precip column into series for hist\n",
    "precipitation_la = ca_la[ca_la[\"Precipitation(in)\"] > 0]\n",
    "len(precipitation)\n",
    "\n",
    "#reset variable for hist. based on new df\n",
    "precip_hist = precipitation_la['Precipitation(in)']\n",
    "\n",
    "#determine hist of precip\n",
    "plt.hist(precip_hist)\n",
    "plt.xlabel('Precipitation(in)')\n",
    "plt.ylabel('Count')\n",
    "plt.xticks(rotation=90)\n",
    "plt.show()\n",
    "\n",
    "#determine measures of data\n",
    "mean = precipitation_la['Precipitation(in)'].mean()\n",
    "median = precipitation_la['Precipitation(in)'].median()\n",
    "mode = precipitation_la['Precipitation(in)'].mode()\n",
    "print(f'Mean: {mean}')\n",
    "print(f'Median: {median}')\n",
    "print(f'Mode: {mode}')"
   ]
  },
  {
   "cell_type": "code",
   "execution_count": 48,
   "metadata": {},
   "outputs": [
    {
     "data": {
      "image/png": "[encoded data removed]",
      "text/plain": [
       "<Figure size 432x288 with 1 Axes>"
      ]
     },
     "metadata": {
      "needs_background": "light"
     },
     "output_type": "display_data"
    },
    {
     "name": "stdout",
     "output_type": "stream",
     "text": [
      "Mean: 66.53575742067554\n",
      "Median: 66.0\n",
      "Mode: 0    63.0\n",
      "dtype: float64\n"
     ]
    }
   ],
   "source": [
    "#turn precip column into series for hist\n",
    "temp = ca_la[ca_la[\"Temperature(F)\"] > 0]\n",
    "\n",
    "#reset variable for hist. based on new df\n",
    "temp_hist = temp['Temperature(F)']\n",
    "\n",
    "#determine hist of precip\n",
    "plt.hist(temp_hist)\n",
    "plt.xlabel('Temperature(F)')\n",
    "plt.ylabel('Count')\n",
    "plt.xticks(rotation=90)\n",
    "plt.show()\n",
    "\n",
    "#determine measures of data\n",
    "mean = temp['Temperature(F)'].mean()\n",
    "median = temp['Temperature(F)'].median()\n",
    "mode = temp['Temperature(F)'].mode()\n",
    "print(f'Mean: {mean}')\n",
    "print(f'Median: {median}')\n",
    "print(f'Mode: {mode}')"
   ]
  },
  {
   "cell_type": "code",
   "execution_count": 49,
   "metadata": {},
   "outputs": [
    {
     "data": {
      "image/png": "[encoded data removed]",
      "text/plain": [
       "<Figure size 432x288 with 1 Axes>"
      ]
     },
     "metadata": {
      "needs_background": "light"
     },
     "output_type": "display_data"
    },
    {
     "name": "stdout",
     "output_type": "stream",
     "text": [
      "Mean: 9.080493479928407\n",
      "Median: 10.0\n",
      "Mode: 0    10.0\n",
      "dtype: float64\n"
     ]
    }
   ],
   "source": [
    "#turn precip column into series for hist\n",
    "vis = ca_la[ca_la[\"Visibility(mi)\"] > -89]\n",
    "\n",
    "#reset variable for hist. based on new df\n",
    "vis_hist = vis['Visibility(mi)']\n",
    "\n",
    "#determine hist of precip\n",
    "plt.hist(temp_hist, bins=100)\n",
    "plt.xlabel('Visibility(mi)')\n",
    "plt.ylabel('Count')\n",
    "plt.xticks(rotation=90)\n",
    "plt.show()\n",
    "\n",
    "#determine measures of data\n",
    "mean = vis['Visibility(mi)'].mean()\n",
    "median = vis['Visibility(mi)'].median()\n",
    "mode = vis['Visibility(mi)'].mode()\n",
    "print(f'Mean: {mean}')\n",
    "print(f'Median: {median}')\n",
    "print(f'Mode: {mode}')"
   ]
  },
  {
   "cell_type": "code",
   "execution_count": 6,
   "metadata": {},
   "outputs": [
    {
     "data": {
      "image/png": "[encoded data removed]",
      "text/plain": [
       "<Figure size 432x288 with 1 Axes>"
      ]
     },
     "metadata": {
      "needs_background": "light"
     },
     "output_type": "display_data"
    }
   ],
   "source": [
    "la_spring_dates_df = ca_la[(ca_la['Date'] >= '2019-03-01') & (ca_la['Date'] <= '2019-05-31')]\n",
    "la_summer_dates_df = ca_la[(ca_la['Date'] >= '2019-06-01') & (ca_la['Date'] <= '2019-08-31')]\n",
    "la_fall_dates_df = ca_la[(ca_la['Date'] >= '2019-09-01') & (ca_la['Date'] <= '2019-11-31')]\n",
    "la_winter_dates_1 = ca_la[(ca_la['Date'] >= '2019-12-01') & (ca_la['Date'] <= '2019-12-31')]\n",
    "la_winter_dates_2 = ca_la[(ca_la['Date'] >= '2019-01-01') & (ca_la['Date'] <= '2019-02-28')]\n",
    "la_winter = la_winter_dates_1.append(la_winter_dates_2)\n",
    "la_winter = la_winter.sort_values(by='Date', ascending=True)\n",
    "la_spring_total = la_spring_dates_df['Date'].count()\n",
    "la_summer_total = la_summer_dates_df['Date'].count()\n",
    "la_fall_total = la_fall_dates_df['Date'].count()\n",
    "la_winter_total = la_winter['Date'].count()\n",
    "fig = plt.figure()\n",
    "ax = fig.add_axes([0,0,1,1])\n",
    "label = ['Spring', 'Summer', 'Fall', 'Winter']\n",
    "totals = [la_spring_total, la_summer_total, la_fall_total, la_winter_total]\n",
    "colors = ['green', 'yellow', 'orange', 'lightskyblue']\n",
    "plt.title('Los Angeles, CA Accidents Per Season')\n",
    "plt.xlabel('Season')\n",
    "plt.ylabel('Num of Accidents')\n",
    "ax.bar(label,totals, color = colors)\n",
    "plt.show()"
   ]
  }
 ],
 "metadata": {
  "kernelspec": {
   "display_name": "Python [conda env:pythondata] *",
   "language": "python",
   "name": "conda-env-pythondata-py"
  },
  "language_info": {
   "codemirror_mode": {
    "name": "ipython",
    "version": 3
   },
   "file_extension": ".py",
   "mimetype": "text/x-python",
   "name": "python",
   "nbconvert_exporter": "python",
   "pygments_lexer": "ipython3",
   "version": "3.8.5"
  }
 },
 "nbformat": 4,
 "nbformat_minor": 4
}
