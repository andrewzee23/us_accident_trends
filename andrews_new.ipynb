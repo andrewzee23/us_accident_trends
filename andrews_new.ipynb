{
 "metadata": {
  "language_info": {
   "codemirror_mode": {
    "name": "ipython",
    "version": 3
   },
   "file_extension": ".py",
   "mimetype": "text/x-python",
   "name": "python",
   "nbconvert_exporter": "python",
   "pygments_lexer": "ipython3",
   "version": "3.6.10-final"
  },
  "orig_nbformat": 2,
  "kernelspec": {
   "name": "python_defaultSpec_1598026141961",
   "display_name": "Python 3.6.10 64-bit ('PythonData': conda)"
  }
 },
 "nbformat": 4,
 "nbformat_minor": 2,
 "cells": [
  {
   "cell_type": "code",
   "execution_count": 55,
   "metadata": {},
   "outputs": [],
   "source": [
    "import pandas as pd\n",
    "import csv\n",
    "import json\n",
    "import numpy as np\n",
    "from census import Census\n",
    "import requests\n",
    "from us import states\n",
    "import scipy as sts\n",
    "from matplotlib import pyplot as plt"
   ]
  },
  {
   "cell_type": "code",
   "execution_count": 56,
   "metadata": {},
   "outputs": [
    {
     "output_type": "execute_result",
     "data": {
      "text/plain": "              Date      Time           Start_Time  Start_Lat   Start_Lng  \\\n0       2019-12-26  17:09:52  2019-12-26 17:09:52  40.884850  -95.800362   \n1       2019-12-26  17:10:32  2019-12-26 17:10:32  40.889641  -95.798630   \n2       2019-12-31  23:49:36  2019-12-31 23:49:36  42.313499  -83.091225   \n3       2019-12-31  23:50:02  2019-12-31 23:50:02  42.398125  -83.109009   \n4       2019-12-31  23:29:03  2019-12-31 23:29:03  39.754967  -75.276283   \n...            ...       ...                  ...        ...         ...   \n953728  2019-08-23  18:03:25  2019-08-23 18:03:25  34.002480 -117.379360   \n953729  2019-08-23  19:11:30  2019-08-23 19:11:30  32.766960 -117.148060   \n953730  2019-08-23  19:00:21  2019-08-23 19:00:21  33.775450 -117.847790   \n953731  2019-08-23  19:00:21  2019-08-23 19:00:21  33.992460 -118.403020   \n953732  2019-08-23  18:52:06  2019-08-23 18:52:06  34.133930 -117.230920   \n\n               City State    Weather_Timestamp  Temperature(F)  Wind_Chill(F)  \\\n0           Thurman    IA  2019-12-26 17:15:00            31.0           31.0   \n1           Thurman    IA  2019-12-26 17:15:00            31.0           31.0   \n2           Detroit    MI  2019-12-31 23:53:00            28.0           17.0   \n3           Detroit    MI  2019-12-31 23:53:00            28.0           17.0   \n4        Swedesboro    NJ  2019-12-31 23:54:00            43.0           36.0   \n...             ...   ...                  ...             ...            ...   \n953728    Riverside    CA  2019-08-23 17:53:00            86.0           86.0   \n953729    San Diego    CA  2019-08-23 18:53:00            70.0           70.0   \n953730       Orange    CA  2019-08-23 18:53:00            73.0           73.0   \n953731  Culver City    CA  2019-08-23 18:51:00            71.0           71.0   \n953732     Highland    CA  2019-08-23 20:50:00            79.0           79.0   \n\n        Visibility(mi) Wind_Direction  Wind_Speed(mph)  Precipitation(in)  \\\n0                 10.0           CALM              0.0                0.0   \n1                 10.0           CALM              0.0                0.0   \n2                  7.0            WSW             13.0                0.0   \n3                  7.0            WSW             13.0                0.0   \n4                 10.0            WNW             14.0                0.0   \n...                ...            ...              ...                ...   \n953728            10.0              W             13.0                0.0   \n953729            10.0             SW              6.0                0.0   \n953730            10.0            SSW             10.0                0.0   \n953731            10.0             SW              8.0                0.0   \n953732             7.0             SW              7.0                0.0   \n\n       Weather_Condition  \n0                   Fair  \n1                   Fair  \n2                 Cloudy  \n3                 Cloudy  \n4          Mostly Cloudy  \n...                  ...  \n953728              Fair  \n953729              Fair  \n953730     Partly Cloudy  \n953731              Fair  \n953732              Fair  \n\n[953733 rows x 15 columns]",
      "text/html": "<div>\n<style scoped>\n    .dataframe tbody tr th:only-of-type {\n        vertical-align: middle;\n    }\n\n    .dataframe tbody tr th {\n        vertical-align: top;\n    }\n\n    .dataframe thead th {\n        text-align: right;\n    }\n</style>\n<table border=\"1\" class=\"dataframe\">\n  <thead>\n    <tr style=\"text-align: right;\">\n      <th></th>\n      <th>Date</th>\n      <th>Time</th>\n      <th>Start_Time</th>\n      <th>Start_Lat</th>\n      <th>Start_Lng</th>\n      <th>City</th>\n      <th>State</th>\n      <th>Weather_Timestamp</th>\n      <th>Temperature(F)</th>\n      <th>Wind_Chill(F)</th>\n      <th>Visibility(mi)</th>\n      <th>Wind_Direction</th>\n      <th>Wind_Speed(mph)</th>\n      <th>Precipitation(in)</th>\n      <th>Weather_Condition</th>\n    </tr>\n  </thead>\n  <tbody>\n    <tr>\n      <th>0</th>\n      <td>2019-12-26</td>\n      <td>17:09:52</td>\n      <td>2019-12-26 17:09:52</td>\n      <td>40.884850</td>\n      <td>-95.800362</td>\n      <td>Thurman</td>\n      <td>IA</td>\n      <td>2019-12-26 17:15:00</td>\n      <td>31.0</td>\n      <td>31.0</td>\n      <td>10.0</td>\n      <td>CALM</td>\n      <td>0.0</td>\n      <td>0.0</td>\n      <td>Fair</td>\n    </tr>\n    <tr>\n      <th>1</th>\n      <td>2019-12-26</td>\n      <td>17:10:32</td>\n      <td>2019-12-26 17:10:32</td>\n      <td>40.889641</td>\n      <td>-95.798630</td>\n      <td>Thurman</td>\n      <td>IA</td>\n      <td>2019-12-26 17:15:00</td>\n      <td>31.0</td>\n      <td>31.0</td>\n      <td>10.0</td>\n      <td>CALM</td>\n      <td>0.0</td>\n      <td>0.0</td>\n      <td>Fair</td>\n    </tr>\n    <tr>\n      <th>2</th>\n      <td>2019-12-31</td>\n      <td>23:49:36</td>\n      <td>2019-12-31 23:49:36</td>\n      <td>42.313499</td>\n      <td>-83.091225</td>\n      <td>Detroit</td>\n      <td>MI</td>\n      <td>2019-12-31 23:53:00</td>\n      <td>28.0</td>\n      <td>17.0</td>\n      <td>7.0</td>\n      <td>WSW</td>\n      <td>13.0</td>\n      <td>0.0</td>\n      <td>Cloudy</td>\n    </tr>\n    <tr>\n      <th>3</th>\n      <td>2019-12-31</td>\n      <td>23:50:02</td>\n      <td>2019-12-31 23:50:02</td>\n      <td>42.398125</td>\n      <td>-83.109009</td>\n      <td>Detroit</td>\n      <td>MI</td>\n      <td>2019-12-31 23:53:00</td>\n      <td>28.0</td>\n      <td>17.0</td>\n      <td>7.0</td>\n      <td>WSW</td>\n      <td>13.0</td>\n      <td>0.0</td>\n      <td>Cloudy</td>\n    </tr>\n    <tr>\n      <th>4</th>\n      <td>2019-12-31</td>\n      <td>23:29:03</td>\n      <td>2019-12-31 23:29:03</td>\n      <td>39.754967</td>\n      <td>-75.276283</td>\n      <td>Swedesboro</td>\n      <td>NJ</td>\n      <td>2019-12-31 23:54:00</td>\n      <td>43.0</td>\n      <td>36.0</td>\n      <td>10.0</td>\n      <td>WNW</td>\n      <td>14.0</td>\n      <td>0.0</td>\n      <td>Mostly Cloudy</td>\n    </tr>\n    <tr>\n      <th>...</th>\n      <td>...</td>\n      <td>...</td>\n      <td>...</td>\n      <td>...</td>\n      <td>...</td>\n      <td>...</td>\n      <td>...</td>\n      <td>...</td>\n      <td>...</td>\n      <td>...</td>\n      <td>...</td>\n      <td>...</td>\n      <td>...</td>\n      <td>...</td>\n      <td>...</td>\n    </tr>\n    <tr>\n      <th>953728</th>\n      <td>2019-08-23</td>\n      <td>18:03:25</td>\n      <td>2019-08-23 18:03:25</td>\n      <td>34.002480</td>\n      <td>-117.379360</td>\n      <td>Riverside</td>\n      <td>CA</td>\n      <td>2019-08-23 17:53:00</td>\n      <td>86.0</td>\n      <td>86.0</td>\n      <td>10.0</td>\n      <td>W</td>\n      <td>13.0</td>\n      <td>0.0</td>\n      <td>Fair</td>\n    </tr>\n    <tr>\n      <th>953729</th>\n      <td>2019-08-23</td>\n      <td>19:11:30</td>\n      <td>2019-08-23 19:11:30</td>\n      <td>32.766960</td>\n      <td>-117.148060</td>\n      <td>San Diego</td>\n      <td>CA</td>\n      <td>2019-08-23 18:53:00</td>\n      <td>70.0</td>\n      <td>70.0</td>\n      <td>10.0</td>\n      <td>SW</td>\n      <td>6.0</td>\n      <td>0.0</td>\n      <td>Fair</td>\n    </tr>\n    <tr>\n      <th>953730</th>\n      <td>2019-08-23</td>\n      <td>19:00:21</td>\n      <td>2019-08-23 19:00:21</td>\n      <td>33.775450</td>\n      <td>-117.847790</td>\n      <td>Orange</td>\n      <td>CA</td>\n      <td>2019-08-23 18:53:00</td>\n      <td>73.0</td>\n      <td>73.0</td>\n      <td>10.0</td>\n      <td>SSW</td>\n      <td>10.0</td>\n      <td>0.0</td>\n      <td>Partly Cloudy</td>\n    </tr>\n    <tr>\n      <th>953731</th>\n      <td>2019-08-23</td>\n      <td>19:00:21</td>\n      <td>2019-08-23 19:00:21</td>\n      <td>33.992460</td>\n      <td>-118.403020</td>\n      <td>Culver City</td>\n      <td>CA</td>\n      <td>2019-08-23 18:51:00</td>\n      <td>71.0</td>\n      <td>71.0</td>\n      <td>10.0</td>\n      <td>SW</td>\n      <td>8.0</td>\n      <td>0.0</td>\n      <td>Fair</td>\n    </tr>\n    <tr>\n      <th>953732</th>\n      <td>2019-08-23</td>\n      <td>18:52:06</td>\n      <td>2019-08-23 18:52:06</td>\n      <td>34.133930</td>\n      <td>-117.230920</td>\n      <td>Highland</td>\n      <td>CA</td>\n      <td>2019-08-23 20:50:00</td>\n      <td>79.0</td>\n      <td>79.0</td>\n      <td>7.0</td>\n      <td>SW</td>\n      <td>7.0</td>\n      <td>0.0</td>\n      <td>Fair</td>\n    </tr>\n  </tbody>\n</table>\n<p>953733 rows × 15 columns</p>\n</div>"
     },
     "metadata": {},
     "execution_count": 56
    }
   ],
   "source": [
    "file_path = 'final_accident_df.csv'\n",
    "accident_df = pd.read_csv(file_path)\n",
    "accident_df"
   ]
  },
  {
   "cell_type": "code",
   "execution_count": 57,
   "metadata": {},
   "outputs": [
    {
     "output_type": "execute_result",
     "data": {
      "text/plain": "[35459,\n 18754,\n 15049,\n 13943,\n 12766,\n 11393,\n 7873,\n 7006,\n 6585,\n 5974,\n 5863,\n 5797,\n 5667,\n 5188,\n 4960,\n 4956,\n 4848,\n 4834,\n 4663,\n 4471,\n 3547,\n 3404,\n 2977,\n 2950,\n 2609,\n 2205,\n 1697,\n 1500,\n 1492,\n 1335,\n 1197,\n 724,\n 602,\n 508,\n 508,\n 500,\n 477,\n 465,\n 416,\n 346,\n 285,\n 145,\n 128,\n 97,\n 33,\n 30,\n 20,\n 15,\n 5]"
     },
     "metadata": {},
     "execution_count": 57
    }
   ],
   "source": [
    "spring_dates_df = accident_df[(accident_df['Date'] >= '2019-03-01') & (accident_df['Date'] <= '2019-05-31')]\n",
    "spring_count = list(spring_dates_df['State'].value_counts())\n",
    "spring_count"
   ]
  },
  {
   "cell_type": "code",
   "execution_count": 58,
   "metadata": {},
   "outputs": [
    {
     "output_type": "execute_result",
     "data": {
      "text/plain": "[33056,\n 19453,\n 15522,\n 14117,\n 10856,\n 10349,\n 9686,\n 6664,\n 6057,\n 5888,\n 5589,\n 5480,\n 4895,\n 4866,\n 4724,\n 4451,\n 4435,\n 4321,\n 4280,\n 4210,\n 3585,\n 3468,\n 3157,\n 2759,\n 2105,\n 2045,\n 2020,\n 1692,\n 1420,\n 1308,\n 1081,\n 786,\n 725,\n 596,\n 476,\n 445,\n 418,\n 406,\n 400,\n 390,\n 235,\n 205,\n 145,\n 124,\n 53,\n 20,\n 12,\n 4,\n 2]"
     },
     "metadata": {},
     "execution_count": 58
    }
   ],
   "source": [
    "summer_dates_df = accident_df[(accident_df['Date'] >= '2019-06-01') & (accident_df['Date'] <= '2019-08-31')]\n",
    "summer_count = list(summer_dates_df['State'].value_counts())\n",
    "summer_count"
   ]
  },
  {
   "cell_type": "code",
   "execution_count": 59,
   "metadata": {},
   "outputs": [
    {
     "output_type": "execute_result",
     "data": {
      "text/plain": "CA    86691\nTX    21641\nSC    17123\nFL    15550\nNC    11556\nOR    10335\nNY    10245\nMN     9344\nAZ     6668\nUT     5976\nVA     5788\nTN     5270\nPA     5266\nIL     5042\nMI     5036\nGA     5019\nAL     4989\nLA     4924\nCO     4377\nOK     4171\nWA     3782\nOH     3706\nNJ     2852\nMD     2844\nMA     2480\nKY     2132\nMO     2003\nIN     1892\nWI     1843\nCT     1442\nNE      957\nIA      796\nRI      756\nNV      716\nMS      477\nKS      465\nDE      457\nNH      441\nNM      342\nDC      269\nAR      214\nME      138\nID      136\nWV       87\nVT       75\nMT       32\nWY       19\nSD        4\nND        2\nName: State, dtype: int64"
     },
     "metadata": {},
     "execution_count": 59
    }
   ],
   "source": [
    "fall_dates_df = accident_df[(accident_df['Date'] >= '2019-09-01') & (accident_df['Date'] <= '2019-11-31')]\n",
    "fall_count = (fall_dates_df['State'].value_counts())\n",
    "fall_count"
   ]
  },
  {
   "cell_type": "code",
   "execution_count": 60,
   "metadata": {},
   "outputs": [],
   "source": [
    "winter_dates_1 = accident_df[(accident_df['Date'] >= '2019-12-01') & (accident_df['Date'] <= '2019-12-31')]\n",
    "winter_dates_2 = accident_df[(accident_df['Date'] >= '2019-01-01') & (accident_df['Date'] <= '2019-02-28')]\n",
    "winter = winter_dates_1.append(winter_dates_2)\n",
    "winter.sort_values(by='Date', ascending=True)\n",
    "winter_dates = winter['State'].value_counts()\n",
    "winter_count = list(winter_dates)"
   ]
  },
  {
   "cell_type": "code",
   "execution_count": 61,
   "metadata": {},
   "outputs": [],
   "source": [
    "# winter = winter[(winter['Temperature(F)'] >= 3) & (winter['Temperature(F)'] <= 67)]\n",
    "# winter.drop_duplicates(subset='State', inplace=True)\n",
    "# winter.head(10)"
   ]
  },
  {
   "cell_type": "code",
   "execution_count": 62,
   "metadata": {},
   "outputs": [],
   "source": [
    "# spring_dates_df = spring_dates_df[(spring_dates_df['Temperature(F)'] >= 24) & (spring_dates_df['Temperature(F)'] <= 70)]\n",
    "# spring_dates_df.drop_duplicates(subset='State', inplace=True)\n",
    "# spring_dates_df.head(10)\n",
    "# spring_dates_df['State'].unique()"
   ]
  },
  {
   "cell_type": "code",
   "execution_count": 63,
   "metadata": {},
   "outputs": [],
   "source": [
    "# summer_dates_df = summer_dates_df[(summer_dates_df['Temperature(F)'] >= 52) & (summer_dates_df['Temperature(F)'] <= 81)]\n",
    "# summer_dates_df.drop_duplicates(subset='State', inplace=True)\n",
    "# summer_dates_df.head(10)\n",
    "# summer_dates_df['State'].unique()"
   ]
  },
  {
   "cell_type": "code",
   "execution_count": 64,
   "metadata": {},
   "outputs": [],
   "source": [
    "# fall_dates_df = fall_dates_df[(fall_dates_df['Temperature(F)'] >= 27) & (fall_dates_df['Temperature(F)'] <= 73)]\n",
    "# fall_dates_df.drop_duplicates(subset='State', inplace=True)\n",
    "# fall_dates_df.head(10)\n",
    "# fall_dates_df['State'].unique()"
   ]
  },
  {
   "cell_type": "code",
   "execution_count": 65,
   "metadata": {},
   "outputs": [
    {
     "output_type": "execute_result",
     "data": {
      "text/plain": "     Fall  Spring  Summer  Winter\nCA  86691   35459   33056   58156\nTX  21641   18754   19453   18861\nSC  17123   15049   15522   14184\nFL  15550   13943   14117   13808\nNC  11556   12766   10856   13278\nOR  10335   11393   10349   11321\nNY  10245    7873    9686   11307\nMN   9344    7006    6664   10442\nAZ   6668    6585    6057    7020\nUT   5976    5974    5888    6786\nVA   5788    5863    5589    6519\nTN   5270    5797    5480    5720\nPA   5266    5667    4895    5638\nIL   5042    5188    4866    5571\nMI   5036    4960    4724    5529\nGA   5019    4956    4451    5274\nAL   4989    4848    4435    4857\nLA   4924    4834    4321    4611\nCO   4377    4663    4280    4305\nOK   4171    4471    4210    4230\nWA   3782    3547    3585    3818\nOH   3706    3404    3468    3774\nNJ   2852    2977    3157    3473\nMD   2844    2950    2759    3279\nMA   2480    2609    2105    2614\nKY   2132    2205    2045    2495\nMO   2003    1697    2020    2126\nIN   1892    1500    1692    2073\nWI   1843    1492    1420    1516\nCT   1442    1335    1308    1407\nNE    957    1197    1081    1370\nIA    796     724     786     942\nRI    756     602     725     898\nNV    716     508     596     824\nMS    477     508     476     768\nKS    465     500     445     602\nDE    457     477     418     577\nNH    441     465     406     468\nNM    342     416     400     399\nDC    269     346     390     350\nAR    214     285     235     257\nME    138     145     205     176\nID    136     128     145     148\nWV     87      97     124     134\nVT     75      33      53      72\nMT     32      30      20      66\nWY     19      20      12      61\nSD      4      15       4       8\nND      2       5       2       4",
      "text/html": "<div>\n<style scoped>\n    .dataframe tbody tr th:only-of-type {\n        vertical-align: middle;\n    }\n\n    .dataframe tbody tr th {\n        vertical-align: top;\n    }\n\n    .dataframe thead th {\n        text-align: right;\n    }\n</style>\n<table border=\"1\" class=\"dataframe\">\n  <thead>\n    <tr style=\"text-align: right;\">\n      <th></th>\n      <th>Fall</th>\n      <th>Spring</th>\n      <th>Summer</th>\n      <th>Winter</th>\n    </tr>\n  </thead>\n  <tbody>\n    <tr>\n      <th>CA</th>\n      <td>86691</td>\n      <td>35459</td>\n      <td>33056</td>\n      <td>58156</td>\n    </tr>\n    <tr>\n      <th>TX</th>\n      <td>21641</td>\n      <td>18754</td>\n      <td>19453</td>\n      <td>18861</td>\n    </tr>\n    <tr>\n      <th>SC</th>\n      <td>17123</td>\n      <td>15049</td>\n      <td>15522</td>\n      <td>14184</td>\n    </tr>\n    <tr>\n      <th>FL</th>\n      <td>15550</td>\n      <td>13943</td>\n      <td>14117</td>\n      <td>13808</td>\n    </tr>\n    <tr>\n      <th>NC</th>\n      <td>11556</td>\n      <td>12766</td>\n      <td>10856</td>\n      <td>13278</td>\n    </tr>\n    <tr>\n      <th>OR</th>\n      <td>10335</td>\n      <td>11393</td>\n      <td>10349</td>\n      <td>11321</td>\n    </tr>\n    <tr>\n      <th>NY</th>\n      <td>10245</td>\n      <td>7873</td>\n      <td>9686</td>\n      <td>11307</td>\n    </tr>\n    <tr>\n      <th>MN</th>\n      <td>9344</td>\n      <td>7006</td>\n      <td>6664</td>\n      <td>10442</td>\n    </tr>\n    <tr>\n      <th>AZ</th>\n      <td>6668</td>\n      <td>6585</td>\n      <td>6057</td>\n      <td>7020</td>\n    </tr>\n    <tr>\n      <th>UT</th>\n      <td>5976</td>\n      <td>5974</td>\n      <td>5888</td>\n      <td>6786</td>\n    </tr>\n    <tr>\n      <th>VA</th>\n      <td>5788</td>\n      <td>5863</td>\n      <td>5589</td>\n      <td>6519</td>\n    </tr>\n    <tr>\n      <th>TN</th>\n      <td>5270</td>\n      <td>5797</td>\n      <td>5480</td>\n      <td>5720</td>\n    </tr>\n    <tr>\n      <th>PA</th>\n      <td>5266</td>\n      <td>5667</td>\n      <td>4895</td>\n      <td>5638</td>\n    </tr>\n    <tr>\n      <th>IL</th>\n      <td>5042</td>\n      <td>5188</td>\n      <td>4866</td>\n      <td>5571</td>\n    </tr>\n    <tr>\n      <th>MI</th>\n      <td>5036</td>\n      <td>4960</td>\n      <td>4724</td>\n      <td>5529</td>\n    </tr>\n    <tr>\n      <th>GA</th>\n      <td>5019</td>\n      <td>4956</td>\n      <td>4451</td>\n      <td>5274</td>\n    </tr>\n    <tr>\n      <th>AL</th>\n      <td>4989</td>\n      <td>4848</td>\n      <td>4435</td>\n      <td>4857</td>\n    </tr>\n    <tr>\n      <th>LA</th>\n      <td>4924</td>\n      <td>4834</td>\n      <td>4321</td>\n      <td>4611</td>\n    </tr>\n    <tr>\n      <th>CO</th>\n      <td>4377</td>\n      <td>4663</td>\n      <td>4280</td>\n      <td>4305</td>\n    </tr>\n    <tr>\n      <th>OK</th>\n      <td>4171</td>\n      <td>4471</td>\n      <td>4210</td>\n      <td>4230</td>\n    </tr>\n    <tr>\n      <th>WA</th>\n      <td>3782</td>\n      <td>3547</td>\n      <td>3585</td>\n      <td>3818</td>\n    </tr>\n    <tr>\n      <th>OH</th>\n      <td>3706</td>\n      <td>3404</td>\n      <td>3468</td>\n      <td>3774</td>\n    </tr>\n    <tr>\n      <th>NJ</th>\n      <td>2852</td>\n      <td>2977</td>\n      <td>3157</td>\n      <td>3473</td>\n    </tr>\n    <tr>\n      <th>MD</th>\n      <td>2844</td>\n      <td>2950</td>\n      <td>2759</td>\n      <td>3279</td>\n    </tr>\n    <tr>\n      <th>MA</th>\n      <td>2480</td>\n      <td>2609</td>\n      <td>2105</td>\n      <td>2614</td>\n    </tr>\n    <tr>\n      <th>KY</th>\n      <td>2132</td>\n      <td>2205</td>\n      <td>2045</td>\n      <td>2495</td>\n    </tr>\n    <tr>\n      <th>MO</th>\n      <td>2003</td>\n      <td>1697</td>\n      <td>2020</td>\n      <td>2126</td>\n    </tr>\n    <tr>\n      <th>IN</th>\n      <td>1892</td>\n      <td>1500</td>\n      <td>1692</td>\n      <td>2073</td>\n    </tr>\n    <tr>\n      <th>WI</th>\n      <td>1843</td>\n      <td>1492</td>\n      <td>1420</td>\n      <td>1516</td>\n    </tr>\n    <tr>\n      <th>CT</th>\n      <td>1442</td>\n      <td>1335</td>\n      <td>1308</td>\n      <td>1407</td>\n    </tr>\n    <tr>\n      <th>NE</th>\n      <td>957</td>\n      <td>1197</td>\n      <td>1081</td>\n      <td>1370</td>\n    </tr>\n    <tr>\n      <th>IA</th>\n      <td>796</td>\n      <td>724</td>\n      <td>786</td>\n      <td>942</td>\n    </tr>\n    <tr>\n      <th>RI</th>\n      <td>756</td>\n      <td>602</td>\n      <td>725</td>\n      <td>898</td>\n    </tr>\n    <tr>\n      <th>NV</th>\n      <td>716</td>\n      <td>508</td>\n      <td>596</td>\n      <td>824</td>\n    </tr>\n    <tr>\n      <th>MS</th>\n      <td>477</td>\n      <td>508</td>\n      <td>476</td>\n      <td>768</td>\n    </tr>\n    <tr>\n      <th>KS</th>\n      <td>465</td>\n      <td>500</td>\n      <td>445</td>\n      <td>602</td>\n    </tr>\n    <tr>\n      <th>DE</th>\n      <td>457</td>\n      <td>477</td>\n      <td>418</td>\n      <td>577</td>\n    </tr>\n    <tr>\n      <th>NH</th>\n      <td>441</td>\n      <td>465</td>\n      <td>406</td>\n      <td>468</td>\n    </tr>\n    <tr>\n      <th>NM</th>\n      <td>342</td>\n      <td>416</td>\n      <td>400</td>\n      <td>399</td>\n    </tr>\n    <tr>\n      <th>DC</th>\n      <td>269</td>\n      <td>346</td>\n      <td>390</td>\n      <td>350</td>\n    </tr>\n    <tr>\n      <th>AR</th>\n      <td>214</td>\n      <td>285</td>\n      <td>235</td>\n      <td>257</td>\n    </tr>\n    <tr>\n      <th>ME</th>\n      <td>138</td>\n      <td>145</td>\n      <td>205</td>\n      <td>176</td>\n    </tr>\n    <tr>\n      <th>ID</th>\n      <td>136</td>\n      <td>128</td>\n      <td>145</td>\n      <td>148</td>\n    </tr>\n    <tr>\n      <th>WV</th>\n      <td>87</td>\n      <td>97</td>\n      <td>124</td>\n      <td>134</td>\n    </tr>\n    <tr>\n      <th>VT</th>\n      <td>75</td>\n      <td>33</td>\n      <td>53</td>\n      <td>72</td>\n    </tr>\n    <tr>\n      <th>MT</th>\n      <td>32</td>\n      <td>30</td>\n      <td>20</td>\n      <td>66</td>\n    </tr>\n    <tr>\n      <th>WY</th>\n      <td>19</td>\n      <td>20</td>\n      <td>12</td>\n      <td>61</td>\n    </tr>\n    <tr>\n      <th>SD</th>\n      <td>4</td>\n      <td>15</td>\n      <td>4</td>\n      <td>8</td>\n    </tr>\n    <tr>\n      <th>ND</th>\n      <td>2</td>\n      <td>5</td>\n      <td>2</td>\n      <td>4</td>\n    </tr>\n  </tbody>\n</table>\n</div>"
     },
     "metadata": {},
     "execution_count": 65
    }
   ],
   "source": [
    "count_dict = {\n",
    "    'Fall': fall_count,\n",
    "    'Spring': spring_count,\n",
    "    'Summer': summer_count,\n",
    "    'Winter': winter_count,\n",
    "}\n",
    "pd.DataFrame(count_dict)"
   ]
  },
  {
   "cell_type": "code",
   "execution_count": 66,
   "metadata": {},
   "outputs": [
    {
     "output_type": "execute_result",
     "data": {
      "text/plain": "              Date      Time           Start_Time  Start_Lat  Start_Lng  \\\n402977  2019-05-31  04:01:55  2019-05-31 04:01:55  29.442560 -98.638702   \n402978  2019-05-31  04:05:39  2019-05-31 04:05:39  29.315590 -98.592354   \n402979  2019-05-31  04:21:22  2019-05-31 04:21:22  29.319740 -98.532608   \n402980  2019-05-31  05:19:55  2019-05-31 05:19:55  29.416910 -98.542152   \n402981  2019-05-31  06:18:55  2019-05-31 06:18:55  29.464443 -98.404030   \n...            ...       ...                  ...        ...        ...   \n921503  2019-05-31  11:51:49  2019-05-31 11:51:49  32.839720 -97.320210   \n921508  2019-05-31  11:58:34  2019-05-31 11:58:34  32.561550 -97.114350   \n921510  2019-05-31  12:06:02  2019-05-31 12:06:02  32.732600 -97.376090   \n921517  2019-05-31  17:21:53  2019-05-31 17:21:53  32.667390 -96.731970   \n921518  2019-05-31  16:21:02  2019-05-31 16:21:02  32.764500 -96.850750   \n\n               City State    Weather_Timestamp  Temperature(F)  Wind_Chill(F)  \\\n402977  San Antonio    TX  2019-05-31 03:56:00            70.0           70.0   \n402978     Von Ormy    TX  2019-05-31 03:56:00            70.0           70.0   \n402979  San Antonio    TX  2019-05-31 03:56:00            70.0           70.0   \n402980  San Antonio    TX  2019-05-31 04:56:00            68.0           68.0   \n402981  San Antonio    TX  2019-05-31 05:51:00            69.0           69.0   \n...             ...   ...                  ...             ...            ...   \n921503   Fort Worth    TX  2019-05-31 11:53:00            74.0           74.0   \n921508    Mansfield    TX  2019-05-31 11:53:00            71.0           71.0   \n921510   Fort Worth    TX  2019-05-31 11:52:00            75.0           75.0   \n921517       Dallas    TX  2019-05-31 16:53:00            83.0           83.0   \n921518       Dallas    TX  2019-05-31 15:53:00            82.0           82.0   \n\n        Visibility(mi) Wind_Direction  Wind_Speed(mph)  Precipitation(in)  \\\n402977            10.0            WSW              6.0                0.0   \n402978            10.0            WSW              6.0                0.0   \n402979            10.0            WSW              6.0                0.0   \n402980            10.0            NNE              8.0                0.0   \n402981            10.0              N              5.0                0.0   \n...                ...            ...              ...                ...   \n921503            10.0            SSE              8.0                0.0   \n921508            10.0            SSE              6.0                0.0   \n921510            10.0             SE             10.0                0.0   \n921517            10.0             SW              5.0                0.0   \n921518            10.0            WSW              5.0                0.0   \n\n       Weather_Condition  \n402977              Fair  \n402978              Fair  \n402979              Fair  \n402980              Fair  \n402981     Partly Cloudy  \n...                  ...  \n921503              Fair  \n921508              Fair  \n921510              Fair  \n921517              Fair  \n921518              Fair  \n\n[18754 rows x 15 columns]",
      "text/html": "<div>\n<style scoped>\n    .dataframe tbody tr th:only-of-type {\n        vertical-align: middle;\n    }\n\n    .dataframe tbody tr th {\n        vertical-align: top;\n    }\n\n    .dataframe thead th {\n        text-align: right;\n    }\n</style>\n<table border=\"1\" class=\"dataframe\">\n  <thead>\n    <tr style=\"text-align: right;\">\n      <th></th>\n      <th>Date</th>\n      <th>Time</th>\n      <th>Start_Time</th>\n      <th>Start_Lat</th>\n      <th>Start_Lng</th>\n      <th>City</th>\n      <th>State</th>\n      <th>Weather_Timestamp</th>\n      <th>Temperature(F)</th>\n      <th>Wind_Chill(F)</th>\n      <th>Visibility(mi)</th>\n      <th>Wind_Direction</th>\n      <th>Wind_Speed(mph)</th>\n      <th>Precipitation(in)</th>\n      <th>Weather_Condition</th>\n    </tr>\n  </thead>\n  <tbody>\n    <tr>\n      <th>402977</th>\n      <td>2019-05-31</td>\n      <td>04:01:55</td>\n      <td>2019-05-31 04:01:55</td>\n      <td>29.442560</td>\n      <td>-98.638702</td>\n      <td>San Antonio</td>\n      <td>TX</td>\n      <td>2019-05-31 03:56:00</td>\n      <td>70.0</td>\n      <td>70.0</td>\n      <td>10.0</td>\n      <td>WSW</td>\n      <td>6.0</td>\n      <td>0.0</td>\n      <td>Fair</td>\n    </tr>\n    <tr>\n      <th>402978</th>\n      <td>2019-05-31</td>\n      <td>04:05:39</td>\n      <td>2019-05-31 04:05:39</td>\n      <td>29.315590</td>\n      <td>-98.592354</td>\n      <td>Von Ormy</td>\n      <td>TX</td>\n      <td>2019-05-31 03:56:00</td>\n      <td>70.0</td>\n      <td>70.0</td>\n      <td>10.0</td>\n      <td>WSW</td>\n      <td>6.0</td>\n      <td>0.0</td>\n      <td>Fair</td>\n    </tr>\n    <tr>\n      <th>402979</th>\n      <td>2019-05-31</td>\n      <td>04:21:22</td>\n      <td>2019-05-31 04:21:22</td>\n      <td>29.319740</td>\n      <td>-98.532608</td>\n      <td>San Antonio</td>\n      <td>TX</td>\n      <td>2019-05-31 03:56:00</td>\n      <td>70.0</td>\n      <td>70.0</td>\n      <td>10.0</td>\n      <td>WSW</td>\n      <td>6.0</td>\n      <td>0.0</td>\n      <td>Fair</td>\n    </tr>\n    <tr>\n      <th>402980</th>\n      <td>2019-05-31</td>\n      <td>05:19:55</td>\n      <td>2019-05-31 05:19:55</td>\n      <td>29.416910</td>\n      <td>-98.542152</td>\n      <td>San Antonio</td>\n      <td>TX</td>\n      <td>2019-05-31 04:56:00</td>\n      <td>68.0</td>\n      <td>68.0</td>\n      <td>10.0</td>\n      <td>NNE</td>\n      <td>8.0</td>\n      <td>0.0</td>\n      <td>Fair</td>\n    </tr>\n    <tr>\n      <th>402981</th>\n      <td>2019-05-31</td>\n      <td>06:18:55</td>\n      <td>2019-05-31 06:18:55</td>\n      <td>29.464443</td>\n      <td>-98.404030</td>\n      <td>San Antonio</td>\n      <td>TX</td>\n      <td>2019-05-31 05:51:00</td>\n      <td>69.0</td>\n      <td>69.0</td>\n      <td>10.0</td>\n      <td>N</td>\n      <td>5.0</td>\n      <td>0.0</td>\n      <td>Partly Cloudy</td>\n    </tr>\n    <tr>\n      <th>...</th>\n      <td>...</td>\n      <td>...</td>\n      <td>...</td>\n      <td>...</td>\n      <td>...</td>\n      <td>...</td>\n      <td>...</td>\n      <td>...</td>\n      <td>...</td>\n      <td>...</td>\n      <td>...</td>\n      <td>...</td>\n      <td>...</td>\n      <td>...</td>\n      <td>...</td>\n    </tr>\n    <tr>\n      <th>921503</th>\n      <td>2019-05-31</td>\n      <td>11:51:49</td>\n      <td>2019-05-31 11:51:49</td>\n      <td>32.839720</td>\n      <td>-97.320210</td>\n      <td>Fort Worth</td>\n      <td>TX</td>\n      <td>2019-05-31 11:53:00</td>\n      <td>74.0</td>\n      <td>74.0</td>\n      <td>10.0</td>\n      <td>SSE</td>\n      <td>8.0</td>\n      <td>0.0</td>\n      <td>Fair</td>\n    </tr>\n    <tr>\n      <th>921508</th>\n      <td>2019-05-31</td>\n      <td>11:58:34</td>\n      <td>2019-05-31 11:58:34</td>\n      <td>32.561550</td>\n      <td>-97.114350</td>\n      <td>Mansfield</td>\n      <td>TX</td>\n      <td>2019-05-31 11:53:00</td>\n      <td>71.0</td>\n      <td>71.0</td>\n      <td>10.0</td>\n      <td>SSE</td>\n      <td>6.0</td>\n      <td>0.0</td>\n      <td>Fair</td>\n    </tr>\n    <tr>\n      <th>921510</th>\n      <td>2019-05-31</td>\n      <td>12:06:02</td>\n      <td>2019-05-31 12:06:02</td>\n      <td>32.732600</td>\n      <td>-97.376090</td>\n      <td>Fort Worth</td>\n      <td>TX</td>\n      <td>2019-05-31 11:52:00</td>\n      <td>75.0</td>\n      <td>75.0</td>\n      <td>10.0</td>\n      <td>SE</td>\n      <td>10.0</td>\n      <td>0.0</td>\n      <td>Fair</td>\n    </tr>\n    <tr>\n      <th>921517</th>\n      <td>2019-05-31</td>\n      <td>17:21:53</td>\n      <td>2019-05-31 17:21:53</td>\n      <td>32.667390</td>\n      <td>-96.731970</td>\n      <td>Dallas</td>\n      <td>TX</td>\n      <td>2019-05-31 16:53:00</td>\n      <td>83.0</td>\n      <td>83.0</td>\n      <td>10.0</td>\n      <td>SW</td>\n      <td>5.0</td>\n      <td>0.0</td>\n      <td>Fair</td>\n    </tr>\n    <tr>\n      <th>921518</th>\n      <td>2019-05-31</td>\n      <td>16:21:02</td>\n      <td>2019-05-31 16:21:02</td>\n      <td>32.764500</td>\n      <td>-96.850750</td>\n      <td>Dallas</td>\n      <td>TX</td>\n      <td>2019-05-31 15:53:00</td>\n      <td>82.0</td>\n      <td>82.0</td>\n      <td>10.0</td>\n      <td>WSW</td>\n      <td>5.0</td>\n      <td>0.0</td>\n      <td>Fair</td>\n    </tr>\n  </tbody>\n</table>\n<p>18754 rows × 15 columns</p>\n</div>"
     },
     "metadata": {},
     "execution_count": 66
    }
   ],
   "source": [
    "tx_spring = spring_dates_df.loc[spring_dates_df.State == 'TX', : ]\n",
    "tx_spring"
   ]
  },
  {
   "cell_type": "code",
   "execution_count": 67,
   "metadata": {},
   "outputs": [
    {
     "output_type": "execute_result",
     "data": {
      "text/plain": "              Date      Time           Start_Time  Start_Lat  Start_Lng  \\\n207939  2019-08-31  13:04:10  2019-08-31 13:04:10  29.393919 -98.659561   \n207940  2019-08-31  13:11:09  2019-08-31 13:11:09  29.417849 -98.650108   \n207941  2019-08-31  15:24:26  2019-08-31 15:24:26  29.575636 -98.461243   \n207942  2019-08-31  17:24:21  2019-08-31 17:24:21  29.397224 -98.649551   \n207943  2019-08-31  17:27:04  2019-08-31 17:27:04  29.431940 -98.499939   \n...            ...       ...                  ...        ...        ...   \n953465  2019-08-23  13:16:19  2019-08-23 13:16:19  29.749589 -95.456110   \n953466  2019-08-23  13:04:19  2019-08-23 13:04:19  29.778089 -95.373146   \n953467  2019-08-23  13:00:34  2019-08-23 13:00:34  29.774190 -95.320940   \n953469  2019-08-23  16:44:23  2019-08-23 16:44:23  29.941686 -95.295187   \n953470  2019-08-23  17:32:09  2019-08-23 17:32:09  29.971810 -95.562340   \n\n               City State    Weather_Timestamp  Temperature(F)  Wind_Chill(F)  \\\n207939  San Antonio    TX  2019-08-31 12:56:00            91.0           91.0   \n207940  San Antonio    TX  2019-08-31 12:56:00            91.0           91.0   \n207941  San Antonio    TX  2019-08-31 15:51:00            97.0           97.0   \n207942  San Antonio    TX  2019-08-31 16:59:00            98.0           98.0   \n207943  San Antonio    TX  2019-08-31 16:59:00            98.0           98.0   \n...             ...   ...                  ...             ...            ...   \n953465      Houston    TX  2019-08-23 13:13:00            76.0           76.0   \n953466      Houston    TX  2019-08-23 13:00:00            76.0           76.0   \n953467      Houston    TX  2019-08-23 13:00:00            76.0           76.0   \n953469       Humble    TX  2019-08-23 16:53:00            84.0           84.0   \n953470      Houston    TX  2019-08-23 17:53:00            83.0           83.0   \n\n        Visibility(mi) Wind_Direction  Wind_Speed(mph)  Precipitation(in)  \\\n207939            10.0            ENE              7.0               0.00   \n207940            10.0            ENE              7.0               0.00   \n207941            10.0             SE              7.0               0.00   \n207942            10.0            ENE              8.0               0.00   \n207943            10.0            ENE              8.0               0.00   \n...                ...            ...              ...                ...   \n953465             1.0             NE             12.0               0.68   \n953466             0.5            NNE             15.0               0.25   \n953467             0.5            NNE             15.0               0.25   \n953469            10.0             SE             13.0               0.00   \n953470            10.0             SE             12.0               0.00   \n\n       Weather_Condition  \n207939     Partly Cloudy  \n207940     Partly Cloudy  \n207941     Mostly Cloudy  \n207942              Fair  \n207943              Fair  \n...                  ...  \n953465     Heavy T-Storm  \n953466     Heavy T-Storm  \n953467     Heavy T-Storm  \n953469     Mostly Cloudy  \n953470              Fair  \n\n[19453 rows x 15 columns]",
      "text/html": "<div>\n<style scoped>\n    .dataframe tbody tr th:only-of-type {\n        vertical-align: middle;\n    }\n\n    .dataframe tbody tr th {\n        vertical-align: top;\n    }\n\n    .dataframe thead th {\n        text-align: right;\n    }\n</style>\n<table border=\"1\" class=\"dataframe\">\n  <thead>\n    <tr style=\"text-align: right;\">\n      <th></th>\n      <th>Date</th>\n      <th>Time</th>\n      <th>Start_Time</th>\n      <th>Start_Lat</th>\n      <th>Start_Lng</th>\n      <th>City</th>\n      <th>State</th>\n      <th>Weather_Timestamp</th>\n      <th>Temperature(F)</th>\n      <th>Wind_Chill(F)</th>\n      <th>Visibility(mi)</th>\n      <th>Wind_Direction</th>\n      <th>Wind_Speed(mph)</th>\n      <th>Precipitation(in)</th>\n      <th>Weather_Condition</th>\n    </tr>\n  </thead>\n  <tbody>\n    <tr>\n      <th>207939</th>\n      <td>2019-08-31</td>\n      <td>13:04:10</td>\n      <td>2019-08-31 13:04:10</td>\n      <td>29.393919</td>\n      <td>-98.659561</td>\n      <td>San Antonio</td>\n      <td>TX</td>\n      <td>2019-08-31 12:56:00</td>\n      <td>91.0</td>\n      <td>91.0</td>\n      <td>10.0</td>\n      <td>ENE</td>\n      <td>7.0</td>\n      <td>0.00</td>\n      <td>Partly Cloudy</td>\n    </tr>\n    <tr>\n      <th>207940</th>\n      <td>2019-08-31</td>\n      <td>13:11:09</td>\n      <td>2019-08-31 13:11:09</td>\n      <td>29.417849</td>\n      <td>-98.650108</td>\n      <td>San Antonio</td>\n      <td>TX</td>\n      <td>2019-08-31 12:56:00</td>\n      <td>91.0</td>\n      <td>91.0</td>\n      <td>10.0</td>\n      <td>ENE</td>\n      <td>7.0</td>\n      <td>0.00</td>\n      <td>Partly Cloudy</td>\n    </tr>\n    <tr>\n      <th>207941</th>\n      <td>2019-08-31</td>\n      <td>15:24:26</td>\n      <td>2019-08-31 15:24:26</td>\n      <td>29.575636</td>\n      <td>-98.461243</td>\n      <td>San Antonio</td>\n      <td>TX</td>\n      <td>2019-08-31 15:51:00</td>\n      <td>97.0</td>\n      <td>97.0</td>\n      <td>10.0</td>\n      <td>SE</td>\n      <td>7.0</td>\n      <td>0.00</td>\n      <td>Mostly Cloudy</td>\n    </tr>\n    <tr>\n      <th>207942</th>\n      <td>2019-08-31</td>\n      <td>17:24:21</td>\n      <td>2019-08-31 17:24:21</td>\n      <td>29.397224</td>\n      <td>-98.649551</td>\n      <td>San Antonio</td>\n      <td>TX</td>\n      <td>2019-08-31 16:59:00</td>\n      <td>98.0</td>\n      <td>98.0</td>\n      <td>10.0</td>\n      <td>ENE</td>\n      <td>8.0</td>\n      <td>0.00</td>\n      <td>Fair</td>\n    </tr>\n    <tr>\n      <th>207943</th>\n      <td>2019-08-31</td>\n      <td>17:27:04</td>\n      <td>2019-08-31 17:27:04</td>\n      <td>29.431940</td>\n      <td>-98.499939</td>\n      <td>San Antonio</td>\n      <td>TX</td>\n      <td>2019-08-31 16:59:00</td>\n      <td>98.0</td>\n      <td>98.0</td>\n      <td>10.0</td>\n      <td>ENE</td>\n      <td>8.0</td>\n      <td>0.00</td>\n      <td>Fair</td>\n    </tr>\n    <tr>\n      <th>...</th>\n      <td>...</td>\n      <td>...</td>\n      <td>...</td>\n      <td>...</td>\n      <td>...</td>\n      <td>...</td>\n      <td>...</td>\n      <td>...</td>\n      <td>...</td>\n      <td>...</td>\n      <td>...</td>\n      <td>...</td>\n      <td>...</td>\n      <td>...</td>\n      <td>...</td>\n    </tr>\n    <tr>\n      <th>953465</th>\n      <td>2019-08-23</td>\n      <td>13:16:19</td>\n      <td>2019-08-23 13:16:19</td>\n      <td>29.749589</td>\n      <td>-95.456110</td>\n      <td>Houston</td>\n      <td>TX</td>\n      <td>2019-08-23 13:13:00</td>\n      <td>76.0</td>\n      <td>76.0</td>\n      <td>1.0</td>\n      <td>NE</td>\n      <td>12.0</td>\n      <td>0.68</td>\n      <td>Heavy T-Storm</td>\n    </tr>\n    <tr>\n      <th>953466</th>\n      <td>2019-08-23</td>\n      <td>13:04:19</td>\n      <td>2019-08-23 13:04:19</td>\n      <td>29.778089</td>\n      <td>-95.373146</td>\n      <td>Houston</td>\n      <td>TX</td>\n      <td>2019-08-23 13:00:00</td>\n      <td>76.0</td>\n      <td>76.0</td>\n      <td>0.5</td>\n      <td>NNE</td>\n      <td>15.0</td>\n      <td>0.25</td>\n      <td>Heavy T-Storm</td>\n    </tr>\n    <tr>\n      <th>953467</th>\n      <td>2019-08-23</td>\n      <td>13:00:34</td>\n      <td>2019-08-23 13:00:34</td>\n      <td>29.774190</td>\n      <td>-95.320940</td>\n      <td>Houston</td>\n      <td>TX</td>\n      <td>2019-08-23 13:00:00</td>\n      <td>76.0</td>\n      <td>76.0</td>\n      <td>0.5</td>\n      <td>NNE</td>\n      <td>15.0</td>\n      <td>0.25</td>\n      <td>Heavy T-Storm</td>\n    </tr>\n    <tr>\n      <th>953469</th>\n      <td>2019-08-23</td>\n      <td>16:44:23</td>\n      <td>2019-08-23 16:44:23</td>\n      <td>29.941686</td>\n      <td>-95.295187</td>\n      <td>Humble</td>\n      <td>TX</td>\n      <td>2019-08-23 16:53:00</td>\n      <td>84.0</td>\n      <td>84.0</td>\n      <td>10.0</td>\n      <td>SE</td>\n      <td>13.0</td>\n      <td>0.00</td>\n      <td>Mostly Cloudy</td>\n    </tr>\n    <tr>\n      <th>953470</th>\n      <td>2019-08-23</td>\n      <td>17:32:09</td>\n      <td>2019-08-23 17:32:09</td>\n      <td>29.971810</td>\n      <td>-95.562340</td>\n      <td>Houston</td>\n      <td>TX</td>\n      <td>2019-08-23 17:53:00</td>\n      <td>83.0</td>\n      <td>83.0</td>\n      <td>10.0</td>\n      <td>SE</td>\n      <td>12.0</td>\n      <td>0.00</td>\n      <td>Fair</td>\n    </tr>\n  </tbody>\n</table>\n<p>19453 rows × 15 columns</p>\n</div>"
     },
     "metadata": {},
     "execution_count": 67
    }
   ],
   "source": [
    "tx_summer = summer_dates_df.loc[summer_dates_df.State == 'TX', :]\n",
    "tx_summer"
   ]
  },
  {
   "cell_type": "code",
   "execution_count": 68,
   "metadata": {},
   "outputs": [
    {
     "output_type": "execute_result",
     "data": {
      "text/plain": "              Date      Time           Start_Time  Start_Lat  Start_Lng  \\\n57862   2019-10-06  06:05:34  2019-10-06 06:05:34  29.716404 -98.663506   \n57863   2019-10-06  07:59:32  2019-10-06 07:59:32  29.410860 -98.461250   \n57864   2019-10-06  08:55:25  2019-10-06 08:55:25  29.426250 -98.517967   \n57865   2019-10-06  09:35:54  2019-10-06 09:35:54  29.469561 -98.650253   \n57866   2019-10-06  11:18:32  2019-10-06 11:18:32  29.610069 -98.472397   \n...            ...       ...                  ...        ...        ...   \n827268  2019-09-16  17:22:26  2019-09-16 17:22:26  30.407152 -97.674911   \n827269  2019-09-16  18:10:26  2019-09-16 18:10:26  32.676020 -96.857690   \n827272  2019-09-16  17:58:26  2019-09-16 17:58:26  32.669810 -97.363520   \n827273  2019-09-16  21:31:26  2019-09-16 21:31:26  30.348190 -97.712368   \n827274  2019-09-16  21:27:41  2019-09-16 21:27:41  29.992330 -95.424330   \n\n               City State    Weather_Timestamp  Temperature(F)  Wind_Chill(F)  \\\n57862        Boerne    TX  2019-10-06 05:55:00            64.0           64.0   \n57863   San Antonio    TX  2019-10-06 07:53:00            71.0           71.0   \n57864   San Antonio    TX  2019-10-06 08:56:00            77.0           77.0   \n57865   San Antonio    TX  2019-10-06 09:56:00            81.0           81.0   \n57866   San Antonio    TX  2019-10-06 10:51:00            83.0           83.0   \n...             ...   ...                  ...             ...            ...   \n827268       Austin    TX  2019-09-16 17:51:00            96.0           96.0   \n827269       Dallas    TX  2019-09-16 17:53:00            93.0           93.0   \n827272   Fort Worth    TX  2019-09-16 17:46:00            97.0           97.0   \n827273       Austin    TX  2019-09-16 21:51:00            86.0           86.0   \n827274      Houston    TX  2019-09-16 21:53:00            76.0           76.0   \n\n        Visibility(mi) Wind_Direction  Wind_Speed(mph)  Precipitation(in)  \\\n57862             10.0           CALM              0.0                0.0   \n57863             10.0           CALM              0.0                0.0   \n57864             10.0           CALM              0.0                0.0   \n57865             10.0           CALM              0.0                0.0   \n57866             10.0             SE              5.0                0.0   \n...                ...            ...              ...                ...   \n827268            10.0            VAR              7.0                0.0   \n827269            10.0              E             10.0                0.0   \n827272             7.0              E             10.0                0.0   \n827273            10.0            ESE             10.0                0.0   \n827274            10.0             NE              6.0                0.0   \n\n       Weather_Condition  \n57862               Fair  \n57863      Partly Cloudy  \n57864               Fair  \n57865               Fair  \n57866               Fair  \n...                  ...  \n827268              Fair  \n827269     Mostly Cloudy  \n827272     Partly Cloudy  \n827273              Fair  \n827274              Fair  \n\n[21641 rows x 15 columns]",
      "text/html": "<div>\n<style scoped>\n    .dataframe tbody tr th:only-of-type {\n        vertical-align: middle;\n    }\n\n    .dataframe tbody tr th {\n        vertical-align: top;\n    }\n\n    .dataframe thead th {\n        text-align: right;\n    }\n</style>\n<table border=\"1\" class=\"dataframe\">\n  <thead>\n    <tr style=\"text-align: right;\">\n      <th></th>\n      <th>Date</th>\n      <th>Time</th>\n      <th>Start_Time</th>\n      <th>Start_Lat</th>\n      <th>Start_Lng</th>\n      <th>City</th>\n      <th>State</th>\n      <th>Weather_Timestamp</th>\n      <th>Temperature(F)</th>\n      <th>Wind_Chill(F)</th>\n      <th>Visibility(mi)</th>\n      <th>Wind_Direction</th>\n      <th>Wind_Speed(mph)</th>\n      <th>Precipitation(in)</th>\n      <th>Weather_Condition</th>\n    </tr>\n  </thead>\n  <tbody>\n    <tr>\n      <th>57862</th>\n      <td>2019-10-06</td>\n      <td>06:05:34</td>\n      <td>2019-10-06 06:05:34</td>\n      <td>29.716404</td>\n      <td>-98.663506</td>\n      <td>Boerne</td>\n      <td>TX</td>\n      <td>2019-10-06 05:55:00</td>\n      <td>64.0</td>\n      <td>64.0</td>\n      <td>10.0</td>\n      <td>CALM</td>\n      <td>0.0</td>\n      <td>0.0</td>\n      <td>Fair</td>\n    </tr>\n    <tr>\n      <th>57863</th>\n      <td>2019-10-06</td>\n      <td>07:59:32</td>\n      <td>2019-10-06 07:59:32</td>\n      <td>29.410860</td>\n      <td>-98.461250</td>\n      <td>San Antonio</td>\n      <td>TX</td>\n      <td>2019-10-06 07:53:00</td>\n      <td>71.0</td>\n      <td>71.0</td>\n      <td>10.0</td>\n      <td>CALM</td>\n      <td>0.0</td>\n      <td>0.0</td>\n      <td>Partly Cloudy</td>\n    </tr>\n    <tr>\n      <th>57864</th>\n      <td>2019-10-06</td>\n      <td>08:55:25</td>\n      <td>2019-10-06 08:55:25</td>\n      <td>29.426250</td>\n      <td>-98.517967</td>\n      <td>San Antonio</td>\n      <td>TX</td>\n      <td>2019-10-06 08:56:00</td>\n      <td>77.0</td>\n      <td>77.0</td>\n      <td>10.0</td>\n      <td>CALM</td>\n      <td>0.0</td>\n      <td>0.0</td>\n      <td>Fair</td>\n    </tr>\n    <tr>\n      <th>57865</th>\n      <td>2019-10-06</td>\n      <td>09:35:54</td>\n      <td>2019-10-06 09:35:54</td>\n      <td>29.469561</td>\n      <td>-98.650253</td>\n      <td>San Antonio</td>\n      <td>TX</td>\n      <td>2019-10-06 09:56:00</td>\n      <td>81.0</td>\n      <td>81.0</td>\n      <td>10.0</td>\n      <td>CALM</td>\n      <td>0.0</td>\n      <td>0.0</td>\n      <td>Fair</td>\n    </tr>\n    <tr>\n      <th>57866</th>\n      <td>2019-10-06</td>\n      <td>11:18:32</td>\n      <td>2019-10-06 11:18:32</td>\n      <td>29.610069</td>\n      <td>-98.472397</td>\n      <td>San Antonio</td>\n      <td>TX</td>\n      <td>2019-10-06 10:51:00</td>\n      <td>83.0</td>\n      <td>83.0</td>\n      <td>10.0</td>\n      <td>SE</td>\n      <td>5.0</td>\n      <td>0.0</td>\n      <td>Fair</td>\n    </tr>\n    <tr>\n      <th>...</th>\n      <td>...</td>\n      <td>...</td>\n      <td>...</td>\n      <td>...</td>\n      <td>...</td>\n      <td>...</td>\n      <td>...</td>\n      <td>...</td>\n      <td>...</td>\n      <td>...</td>\n      <td>...</td>\n      <td>...</td>\n      <td>...</td>\n      <td>...</td>\n      <td>...</td>\n    </tr>\n    <tr>\n      <th>827268</th>\n      <td>2019-09-16</td>\n      <td>17:22:26</td>\n      <td>2019-09-16 17:22:26</td>\n      <td>30.407152</td>\n      <td>-97.674911</td>\n      <td>Austin</td>\n      <td>TX</td>\n      <td>2019-09-16 17:51:00</td>\n      <td>96.0</td>\n      <td>96.0</td>\n      <td>10.0</td>\n      <td>VAR</td>\n      <td>7.0</td>\n      <td>0.0</td>\n      <td>Fair</td>\n    </tr>\n    <tr>\n      <th>827269</th>\n      <td>2019-09-16</td>\n      <td>18:10:26</td>\n      <td>2019-09-16 18:10:26</td>\n      <td>32.676020</td>\n      <td>-96.857690</td>\n      <td>Dallas</td>\n      <td>TX</td>\n      <td>2019-09-16 17:53:00</td>\n      <td>93.0</td>\n      <td>93.0</td>\n      <td>10.0</td>\n      <td>E</td>\n      <td>10.0</td>\n      <td>0.0</td>\n      <td>Mostly Cloudy</td>\n    </tr>\n    <tr>\n      <th>827272</th>\n      <td>2019-09-16</td>\n      <td>17:58:26</td>\n      <td>2019-09-16 17:58:26</td>\n      <td>32.669810</td>\n      <td>-97.363520</td>\n      <td>Fort Worth</td>\n      <td>TX</td>\n      <td>2019-09-16 17:46:00</td>\n      <td>97.0</td>\n      <td>97.0</td>\n      <td>7.0</td>\n      <td>E</td>\n      <td>10.0</td>\n      <td>0.0</td>\n      <td>Partly Cloudy</td>\n    </tr>\n    <tr>\n      <th>827273</th>\n      <td>2019-09-16</td>\n      <td>21:31:26</td>\n      <td>2019-09-16 21:31:26</td>\n      <td>30.348190</td>\n      <td>-97.712368</td>\n      <td>Austin</td>\n      <td>TX</td>\n      <td>2019-09-16 21:51:00</td>\n      <td>86.0</td>\n      <td>86.0</td>\n      <td>10.0</td>\n      <td>ESE</td>\n      <td>10.0</td>\n      <td>0.0</td>\n      <td>Fair</td>\n    </tr>\n    <tr>\n      <th>827274</th>\n      <td>2019-09-16</td>\n      <td>21:27:41</td>\n      <td>2019-09-16 21:27:41</td>\n      <td>29.992330</td>\n      <td>-95.424330</td>\n      <td>Houston</td>\n      <td>TX</td>\n      <td>2019-09-16 21:53:00</td>\n      <td>76.0</td>\n      <td>76.0</td>\n      <td>10.0</td>\n      <td>NE</td>\n      <td>6.0</td>\n      <td>0.0</td>\n      <td>Fair</td>\n    </tr>\n  </tbody>\n</table>\n<p>21641 rows × 15 columns</p>\n</div>"
     },
     "metadata": {},
     "execution_count": 68
    }
   ],
   "source": [
    "tx_fall = fall_dates_df.loc[fall_dates_df.State == 'TX', :]\n",
    "tx_fall"
   ]
  },
  {
   "cell_type": "code",
   "execution_count": 69,
   "metadata": {},
   "outputs": [
    {
     "output_type": "execute_result",
     "data": {
      "text/plain": "              Date      Time           Start_Time  Start_Lat   Start_Lng  \\\n265     2019-12-25  03:02:11  2019-12-25 03:02:11  29.419821  -98.536057   \n266     2019-12-25  06:16:34  2019-12-25 06:16:34  29.591667  -98.352081   \n267     2019-12-25  19:16:43  2019-12-25 19:16:43  29.423311  -98.422562   \n268     2019-12-25  00:16:20  2019-12-25 00:16:20  30.176735  -97.638504   \n269     2019-12-25  00:57:57  2019-12-25 00:57:57  30.423965  -97.588974   \n...            ...       ...                  ...        ...         ...   \n878423  2019-01-30  10:25:33  2019-01-30 10:25:33  29.673670  -95.381850   \n878427  2019-01-30  14:20:03  2019-01-30 14:20:03  29.773250  -95.340410   \n878430  2019-01-30  15:14:46  2019-01-30 15:14:46  29.707660  -95.228180   \n878432  2019-01-30  16:57:35  2019-01-30 16:57:35  30.192010  -95.191420   \n878491  2019-01-30  07:05:41  2019-01-30 07:05:41  31.777370 -106.433030   \n\n                City State    Weather_Timestamp  Temperature(F)  \\\n265      San Antonio    TX  2019-12-25 02:56:00            46.0   \n266      San Antonio    TX  2019-12-25 06:16:00            43.0   \n267      San Antonio    TX  2019-12-25 18:53:00            64.0   \n268        Del Valle    TX  2019-12-25 00:53:00            48.0   \n269     Pflugerville    TX  2019-12-25 00:55:00            48.0   \n...              ...   ...                  ...             ...   \n878423       Houston    TX  2019-01-30 10:15:00            46.4   \n878427       Houston    TX  2019-01-30 14:15:00            51.8   \n878430      Pasadena    TX  2019-01-30 14:53:00            50.0   \n878432     New Caney    TX  2019-01-30 16:53:00            50.0   \n878491       El Paso    TX  2019-01-30 06:51:00            41.0   \n\n        Wind_Chill(F)  Visibility(mi) Wind_Direction  Wind_Speed(mph)  \\\n265              46.0            8.00           CALM              0.0   \n266              40.0            0.63            NNW              5.0   \n267              64.0           10.00            ESE              6.0   \n268              46.0           10.00            SSW              5.0   \n269              45.0           10.00            SSW              8.0   \n...               ...             ...            ...              ...   \n878423           40.1           10.00             NE             15.0   \n878427            NaN           10.00           Calm              NaN   \n878430            NaN           10.00           East              9.2   \n878432            NaN           10.00             SE             13.8   \n878491           35.2           10.00          North              9.2   \n\n        Precipitation(in) Weather_Condition  \n265                   0.0              Fair  \n266                   0.0               Fog  \n267                   0.0     Mostly Cloudy  \n268                   0.0              Fair  \n269                   0.0              Fair  \n...                   ...               ...  \n878423                NaN  Scattered Clouds  \n878427                NaN          Overcast  \n878430                NaN          Overcast  \n878432                NaN     Mostly Cloudy  \n878491                NaN          Overcast  \n\n[18861 rows x 15 columns]",
      "text/html": "<div>\n<style scoped>\n    .dataframe tbody tr th:only-of-type {\n        vertical-align: middle;\n    }\n\n    .dataframe tbody tr th {\n        vertical-align: top;\n    }\n\n    .dataframe thead th {\n        text-align: right;\n    }\n</style>\n<table border=\"1\" class=\"dataframe\">\n  <thead>\n    <tr style=\"text-align: right;\">\n      <th></th>\n      <th>Date</th>\n      <th>Time</th>\n      <th>Start_Time</th>\n      <th>Start_Lat</th>\n      <th>Start_Lng</th>\n      <th>City</th>\n      <th>State</th>\n      <th>Weather_Timestamp</th>\n      <th>Temperature(F)</th>\n      <th>Wind_Chill(F)</th>\n      <th>Visibility(mi)</th>\n      <th>Wind_Direction</th>\n      <th>Wind_Speed(mph)</th>\n      <th>Precipitation(in)</th>\n      <th>Weather_Condition</th>\n    </tr>\n  </thead>\n  <tbody>\n    <tr>\n      <th>265</th>\n      <td>2019-12-25</td>\n      <td>03:02:11</td>\n      <td>2019-12-25 03:02:11</td>\n      <td>29.419821</td>\n      <td>-98.536057</td>\n      <td>San Antonio</td>\n      <td>TX</td>\n      <td>2019-12-25 02:56:00</td>\n      <td>46.0</td>\n      <td>46.0</td>\n      <td>8.00</td>\n      <td>CALM</td>\n      <td>0.0</td>\n      <td>0.0</td>\n      <td>Fair</td>\n    </tr>\n    <tr>\n      <th>266</th>\n      <td>2019-12-25</td>\n      <td>06:16:34</td>\n      <td>2019-12-25 06:16:34</td>\n      <td>29.591667</td>\n      <td>-98.352081</td>\n      <td>San Antonio</td>\n      <td>TX</td>\n      <td>2019-12-25 06:16:00</td>\n      <td>43.0</td>\n      <td>40.0</td>\n      <td>0.63</td>\n      <td>NNW</td>\n      <td>5.0</td>\n      <td>0.0</td>\n      <td>Fog</td>\n    </tr>\n    <tr>\n      <th>267</th>\n      <td>2019-12-25</td>\n      <td>19:16:43</td>\n      <td>2019-12-25 19:16:43</td>\n      <td>29.423311</td>\n      <td>-98.422562</td>\n      <td>San Antonio</td>\n      <td>TX</td>\n      <td>2019-12-25 18:53:00</td>\n      <td>64.0</td>\n      <td>64.0</td>\n      <td>10.00</td>\n      <td>ESE</td>\n      <td>6.0</td>\n      <td>0.0</td>\n      <td>Mostly Cloudy</td>\n    </tr>\n    <tr>\n      <th>268</th>\n      <td>2019-12-25</td>\n      <td>00:16:20</td>\n      <td>2019-12-25 00:16:20</td>\n      <td>30.176735</td>\n      <td>-97.638504</td>\n      <td>Del Valle</td>\n      <td>TX</td>\n      <td>2019-12-25 00:53:00</td>\n      <td>48.0</td>\n      <td>46.0</td>\n      <td>10.00</td>\n      <td>SSW</td>\n      <td>5.0</td>\n      <td>0.0</td>\n      <td>Fair</td>\n    </tr>\n    <tr>\n      <th>269</th>\n      <td>2019-12-25</td>\n      <td>00:57:57</td>\n      <td>2019-12-25 00:57:57</td>\n      <td>30.423965</td>\n      <td>-97.588974</td>\n      <td>Pflugerville</td>\n      <td>TX</td>\n      <td>2019-12-25 00:55:00</td>\n      <td>48.0</td>\n      <td>45.0</td>\n      <td>10.00</td>\n      <td>SSW</td>\n      <td>8.0</td>\n      <td>0.0</td>\n      <td>Fair</td>\n    </tr>\n    <tr>\n      <th>...</th>\n      <td>...</td>\n      <td>...</td>\n      <td>...</td>\n      <td>...</td>\n      <td>...</td>\n      <td>...</td>\n      <td>...</td>\n      <td>...</td>\n      <td>...</td>\n      <td>...</td>\n      <td>...</td>\n      <td>...</td>\n      <td>...</td>\n      <td>...</td>\n      <td>...</td>\n    </tr>\n    <tr>\n      <th>878423</th>\n      <td>2019-01-30</td>\n      <td>10:25:33</td>\n      <td>2019-01-30 10:25:33</td>\n      <td>29.673670</td>\n      <td>-95.381850</td>\n      <td>Houston</td>\n      <td>TX</td>\n      <td>2019-01-30 10:15:00</td>\n      <td>46.4</td>\n      <td>40.1</td>\n      <td>10.00</td>\n      <td>NE</td>\n      <td>15.0</td>\n      <td>NaN</td>\n      <td>Scattered Clouds</td>\n    </tr>\n    <tr>\n      <th>878427</th>\n      <td>2019-01-30</td>\n      <td>14:20:03</td>\n      <td>2019-01-30 14:20:03</td>\n      <td>29.773250</td>\n      <td>-95.340410</td>\n      <td>Houston</td>\n      <td>TX</td>\n      <td>2019-01-30 14:15:00</td>\n      <td>51.8</td>\n      <td>NaN</td>\n      <td>10.00</td>\n      <td>Calm</td>\n      <td>NaN</td>\n      <td>NaN</td>\n      <td>Overcast</td>\n    </tr>\n    <tr>\n      <th>878430</th>\n      <td>2019-01-30</td>\n      <td>15:14:46</td>\n      <td>2019-01-30 15:14:46</td>\n      <td>29.707660</td>\n      <td>-95.228180</td>\n      <td>Pasadena</td>\n      <td>TX</td>\n      <td>2019-01-30 14:53:00</td>\n      <td>50.0</td>\n      <td>NaN</td>\n      <td>10.00</td>\n      <td>East</td>\n      <td>9.2</td>\n      <td>NaN</td>\n      <td>Overcast</td>\n    </tr>\n    <tr>\n      <th>878432</th>\n      <td>2019-01-30</td>\n      <td>16:57:35</td>\n      <td>2019-01-30 16:57:35</td>\n      <td>30.192010</td>\n      <td>-95.191420</td>\n      <td>New Caney</td>\n      <td>TX</td>\n      <td>2019-01-30 16:53:00</td>\n      <td>50.0</td>\n      <td>NaN</td>\n      <td>10.00</td>\n      <td>SE</td>\n      <td>13.8</td>\n      <td>NaN</td>\n      <td>Mostly Cloudy</td>\n    </tr>\n    <tr>\n      <th>878491</th>\n      <td>2019-01-30</td>\n      <td>07:05:41</td>\n      <td>2019-01-30 07:05:41</td>\n      <td>31.777370</td>\n      <td>-106.433030</td>\n      <td>El Paso</td>\n      <td>TX</td>\n      <td>2019-01-30 06:51:00</td>\n      <td>41.0</td>\n      <td>35.2</td>\n      <td>10.00</td>\n      <td>North</td>\n      <td>9.2</td>\n      <td>NaN</td>\n      <td>Overcast</td>\n    </tr>\n  </tbody>\n</table>\n<p>18861 rows × 15 columns</p>\n</div>"
     },
     "metadata": {},
     "execution_count": 69
    }
   ],
   "source": [
    "tx_winter = winter.loc[winter.State == 'TX', :]\n",
    "tx_winter"
   ]
  },
  {
   "cell_type": "code",
   "execution_count": 70,
   "metadata": {},
   "outputs": [
    {
     "output_type": "execute_result",
     "data": {
      "text/plain": "              Date      Time           Start_Time  Start_Lat  Start_Lng  \\\n265     2019-12-25  03:02:11  2019-12-25 03:02:11  29.419821 -98.536057   \n266     2019-12-25  06:16:34  2019-12-25 06:16:34  29.591667 -98.352081   \n267     2019-12-25  19:16:43  2019-12-25 19:16:43  29.423311 -98.422562   \n268     2019-12-25  00:16:20  2019-12-25 00:16:20  30.176735 -97.638504   \n269     2019-12-25  00:57:57  2019-12-25 00:57:57  30.423965 -97.588974   \n...            ...       ...                  ...        ...        ...   \n953465  2019-08-23  13:16:19  2019-08-23 13:16:19  29.749589 -95.456110   \n953466  2019-08-23  13:04:19  2019-08-23 13:04:19  29.778089 -95.373146   \n953467  2019-08-23  13:00:34  2019-08-23 13:00:34  29.774190 -95.320940   \n953469  2019-08-23  16:44:23  2019-08-23 16:44:23  29.941686 -95.295187   \n953470  2019-08-23  17:32:09  2019-08-23 17:32:09  29.971810 -95.562340   \n\n                City State    Weather_Timestamp  Temperature(F)  \\\n265      San Antonio    TX  2019-12-25 02:56:00            46.0   \n266      San Antonio    TX  2019-12-25 06:16:00            43.0   \n267      San Antonio    TX  2019-12-25 18:53:00            64.0   \n268        Del Valle    TX  2019-12-25 00:53:00            48.0   \n269     Pflugerville    TX  2019-12-25 00:55:00            48.0   \n...              ...   ...                  ...             ...   \n953465       Houston    TX  2019-08-23 13:13:00            76.0   \n953466       Houston    TX  2019-08-23 13:00:00            76.0   \n953467       Houston    TX  2019-08-23 13:00:00            76.0   \n953469        Humble    TX  2019-08-23 16:53:00            84.0   \n953470       Houston    TX  2019-08-23 17:53:00            83.0   \n\n        Wind_Chill(F)  Visibility(mi) Wind_Direction  Wind_Speed(mph)  \\\n265              46.0            8.00           CALM              0.0   \n266              40.0            0.63            NNW              5.0   \n267              64.0           10.00            ESE              6.0   \n268              46.0           10.00            SSW              5.0   \n269              45.0           10.00            SSW              8.0   \n...               ...             ...            ...              ...   \n953465           76.0            1.00             NE             12.0   \n953466           76.0            0.50            NNE             15.0   \n953467           76.0            0.50            NNE             15.0   \n953469           84.0           10.00             SE             13.0   \n953470           83.0           10.00             SE             12.0   \n\n        Precipitation(in) Weather_Condition  \n265                  0.00              Fair  \n266                  0.00               Fog  \n267                  0.00     Mostly Cloudy  \n268                  0.00              Fair  \n269                  0.00              Fair  \n...                   ...               ...  \n953465               0.68     Heavy T-Storm  \n953466               0.25     Heavy T-Storm  \n953467               0.25     Heavy T-Storm  \n953469               0.00     Mostly Cloudy  \n953470               0.00              Fair  \n\n[78709 rows x 15 columns]",
      "text/html": "<div>\n<style scoped>\n    .dataframe tbody tr th:only-of-type {\n        vertical-align: middle;\n    }\n\n    .dataframe tbody tr th {\n        vertical-align: top;\n    }\n\n    .dataframe thead th {\n        text-align: right;\n    }\n</style>\n<table border=\"1\" class=\"dataframe\">\n  <thead>\n    <tr style=\"text-align: right;\">\n      <th></th>\n      <th>Date</th>\n      <th>Time</th>\n      <th>Start_Time</th>\n      <th>Start_Lat</th>\n      <th>Start_Lng</th>\n      <th>City</th>\n      <th>State</th>\n      <th>Weather_Timestamp</th>\n      <th>Temperature(F)</th>\n      <th>Wind_Chill(F)</th>\n      <th>Visibility(mi)</th>\n      <th>Wind_Direction</th>\n      <th>Wind_Speed(mph)</th>\n      <th>Precipitation(in)</th>\n      <th>Weather_Condition</th>\n    </tr>\n  </thead>\n  <tbody>\n    <tr>\n      <th>265</th>\n      <td>2019-12-25</td>\n      <td>03:02:11</td>\n      <td>2019-12-25 03:02:11</td>\n      <td>29.419821</td>\n      <td>-98.536057</td>\n      <td>San Antonio</td>\n      <td>TX</td>\n      <td>2019-12-25 02:56:00</td>\n      <td>46.0</td>\n      <td>46.0</td>\n      <td>8.00</td>\n      <td>CALM</td>\n      <td>0.0</td>\n      <td>0.00</td>\n      <td>Fair</td>\n    </tr>\n    <tr>\n      <th>266</th>\n      <td>2019-12-25</td>\n      <td>06:16:34</td>\n      <td>2019-12-25 06:16:34</td>\n      <td>29.591667</td>\n      <td>-98.352081</td>\n      <td>San Antonio</td>\n      <td>TX</td>\n      <td>2019-12-25 06:16:00</td>\n      <td>43.0</td>\n      <td>40.0</td>\n      <td>0.63</td>\n      <td>NNW</td>\n      <td>5.0</td>\n      <td>0.00</td>\n      <td>Fog</td>\n    </tr>\n    <tr>\n      <th>267</th>\n      <td>2019-12-25</td>\n      <td>19:16:43</td>\n      <td>2019-12-25 19:16:43</td>\n      <td>29.423311</td>\n      <td>-98.422562</td>\n      <td>San Antonio</td>\n      <td>TX</td>\n      <td>2019-12-25 18:53:00</td>\n      <td>64.0</td>\n      <td>64.0</td>\n      <td>10.00</td>\n      <td>ESE</td>\n      <td>6.0</td>\n      <td>0.00</td>\n      <td>Mostly Cloudy</td>\n    </tr>\n    <tr>\n      <th>268</th>\n      <td>2019-12-25</td>\n      <td>00:16:20</td>\n      <td>2019-12-25 00:16:20</td>\n      <td>30.176735</td>\n      <td>-97.638504</td>\n      <td>Del Valle</td>\n      <td>TX</td>\n      <td>2019-12-25 00:53:00</td>\n      <td>48.0</td>\n      <td>46.0</td>\n      <td>10.00</td>\n      <td>SSW</td>\n      <td>5.0</td>\n      <td>0.00</td>\n      <td>Fair</td>\n    </tr>\n    <tr>\n      <th>269</th>\n      <td>2019-12-25</td>\n      <td>00:57:57</td>\n      <td>2019-12-25 00:57:57</td>\n      <td>30.423965</td>\n      <td>-97.588974</td>\n      <td>Pflugerville</td>\n      <td>TX</td>\n      <td>2019-12-25 00:55:00</td>\n      <td>48.0</td>\n      <td>45.0</td>\n      <td>10.00</td>\n      <td>SSW</td>\n      <td>8.0</td>\n      <td>0.00</td>\n      <td>Fair</td>\n    </tr>\n    <tr>\n      <th>...</th>\n      <td>...</td>\n      <td>...</td>\n      <td>...</td>\n      <td>...</td>\n      <td>...</td>\n      <td>...</td>\n      <td>...</td>\n      <td>...</td>\n      <td>...</td>\n      <td>...</td>\n      <td>...</td>\n      <td>...</td>\n      <td>...</td>\n      <td>...</td>\n      <td>...</td>\n    </tr>\n    <tr>\n      <th>953465</th>\n      <td>2019-08-23</td>\n      <td>13:16:19</td>\n      <td>2019-08-23 13:16:19</td>\n      <td>29.749589</td>\n      <td>-95.456110</td>\n      <td>Houston</td>\n      <td>TX</td>\n      <td>2019-08-23 13:13:00</td>\n      <td>76.0</td>\n      <td>76.0</td>\n      <td>1.00</td>\n      <td>NE</td>\n      <td>12.0</td>\n      <td>0.68</td>\n      <td>Heavy T-Storm</td>\n    </tr>\n    <tr>\n      <th>953466</th>\n      <td>2019-08-23</td>\n      <td>13:04:19</td>\n      <td>2019-08-23 13:04:19</td>\n      <td>29.778089</td>\n      <td>-95.373146</td>\n      <td>Houston</td>\n      <td>TX</td>\n      <td>2019-08-23 13:00:00</td>\n      <td>76.0</td>\n      <td>76.0</td>\n      <td>0.50</td>\n      <td>NNE</td>\n      <td>15.0</td>\n      <td>0.25</td>\n      <td>Heavy T-Storm</td>\n    </tr>\n    <tr>\n      <th>953467</th>\n      <td>2019-08-23</td>\n      <td>13:00:34</td>\n      <td>2019-08-23 13:00:34</td>\n      <td>29.774190</td>\n      <td>-95.320940</td>\n      <td>Houston</td>\n      <td>TX</td>\n      <td>2019-08-23 13:00:00</td>\n      <td>76.0</td>\n      <td>76.0</td>\n      <td>0.50</td>\n      <td>NNE</td>\n      <td>15.0</td>\n      <td>0.25</td>\n      <td>Heavy T-Storm</td>\n    </tr>\n    <tr>\n      <th>953469</th>\n      <td>2019-08-23</td>\n      <td>16:44:23</td>\n      <td>2019-08-23 16:44:23</td>\n      <td>29.941686</td>\n      <td>-95.295187</td>\n      <td>Humble</td>\n      <td>TX</td>\n      <td>2019-08-23 16:53:00</td>\n      <td>84.0</td>\n      <td>84.0</td>\n      <td>10.00</td>\n      <td>SE</td>\n      <td>13.0</td>\n      <td>0.00</td>\n      <td>Mostly Cloudy</td>\n    </tr>\n    <tr>\n      <th>953470</th>\n      <td>2019-08-23</td>\n      <td>17:32:09</td>\n      <td>2019-08-23 17:32:09</td>\n      <td>29.971810</td>\n      <td>-95.562340</td>\n      <td>Houston</td>\n      <td>TX</td>\n      <td>2019-08-23 17:53:00</td>\n      <td>83.0</td>\n      <td>83.0</td>\n      <td>10.00</td>\n      <td>SE</td>\n      <td>12.0</td>\n      <td>0.00</td>\n      <td>Fair</td>\n    </tr>\n  </tbody>\n</table>\n<p>78709 rows × 15 columns</p>\n</div>"
     },
     "metadata": {},
     "execution_count": 70
    }
   ],
   "source": [
    "tx_total = accident_df.loc[accident_df.State == 'TX', :]\n",
    "tx_total"
   ]
  },
  {
   "cell_type": "code",
   "execution_count": 77,
   "metadata": {},
   "outputs": [],
   "source": [
    "tx_array = tx_total['Temperature(F)']\n",
    "us_array = np.array([accident_df['Temperature(F)']])"
   ]
  },
  {
   "cell_type": "code",
   "execution_count": 81,
   "metadata": {},
   "outputs": [
    {
     "output_type": "execute_result",
     "data": {
      "text/plain": "78709"
     },
     "metadata": {},
     "execution_count": 81
    }
   ],
   "source": [
    "len(tx_array)\n",
    "# population = us_array\n",
    "# sample = tx_array\n",
    "\n",
    "# plt.scatter(range(len(population)), population, label='population')\n",
    "# plt.scatter(range(len(sample)), sample, label='sample')\n",
    "# plt.legend()"
   ]
  },
  {
   "cell_type": "code",
   "execution_count": null,
   "metadata": {},
   "outputs": [],
   "source": []
  },
  {
   "cell_type": "code",
   "execution_count": null,
   "metadata": {},
   "outputs": [],
   "source": []
  }
 ]
}